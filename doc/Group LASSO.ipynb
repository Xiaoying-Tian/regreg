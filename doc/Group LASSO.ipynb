{
 "metadata": {
  "name": "Group LASSO"
 },
 "nbformat": 3,
 "worksheets": [
  {
   "cells": [
    {
     "cell_type": "heading",
     "level": 1,
     "source": [
      "The group LASSO for least squares"
     ]
    },
    {
     "cell_type": "markdown",
     "source": [
      "This notebook provides some ways to solve the group LASSO problem",
      "$$",
      "\\frac{1}{2} \\|Y-X\\beta\\|^2_2 + \\lambda \\sum_i \\|\\beta[g_i]\\|_2",
      "$$",
      "where $g_i$ are pairwise distinct subsets of $\\{1, \\dots, p\\}$.",
      ""
     ]
    },
    {
     "cell_type": "code",
     "collapsed": false,
     "input": [
      "# third party imports",
      "import numpy as np",
      "import pylab",
      "from scipy import sparse",
      " ",
      "# the regreg import",
      "import regreg.api as rr"
     ],
     "language": "python",
     "outputs": [],
     "prompt_number": 1
    },
    {
     "cell_type": "markdown",
     "source": [
      "",
      "We will use the CGH data from the R package cghFLasso. You will have to have installed the package 'cghFLasso' in R, as well as installed rpy2.",
      "",
      ""
     ]
    },
    {
     "cell_type": "code",
     "collapsed": false,
     "input": [
      "import rpy2.robjects as ri",
      "ri.r(''' ",
      "library(gglasso)",
      "data(bardet)",
      "''')",
      "Y = np.array(ri.r('bardet$y'))",
      "X = np.array(ri.r('bardet$x'))",
      "X -= X.mean(0)[np.newaxis,:]",
      "n, p = X.shape",
      "loss = rr.squared_error(X, Y, coef=1./n)",
      "print X.shape, Y.shape"
     ],
     "language": "python",
     "outputs": [
      {
       "output_type": "stream",
       "stream": "stdout",
       "text": [
        "(120, 100) (120,)",
        ""
       ]
      }
     ],
     "prompt_number": 2
    },
    {
     "cell_type": "code",
     "collapsed": false,
     "input": [
      "lagrange_g=0.0001",
      "groups = [slice(i,100,20) for i in range(20)]",
      "idx = np.arange(p)",
      "penalty = rr.separable((100,), [rr.l2norm(idx[g].shape, lagrange=lagrange_g) for g in groups], groups)",
      ""
     ],
     "language": "python",
     "outputs": [],
     "prompt_number": 3
    },
    {
     "cell_type": "markdown",
     "source": [
      "It is useful to have a global Lipschitz constant to start the algorithm so the backtracking step",
      " does not have a long search. For least squares we can take",
      "",
      "$$",
      "\\|\\nabla {\\mathcal L}\\|_{\\mathrm{Lip}} = \\frac{1}{n}\\|X\\|_{\\mathrm{op}}^2",
      "$$"
     ]
    },
    {
     "cell_type": "code",
     "collapsed": true,
     "input": [
      "lipschitz = rr.power_L(X)**2 / n"
     ],
     "language": "python",
     "outputs": [],
     "prompt_number": 4
    },
    {
     "cell_type": "markdown",
     "source": [
      "We are all set to specify the problem and solve it. This is a \"simple\" problem in that its proximal",
      " operator is separable. It can be specified with the \"simple_problem\" class."
     ]
    },
    {
     "cell_type": "code",
     "collapsed": false,
     "input": [
      "problem = rr.simple_problem(loss, penalty)",
      "coefs = problem.solve(start_inv_step=lipschitz, tol=1.e-12)",
      "print coefs[groups[0]]",
      "coefs = problem.solve(start_inv_step=lipschitz, tol=1.e-12).copy()"
     ],
     "language": "python",
     "outputs": [
      {
       "output_type": "stream",
       "stream": "stdout",
       "text": [
        "[-0.09099328 -0.03608016  0.00543688 -0.00013881 -0.00531017]",
        ""
       ]
      }
     ],
     "prompt_number": 5
    },
    {
     "cell_type": "markdown",
     "source": [
      "The problem could also be solved by a straightforward generalized gradient algorithm that does no backtracking. This generally does not work as well because the global Lipschitz constant is much larger than it has to be. To be fair ",
      "to FISTA, we will set the penalty.coefs to 0, as these are currently saved at the current solution. The gengrad class uses a stopping rule based on change in the objective value unless the optional argument \"coef_stop\" is True. ",
      ""
     ]
    },
    {
     "cell_type": "code",
     "collapsed": false,
     "input": [
      "penalty.coefs *= 0",
      "problem_gg = rr.simple_problem(loss, penalty)                                     ",
      "coefs_gg = rr.gengrad(problem_gg, lipschitz, tol=1.e-14)",
      "",
      "print problem.objective(coefs), problem_gg.objective(coefs_gg)",
      "print problem.objective(coefs_gg), problem_gg.objective(coefs)",
      "print np.linalg.norm(coefs_gg - coefs) / np.linalg.norm(coefs)",
      "print coefs_gg[groups[0]]"
     ],
     "language": "python",
     "outputs": [
      {
       "output_type": "stream",
       "stream": "stdout",
       "text": [
        "35.2049309492 35.2059479261",
        "35.2059479261 35.2049309492",
        "0.9069687847",
        "[ 0.01423474  0.02998236 -0.00646384 -0.00537198  0.01358837]",
        ""
       ]
      }
     ],
     "prompt_number": 6
    },
    {
     "cell_type": "heading",
     "level": 2,
     "source": [
      "Constructing a path of solutions (not using strong rules)",
      ""
     ]
    },
    {
     "cell_type": "code",
     "collapsed": false,
     "input": [
      "g0 = loss.smooth_objective(np.zeros(100), mode='grad')",
      "gsizes = [np.arange(p)[group].shape[0] for group in groups] ",
      "lagrange_max = np.max([np.linalg.norm(g0[group]) / np.sqrt(gsize) for group, gsize in zip(groups, gsizes)])",
      "# mistake in Hui's paper",
      "# lagrange_max = np.max( np.fabs(g0) / np.sqrt(5))",
      "final_inv_step = lipschitz",
      "penalty = rr.separable((100,), [rr.l2norm(idx[g].shape, lagrange=s*lagrange_max) for g, s in zip(groups, gsizes)], groups)",
      "lagrange_seq = lagrange_max * np.exp(np.linspace(np.log(0.001), 0, 100))[::-1]",
      "problem = rr.simple_problem(loss, penalty)",
      "solns=[problem.solve(start_inv_step=final_inv_step, tol=1.e-12, min_its=20)]",
      "",
      "import time",
      "",
      "toc=time.time()",
      "final_inv_step = problem.final_inv_step",
      "for iterct, lagrange in enumerate(lagrange_seq[1:]):",
      "    for atom, gsize in zip(penalty.atoms, gsizes):",
      "        atom.lagrange = lagrange * np.sqrt(gsize)",
      "    if iterct <= 5:",
      "        solns.append(problem.solve(start_inv_step=final_inv_step, tol=1.e-9).copy())",
      "    else:",
      "        solns.append(problem.solve(start_inv_step=final_inv_step).copy())   ",
      "    final_inv_step = problem.final_inv_step",
      "tic = time.time()",
      "print `tic-toc`"
     ],
     "language": "python",
     "outputs": [
      {
       "output_type": "stream",
       "stream": "stdout",
       "text": [
        "5.133687973022461",
        ""
       ]
      }
     ],
     "prompt_number": 7
    },
    {
     "cell_type": "code",
     "collapsed": false,
     "input": [
      "solns = np.array(solns) ; np.fabs(solns).max(); lipschitz"
     ],
     "language": "python",
     "outputs": [
      {
       "output_type": "pyout",
       "prompt_number": 8,
       "text": [
        "41.943298638516893"
       ]
      }
     ],
     "prompt_number": 8
    },
    {
     "cell_type": "code",
     "collapsed": false,
     "input": [
      "a = [pylab.plot(np.log(lagrange_seq), solns[:,i]) for i in range(100)]"
     ],
     "language": "python",
     "outputs": [
      {
       "output_type": "display_data",
       "png": "[encoded data removed]"
      }
     ],
     "prompt_number": 9
    },
    {
     "cell_type": "code",
     "collapsed": false,
     "input": [
      "lagrange_seq",
      "",
      ""
     ],
     "language": "python",
     "outputs": [
      {
       "output_type": "pyout",
       "prompt_number": 10,
       "text": [
        "array([  7.10314565e-03,   6.62441740e-03,   6.17795384e-03,",
        "         5.76158043e-03,   5.37326919e-03,   5.01112883e-03,",
        "         4.67339552e-03,   4.35842430e-03,   4.06468109e-03,",
        "         3.79073519e-03,   3.53525233e-03,   3.29698815e-03,",
        "         3.07478218e-03,   2.86755216e-03,   2.67428874e-03,",
        "         2.49405063e-03,   2.32595996e-03,   2.16919805e-03,",
        "         2.02300136e-03,   1.88665784e-03,   1.75950341e-03,",
        "         1.64091877e-03,   1.53032634e-03,   1.42718747e-03,",
        "         1.33099981e-03,   1.24129487e-03,   1.15763575e-03,",
        "         1.07961498e-03,   1.00685254e-03,   9.38994051e-04,",
        "         8.75708995e-04,   8.16689140e-04,   7.61647025e-04,",
        "         7.10314565e-04,   6.62441740e-04,   6.17795384e-04,",
        "         5.76158043e-04,   5.37326919e-04,   5.01112883e-04,",
        "         4.67339552e-04,   4.35842430e-04,   4.06468109e-04,",
        "         3.79073519e-04,   3.53525233e-04,   3.29698815e-04,",
        "         3.07478218e-04,   2.86755216e-04,   2.67428874e-04,",
        "         2.49405063e-04,   2.32595996e-04,   2.16919805e-04,",
        "         2.02300136e-04,   1.88665784e-04,   1.75950341e-04,",
        "         1.64091877e-04,   1.53032634e-04,   1.42718747e-04,",
        "         1.33099981e-04,   1.24129487e-04,   1.15763575e-04,",
        "         1.07961498e-04,   1.00685254e-04,   9.38994051e-05,",
        "         8.75708995e-05,   8.16689140e-05,   7.61647025e-05,",
        "         7.10314565e-05,   6.62441740e-05,   6.17795384e-05,",
        "         5.76158043e-05,   5.37326919e-05,   5.01112883e-05,",
        "         4.67339552e-05,   4.35842430e-05,   4.06468109e-05,",
        "         3.79073519e-05,   3.53525233e-05,   3.29698815e-05,",
        "         3.07478218e-05,   2.86755216e-05,   2.67428874e-05,",
        "         2.49405063e-05,   2.32595996e-05,   2.16919805e-05,",
        "         2.02300136e-05,   1.88665784e-05,   1.75950341e-05,",
        "         1.64091877e-05,   1.53032634e-05,   1.42718747e-05,",
        "         1.33099981e-05,   1.24129487e-05,   1.15763575e-05,",
        "         1.07961498e-05,   1.00685254e-05,   9.38994051e-06,",
        "         8.75708995e-06,   8.16689140e-06,   7.61647025e-06,",
        "         7.10314565e-06])"
       ]
      }
     ],
     "prompt_number": 10
    },
    {
     "cell_type": "heading",
     "level": 2,
     "source": [
      "Using a block norm $\\|\\cdot\\|_{1,2}$"
     ]
    },
    {
     "cell_type": "markdown",
     "source": [
      "With equal sized groups, the group LASSO coefficients can be thought of as a matrix and the group LASSO penalty has the form",
      "",
      "$$",
      "\\sum_i \\|\\beta[g_i]\\|_2 = \\|\\beta\\|_{1,2} = \\sum_j \\|\\beta[j]\\|",
      "$$",
      "",
      "In this case, the design matrix is a tensor that takes a matrix of shape (20,5) and returns a vector of size 120.",
      "With unequal sized groups, this interpretation still holds, though the design matrix $X$ explicitly sets many coefficients to zero and $X$ may be thought of as a sparse tensor in some sense."
     ]
    },
    {
     "cell_type": "code",
     "collapsed": false,
     "input": [
      "",
      "penalty_block = rr.l1_l2((20,5), lagrange=0.0001)",
      "Xr = X.reshape((120,5,20)).transpose([0,2,1]) * 1.",
      "L = tensor(Xr, 1)",
      "",
      "print L.primal_shape, L.dual_shape",
      ""
     ],
     "language": "python",
     "outputs": [
      {
       "output_type": "stream",
       "stream": "stdout",
       "text": [
        "(20, 5) (120,)",
        ""
       ]
      }
     ],
     "prompt_number": 12
    },
    {
     "cell_type": "code",
     "collapsed": false,
     "input": [
      "",
      "loss_block = rr.squared_error(L,Y*1., coef=1./n)",
      "w = np.random.standard_normal(penalty_block.primal_shape)",
      "def test_grad():",
      "    w = np.random.standard_normal(penalty_block.primal_shape)",
      "    g_block = loss_block.smooth_objective(w, 'grad')",
      "    g = loss.smooth_objective(w.T.reshape(-1), 'grad')",
      "    # print sorted(g_block.reshape(-1))[:5]",
      "    # print sorted(g)[:5]",
      "    np.testing.assert_allclose(g[groups[1]], g_block.reshape((20,5))[1])",
      "print loss_block.primal_shape; test_grad()",
      "problem_block = rr.simple_problem(loss_block, penalty_block); test_grad()",
      "final_inv_step = lipschitz",
      "#block_coefs_gg = rr.gengrad(problem_block, lipschitz)",
      "block_coefs = problem_block.solve(tol=1.e-10, start_inv_step=final_inv_step);",
      "final_inv_step = problem_block.final_inv_step",
      "block_coefs = problem_block.solve(start_inv_step=final_inv_step, tol=1.e-14);",
      "final_inv_step = problem_block.final_inv_step",
      "block_coefs = problem_block.solve(start_inv_step=final_inv_step, coef_stop=True);",
      "",
      "test_grad()",
      "print problem_block.nonsmooth_objective(w), problem.nonsmooth_objective(w.T.reshape(-1)); test_grad()",
      "print problem_block.nonsmooth_objective(block_coefs), problem.nonsmooth_objective(coefs), 'huh'",
      "print problem_block.objective(block_coefs), problem.objective(coefs), 'huh1'",
      "print problem_block.objective(coefs.reshape((5,20)).T), problem.objective(block_coefs.T.reshape(-1)), 'huh2'",
      "print problem_block.objective(coefs.reshape((5,20)).T), problem.objective(block_coefs.T.reshape(-1)), 'huh3'",
      "print problem_block.objective(block_coefs), problem.objective(block_coefs.T.reshape(-1)), 'huhblock'",
      "print problem_block.objective(coefs.reshape((5,20)).T), problem.objective(coefs), 'huhcoefs'",
      "print 'prox: 3', np.linalg.norm(penalty_block.lagrange_prox(w, lipschitz=3, lagrange=0.5)[0] - penalty.atoms[0].lagrange_prox(w.T.reshape(-1)[groups[0]], lagrange=0.5, lipschitz=3))",
      "print 'prox: 1', np.linalg.norm(penalty_block.lagrange_prox(w, lipschitz=1, lagrange=0.5)[0] - penalty.atoms[0].lagrange_prox(w.T.reshape(-1)[groups[0]], lagrange=0.5, lipschitz=1))",
      "print 'prox all', np.linalg.norm(penalty_block.proximal(rr.identity_quadratic(3, w, 0, 0)) -",
      "                                 penalty.proximal(rr.identity_quadratic(3,w,0,0)).reshape((5,20)).T)",
      "print 'indexing: ', w[0], w.T.reshape(-1)[groups[0]]; test_grad()",
      "a=penalty.atoms[0]; v=w[0]; test_grad()",
      "print 'atom:', a; test_grad()",
      "print 'atom prox: ', a.lagrange_prox(w[0], lipschitz=1, lagrange=0.5); test_grad()",
      "nn = np.linalg.norm(w[0]); test_grad()",
      "",
      "",
      "print 'by hand: ', ((nn-0.5)/nn)*w[0]; test_grad()",
      "print block_coefs.T.reshape(-1)[groups[0]], coefs[groups[0]]",
      "problem = rr.simple_problem(loss, penalty)",
      "#coefs = problem.solve(); ",
      "#coefs = problem.coefs.copy()",
      "print sorted(block_coefs.reshape(-1))[:5], sorted(coefs)[:5], 'sorted'",
      "print 'agreement: ', np.linalg.norm(coefs-block_coefs.T.reshape(-1)) / np.linalg.norm(coefs)"
     ],
     "language": "python",
     "outputs": [
      {
       "output_type": "stream",
       "stream": "stdout",
       "text": [
        "(20, 5)",
        "0.00429291384649"
       ]
      },
      {
       "output_type": "stream",
       "stream": "stdout",
       "text": [
        " 0.00429291384649",
        "0.000402040333745 0.000401069820536 huh",
        "35.2049309535 35.2049309492 huh1",
        "35.2049309492 35.2049309535 huh2",
        "35.2049309492 35.2049309535 huh3",
        "35.2049309535 35.2049309535 huhblock",
        "35.2049309492 35.2049309492 huhcoefs",
        "prox: 3 5.55111512313e-17",
        "prox: 1 2.28878339926e-16",
        "prox all 8.27455824535e-16",
        "indexing:  [-1.55418579 -1.69543147 -1.8321298  -1.19033447 -0.383489  ] [-1.55418579 -1.69543147 -1.8321298  -1.19033447 -0.383489  ]",
        "atom: l2norm((5,), lagrange=0.000100, offset=None)",
        "atom prox:  [-1.31099538 -1.43013972 -1.54544825 -1.00407751 -0.32348276]",
        "by hand:  [-1.31099538 -1.43013972 -1.54544825 -1.00407751 -0.32348276]",
        "[-0.09135244 -0.03746021  0.00582197 -0.00038446 -0.0061043 ] [-0.09099326 -0.03608039  0.00543684 -0.00013888 -0.00531024]",
        "[-0.37928629977208134, -0.37065896577064911, -0.22711954665758871, -0.22352554964481799, -0.19728796219825906] [-0.37957871743158994, -0.36794393196111191, -0.2255834894433664, -0.22443240676407197, -0.19724174524786003] sorted",
        "agreement:  0.00728306095519",
        ""
       ]
      }
     ],
     "prompt_number": 13
    },
    {
     "cell_type": "code",
     "collapsed": true,
     "input": [
      ""
     ],
     "language": "python",
     "outputs": [],
     "prompt_number": 11
    },
    {
     "cell_type": "code",
     "collapsed": true,
     "input": [
      ""
     ],
     "language": "python",
     "outputs": [],
     "prompt_number": 11
    },
    {
     "cell_type": "code",
     "collapsed": true,
     "input": [
      ""
     ],
     "language": "python",
     "outputs": [],
     "prompt_number": 11
    },
    {
     "cell_type": "code",
     "collapsed": true,
     "input": [
      ""
     ],
     "language": "python",
     "outputs": [],
     "prompt_number": 11
    },
    {
     "cell_type": "code",
     "collapsed": true,
     "input": [
      ""
     ],
     "language": "python",
     "outputs": [],
     "prompt_number": 11
    },
    {
     "cell_type": "code",
     "collapsed": true,
     "input": [
      ""
     ],
     "language": "python",
     "outputs": [],
     "prompt_number": 11
    },
    {
     "cell_type": "code",
     "collapsed": true,
     "input": [
      ""
     ],
     "language": "python",
     "outputs": [],
     "prompt_number": 11
    },
    {
     "cell_type": "code",
     "collapsed": true,
     "input": [
      ""
     ],
     "language": "python",
     "outputs": [],
     "prompt_number": 11
    },
    {
     "cell_type": "code",
     "collapsed": true,
     "input": [
      ""
     ],
     "language": "python",
     "outputs": [],
     "prompt_number": 11
    },
    {
     "cell_type": "code",
     "collapsed": true,
     "input": [
      ""
     ],
     "language": "python",
     "outputs": [],
     "prompt_number": 11
    },
    {
     "cell_type": "code",
     "collapsed": true,
     "input": [
      ""
     ],
     "language": "python",
     "outputs": [],
     "prompt_number": 11
    },
    {
     "cell_type": "code",
     "collapsed": true,
     "input": [
      ""
     ],
     "language": "python",
     "outputs": [],
     "prompt_number": 11
    }
   ]
  }
 ]
}
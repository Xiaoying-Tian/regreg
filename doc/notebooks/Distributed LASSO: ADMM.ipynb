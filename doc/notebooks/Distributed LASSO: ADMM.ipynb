{
 "metadata": {
  "name": "Distributed LASSO: ADMM"
 },
 "nbformat": 3,
 "worksheets": [
  {
   "cells": [
    {
     "cell_type": "markdown",
     "source": [
      "",
      "",
      "From http://www.stanford.edu/~boyd/papers/pdf/admm_distr_stats.pdf.",
      "Specifically, on p. 70 $\\S$ 8.1.3, making the substitutions",
      "$x_i=\\beta_i, z_i=\\mu_i$.",
      "",
      "",
      "$$",
      "   \\newcommand{\\argmin}{\\mathop{argmin}}",
      "   \\begin{aligned}",
      "   \\beta_i^{k+1} &= \\argmin_{\\beta_i} \\left(\\frac{\\rho}{2} \\|X_i\\beta_i-X_i\\beta_i^k - \\bar{\\mu}^k + \\bar{X\\beta}^k + u^k\\|^2_2 + \\lambda\\|\\beta_i\\|_1 \\right) \\\\\\",
      "   \\bar{\\mu}^{k+1} &= \\frac{1}{N+\\rho} \\left(y + \\rho \\bar{X\\beta}^k + \\rho u^k\\right) \\\\\\",
      "   u^{k+1} &= u^k + \\bar{X\\beta}^k - \\bar{\\mu}^{k+1}",
      "   \\end{aligned}",
      "$$"
     ]
    },
    {
     "cell_type": "code",
     "input": [
      "%load_ext parallelmagic",
      "from IPython.parallel import Client",
      "rc = Client()",
      "dview = rc[:]",
      "dview.activate()",
      "dview.block = True"
     ],
     "language": "python",
     "outputs": [],
     "prompt_number": 25
    },
    {
     "cell_type": "code",
     "input": [
      "%%px",
      "import os.path",
      "",
      "import regreg.api as R; reload(R)",
      "import regreg.paths as RP; reload(RP)",
      "import numpy as np",
      "",
      "import scipy.io, scipy.sparse",
      "",
      "# np.random.seed(1)  # for debugging",
      "",
      "class loss_factory(RP.squared_error_factory):",
      "    ",
      "    def __init__(self, response, rho=1.):",
      "        RP.squared_error_factory.__init__(self, response)",
      "        self.rho = rho",
      "   ",
      "    def __call__(self, X):",
      "        n = self.response.shape[0]",
      "        return R.squared_error(X, -self.response, coef=self.rho/n)",
      "",
      "# subclass specific to this dataset",
      "class newsgroup_factory(loss_factory):",
      "    ",
      "    def __init__(self, newsgroup_path, rows, columns, rho=1.):",
      "        # can we read the newsgroup.mat on all nodes at once?",
      "        D = scipy.io.loadmat(os.path.join(newsgroup_path, 'newsgroup.mat'))",
      "        X = D['X'][rows].tocsc(); Y = D['Y'].reshape(-1)[rows] ",
      "        self.rows = rows",
      "        self.X = X[:,columns]",
      "        self.columns = columns",
      "        self.selector = R.selector(columns, X.shape[1])",
      "        loss_factory.__init__(self, Y, rho)",
      "        ",
      "    def fitted(self, solution):",
      "        solution = solution.tocsr()",
      "        intercept = np.array(solution[0].todense()).reshape(-1)",
      "        return np.array((self.X * solution[1:]).todense()) + intercept[np.newaxis, :]",
      "    ",
      "    def beta(self, solution):",
      "        return self.selector.adjoint_map(solution)"
     ],
     "language": "python",
     "outputs": [
      {
       "output_type": "stream",
       "stream": "stdout",
       "text": [
        "Parallel execution on engine(s): [0, 1]",
        ""
       ]
      }
     ],
     "prompt_number": 26
    },
    {
     "cell_type": "markdown",
     "source": [
      "Get ready to instantiate each node.",
      ""
     ]
    },
    {
     "cell_type": "code",
     "input": [
      "import numpy as np, scipy.io, os.path, regreg.api as R",
      "newsgroup_path = '/home/fperez/research/code/regreg'",
      "D = scipy.io.loadmat(os.path.join(newsgroup_path, 'newsgroup.mat'))",
      "n, p = D['X'].shape;",
      "columns = np.arange(p)",
      "np.random.shuffle(columns)",
      "rows = np.arange(n)",
      "np.random.shuffle(rows)",
      "rows_subsampled = rows[:1000]",
      "columns_subsampled = columns[:1000]",
      "dview.scatter('columns', columns_subsampled)",
      "dview.push({'rows':rows_subsampled})",
      "",
      "@dview.remote(block=True)",
      "def init_nodes(lagrange_sequence, newsgroup_path, rows):",
      "    global lasso, factory, fitted",
      "    factory = newsgroup_factory(newsgroup_path, rows, columns)",
      "    lasso = R.lasso(factory, factory.X)",
      "    lasso.lagrange_sequence = lagrange_sequence",
      "    fitted = np.zeros((factory.rows.shape[0], lasso.lagrange_sequence.shape[0]))",
      "    ",
      "X = D['X'][rows_subsampled].tocsc(); Y = D['Y'].reshape(-1)[rows_subsampled] ",
      "master_lasso = R.lasso.squared_error(X, Y)",
      "",
      "objective = master_lasso.problem.objective",
      "",
      "    "
     ],
     "language": "python",
     "outputs": [],
     "prompt_number": 27
    },
    {
     "cell_type": "code",
     "input": [
      "init_nodes([master_lasso.lagrange_sequence[50]], newsgroup_path, rows_subsampled)",
      ""
     ],
     "language": "python",
     "outputs": [
      {
       "output_type": "pyout",
       "prompt_number": 28,
       "text": [
        "[None, None]"
       ]
      }
     ],
     "prompt_number": 28
    },
    {
     "cell_type": "markdown",
     "source": [
      "Each node will have a copy of its own fitted values $X_i\\beta_i^k$ stored as `fitted`. The",
      "response for the next update is ",
      "$$",
      "X_i\\beta_i^k + \\bar{\\mu}^k - \\bar{X\\beta}^k - u^k",
      "$$",
      "",
      "The variable `pseudo_response` is sent from the master node and is equal to ",
      "$$",
      "\\bar{\\mu}^k - \\bar{X\\beta}^k - u^k.",
      "$$",
      "",
      "The function `update_global_variables` takes care of the updates",
      "$$",
      "   \\newcommand{\\argmin}{\\mathop{argmin}}",
      "   \\begin{aligned}",
      "   \\bar{\\mu}^{k+1} &= \\frac{1}{N+\\rho} \\left(y + \\rho \\bar{X\\beta}^k + \\rho u^k\\right) \\\\\\",
      "   u^{k+1} &= u^k + \\bar{X\\beta}^k - \\bar{\\mu}^{k+1}",
      "   \\end{aligned}",
      "$$"
     ]
    },
    {
     "cell_type": "code",
     "input": [
      "def update_global_variables(lasso_fits, y, u, rho=1.):",
      "    # this is a reduction operation",
      "    Xbeta_bar = np.mean(lasso_fits, 0)",
      "",
      "    N = len(lasso_fits)",
      "    mu_bar = (y[:,np.newaxis] + rho * (Xbeta_bar + u)) / (N + rho)",
      "    u = u + Xbeta_bar - mu_bar",
      "    return Xbeta_bar, mu_bar, u"
     ],
     "language": "python",
     "outputs": [],
     "prompt_number": 29
    },
    {
     "cell_type": "markdown",
     "source": [
      "The master must pass the `pseudo_response` to the nodes, which gets added to the local",
      "fitted values and becomes the new response for the node's `lasso` instance."
     ]
    },
    {
     "cell_type": "code",
     "input": [
      "@dview.remote()",
      "def update_lasso_nodes(pseudo_response):",
      "    global fitted, results",
      "    results = lasso.main()",
      "    #raise ValueError(`fitted.shape`)",
      "    fitted[:] = factory.fitted(results['beta'])",
      "    factory.response = fitted + pseudo_response",
      "    return fitted",
      "",
      "@dview.remote()",
      "def get_beta():",
      "    global factory, results",
      "    return factory.beta(results['beta'])",
      "",
      "",
      "pseudo_response = np.zeros((1000, 10))",
      "u = np.zeros(pseudo_response.shape)",
      "from IPython.parallel.error import CompositeError",
      "try:",
      "    lasso_fits = update_lasso_nodes(pseudo_response)",
      "except CompositeError, e:",
      "    e.raise_exception()",
      "    ",
      "Xbeta_bar, mu_bar, u = update_global_variables(lasso_fits, Y, u)",
      "",
      "",
      "#a = get_beta()",
      "#print [aa.shape for aa in a]"
     ],
     "language": "python",
     "outputs": [
      {
       "ename": "RemoteError",
       "evalue": "ValueError(operands could not be broadcast together with shapes (1000) (1000,10) )\nTraceback (most recent call last):\n  File \"/home/fperez/usr/lib/python2.7/site-packages/IPython/zmq/ipkernel.py\", line 561, in apply_request\n    exec code in self.shell.user_global_ns, self.shell.user_ns\n  File \"<string>\", line 1, in <module>\n  File \"<ipython-input-32-f89333c8c28b>\", line 4, in update_lasso_nodes\n  File \"/home/fperez/usr/local/lib/python2.7/site-packages/regreg/paths.py\", line 272, in main\n    coef_stop=coef_stop)\n  File \"/home/fperez/usr/local/lib/python2.7/site-packages/regreg/paths.py\", line 224, in solve_subproblem\n    sub_soln = subproblem.solve(**solve_args)\n  File \"/home/fperez/usr/local/lib/python2.7/site-packages/regreg/simple.py\", line 69, in solve\n    solver.fit(**fit_args)\n  File \"/home/fperez/usr/local/lib/python2.7/site-packages/regreg/algorithms.py\", line 105, in fit\n    current_f = self.composite.smooth_objective(r,mode='func')\n  File \"/home/fperez/usr/local/lib/python2.7/site-packages/regreg/simple.py\", line 28, in smooth_objective\n    vs = self.smooth_atom.smooth_objective(x, mode, check_feasibility)\n  File \"/home/fperez/usr/local/lib/python2.7/site-packages/regreg/smooth.py\", line 152, in smooth_objective\n    v = self.sm_atom.smooth_objective(eta, mode='func')\n  File \"/home/fperez/usr/local/lib/python2.7/site-packages/regreg/quadratic.py\", line 50, in smooth_objective\n    x = self.apply_offset(x)\n  File \"/home/fperez/usr/local/lib/python2.7/site-packages/regreg/composite.py\", line 105, in apply_offset\n    return x + self.offset\nValueError: operands could not be broadcast together with shapes (1000) (1000,10) \n",
       "output_type": "pyerr",
       "traceback": [
        "\u001b[1;31m---------------------------------------------------------------------------\u001b[0m\n\u001b[1;31mRemoteError\u001b[0m                               Traceback (most recent call last)",
        "\u001b[1;32m<ipython-input-32-f89333c8c28b>\u001b[0m in \u001b[0;36m<module>\u001b[1;34m()\u001b[0m\n\u001b[0;32m     20\u001b[0m     \u001b[0mlasso_fits\u001b[0m \u001b[1;33m=\u001b[0m \u001b[0mupdate_lasso_nodes\u001b[0m\u001b[1;33m(\u001b[0m\u001b[0mpseudo_response\u001b[0m\u001b[1;33m)\u001b[0m\u001b[1;33m\u001b[0m\u001b[0m\n\u001b[0;32m     21\u001b[0m \u001b[1;32mexcept\u001b[0m \u001b[0mCompositeError\u001b[0m\u001b[1;33m,\u001b[0m \u001b[0me\u001b[0m\u001b[1;33m:\u001b[0m\u001b[1;33m\u001b[0m\u001b[0m\n\u001b[1;32m---> 22\u001b[1;33m     \u001b[0me\u001b[0m\u001b[1;33m.\u001b[0m\u001b[0mraise_exception\u001b[0m\u001b[1;33m(\u001b[0m\u001b[1;33m)\u001b[0m\u001b[1;33m\u001b[0m\u001b[0m\n\u001b[0m\u001b[0;32m     23\u001b[0m \u001b[1;33m\u001b[0m\u001b[0m\n\u001b[0;32m     24\u001b[0m \u001b[0mXbeta_bar\u001b[0m\u001b[1;33m,\u001b[0m \u001b[0mmu_bar\u001b[0m\u001b[1;33m,\u001b[0m \u001b[0mu\u001b[0m \u001b[1;33m=\u001b[0m \u001b[0mupdate_global_variables\u001b[0m\u001b[1;33m(\u001b[0m\u001b[0mlasso_fits\u001b[0m\u001b[1;33m,\u001b[0m \u001b[0mY\u001b[0m\u001b[1;33m,\u001b[0m \u001b[0mu\u001b[0m\u001b[1;33m)\u001b[0m\u001b[1;33m\u001b[0m\u001b[0m\n",
        "\u001b[1;32m/home/fperez/usr/lib/python2.7/site-packages/IPython/parallel/error.pyc\u001b[0m in \u001b[0;36mraise_exception\u001b[1;34m(self, excid)\u001b[0m\n\u001b[0;32m    266\u001b[0m             \u001b[1;32mraise\u001b[0m \u001b[0mIndexError\u001b[0m\u001b[1;33m(\u001b[0m\u001b[1;34m\"an exception with index %i does not exist\"\u001b[0m\u001b[1;33m%\u001b[0m\u001b[0mexcid\u001b[0m\u001b[1;33m)\u001b[0m\u001b[1;33m\u001b[0m\u001b[0m\n\u001b[0;32m    267\u001b[0m         \u001b[1;32melse\u001b[0m\u001b[1;33m:\u001b[0m\u001b[1;33m\u001b[0m\u001b[0m\n\u001b[1;32m--> 268\u001b[1;33m             \u001b[1;32mraise\u001b[0m \u001b[0mRemoteError\u001b[0m\u001b[1;33m(\u001b[0m\u001b[0men\u001b[0m\u001b[1;33m,\u001b[0m \u001b[0mev\u001b[0m\u001b[1;33m,\u001b[0m \u001b[0metb\u001b[0m\u001b[1;33m,\u001b[0m \u001b[0mei\u001b[0m\u001b[1;33m)\u001b[0m\u001b[1;33m\u001b[0m\u001b[0m\n\u001b[0m\u001b[0;32m    269\u001b[0m \u001b[1;33m\u001b[0m\u001b[0m\n\u001b[0;32m    270\u001b[0m \u001b[1;33m\u001b[0m\u001b[0m\n",
        "\u001b[1;31mRemoteError\u001b[0m: ValueError(operands could not be broadcast together with shapes (1000) (1000,10) )\nTraceback (most recent call last):\n  File \"/home/fperez/usr/lib/python2.7/site-packages/IPython/zmq/ipkernel.py\", line 561, in apply_request\n    exec code in self.shell.user_global_ns, self.shell.user_ns\n  File \"<string>\", line 1, in <module>\n  File \"<ipython-input-32-f89333c8c28b>\", line 4, in update_lasso_nodes\n  File \"/home/fperez/usr/local/lib/python2.7/site-packages/regreg/paths.py\", line 272, in main\n    coef_stop=coef_stop)\n  File \"/home/fperez/usr/local/lib/python2.7/site-packages/regreg/paths.py\", line 224, in solve_subproblem\n    sub_soln = subproblem.solve(**solve_args)\n  File \"/home/fperez/usr/local/lib/python2.7/site-packages/regreg/simple.py\", line 69, in solve\n    solver.fit(**fit_args)\n  File \"/home/fperez/usr/local/lib/python2.7/site-packages/regreg/algorithms.py\", line 105, in fit\n    current_f = self.composite.smooth_objective(r,mode='func')\n  File \"/home/fperez/usr/local/lib/python2.7/site-packages/regreg/simple.py\", line 28, in smooth_objective\n    vs = self.smooth_atom.smooth_objective(x, mode, check_feasibility)\n  File \"/home/fperez/usr/local/lib/python2.7/site-packages/regreg/smooth.py\", line 152, in smooth_objective\n    v = self.sm_atom.smooth_objective(eta, mode='func')\n  File \"/home/fperez/usr/local/lib/python2.7/site-packages/regreg/quadratic.py\", line 50, in smooth_objective\n    x = self.apply_offset(x)\n  File \"/home/fperez/usr/local/lib/python2.7/site-packages/regreg/composite.py\", line 105, in apply_offset\n    return x + self.offset\nValueError: operands could not be broadcast together with shapes (1000) (1000,10) \n"
       ]
      }
     ],
     "prompt_number": 32
    },
    {
     "cell_type": "code",
     "input": [
      "%connect_info"
     ],
     "language": "python",
     "outputs": [
      {
       "output_type": "stream",
       "stream": "stdout",
       "text": [
        "{",
        "  \"stdin_port\": 41621, ",
        "  \"ip\": \"127.0.0.1\", ",
        "  \"hb_port\": 42021, ",
        "  \"key\": \"7fa4437e-c791-4d99-af2d-d905d9eb06dc\", ",
        "  \"shell_port\": 59622, ",
        "  \"iopub_port\": 37528",
        "}",
        "",
        "Paste the above JSON into a file, and connect with:",
        "    $> ipython <app> --existing <file>",
        "or, if you are local, you can connect with just:",
        "    $> ipython <app> --existing kernel-0353447a-a8e0-4bde-9de7-2b2771f136dd.json ",
        "or even just:",
        "    $> ipython <app> --existing ",
        "if this is the most recent IPython session you have started.",
        ""
       ]
      }
     ],
     "prompt_number": 33
    },
    {
     "cell_type": "code",
     "input": [
      ""
     ],
     "language": "python",
     "outputs": []
    }
   ]
  }
 ]
}
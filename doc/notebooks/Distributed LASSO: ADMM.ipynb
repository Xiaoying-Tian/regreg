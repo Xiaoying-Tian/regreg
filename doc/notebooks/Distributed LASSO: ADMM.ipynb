{
 "metadata": {
  "name": "Distributed LASSO: ADMM"
 },
 "nbformat": 3,
 "worksheets": [
  {
   "cells": [
    {
     "cell_type": "markdown",
     "source": [
      "",
      "",
      "From http://www.stanford.edu/~boyd/papers/pdf/admm_distr_stats.pdf.",
      "Specifically, on p. 70 $\\S$ 8.1.3, making the substitutions",
      "$x_i=\\beta_i, z_i=\\mu_i$.",
      "",
      "",
      "$$",
      "   \\newcommand{\\argmin}{\\mathop{argmin}}",
      "   \\begin{aligned}",
      "   \\beta_i^{k+1} &= \\argmin_{\\beta_i} \\left(\\frac{\\rho}{2} \\|X_i\\beta_i-X_i\\beta_i^k - \\bar{\\mu}^k + \\bar{X\\beta}^k + u^k\\|^2_2 + \\lambda\\|\\beta_i\\|_1 \\right) \\\\\\",
      "   \\bar{\\mu}^{k+1} &= \\frac{1}{N+\\rho} \\left(y + \\rho \\bar{X\\beta}^k + \\rho u^k\\right) \\\\\\",
      "   u^{k+1} &= u^k + \\bar{X\\beta}^k - \\bar{\\mu}^{k+1}",
      "   \\end{aligned}",
      "$$"
     ]
    },
    {
     "cell_type": "code",
     "collapsed": false,
     "input": [
      "%load_ext parallelmagic",
      "from IPython.parallel import Client",
      "rc = Client()",
      "dview = rc[:]",
      "dview.activate()",
      "dview.block = True"
     ],
     "language": "python",
     "outputs": [],
     "prompt_number": 1
    },
    {
     "cell_type": "code",
     "collapsed": false,
     "input": [
      "%%px",
      "import os.path",
      "",
      "import regreg.api as R; reload(R)",
      "import regreg.paths as RP; reload(RP)",
      "import numpy as np",
      "",
      "import scipy.io, scipy.sparse",
      "",
      "# np.random.seed(1)  # for debugging",
      "",
      "class loss_factory(RP.squared_error_factory):",
      "    ",
      "    def __init__(self, response, rho=1.):",
      "        RP.squared_error_factory.__init__(self, response)",
      "        self.rho = rho",
      "   ",
      "    def __call__(self, X):",
      "        n = self.response.shape[0]",
      "        return R.squared_error(X, -self.response, coef=self.rho/n)",
      "",
      "class newsgroup_factory(loss_factory):",
      "    ",
      "    def __init__(self, newsgroup_path, rows, columns, rho=1.):",
      "        D = scipy.io.loadmat(os.path.join(newsgroup_path, 'newsgroup.mat'))",
      "        X = D['X'][rows].tocsc(); Y = D['Y'].reshape(-1)[rows] ",
      "        self.rows = rows",
      "        self.X = X[:,columns]",
      "        self.columns = columns",
      "        self.selector = R.selector(columns, X.shape[1])",
      "        loss_factory.__init__(self, Y, rho)",
      "        ",
      "    def fitted(self, solution):",
      "        solution = solution.tocsr()",
      "        intercept = np.array(solution[0].todense()).reshape(-1)",
      "        return np.array((self.X * solution[1:]).todense()) + intercept[np.newaxis, :]",
      "    ",
      "    def beta(self, solution):",
      "        return self.selector.adjoint_map(solution)"
     ],
     "language": "python",
     "outputs": [
      {
       "output_type": "stream",
       "stream": "stdout",
       "text": [
        "Parallel execution on engine(s): [0, 1, 2, 3]",
        ""
       ]
      }
     ],
     "prompt_number": 8
    },
    {
     "cell_type": "code",
     "collapsed": false,
     "input": [
      "import numpy as np, scipy.io, os.path, regreg.api as R",
      "newsgroup_path = '/Users/jonathantaylor/Documents/work/regreg/doc/notebooks/'",
      "D = scipy.io.loadmat(os.path.join(newsgroup_path, 'newsgroup.mat'))",
      "n, p = D['X'].shape;",
      "columns = np.arange(p)",
      "np.random.shuffle(columns)",
      "rows = np.arange(n)",
      "np.random.shuffle(rows)",
      "dview.scatter('columns', columns[:1000])",
      "dview.push({'rows':rows[:1000]})",
      "",
      "@dview.remote(block=True)",
      "def init_nodes(lagrange_sequence, newsgroup_path, rows):",
      "    global lasso, columns, factory",
      "    factory = newsgroup_factory(newsgroup_path, rows, columns)",
      "    lasso = R.lasso(factory, factory.X)",
      "    lasso.lagrange_sequence = lagrange_sequence",
      "    ",
      "overall_lasso = R.lasso.squared_error(D['X'], D['Y'].reshape(-1))",
      "",
      "",
      "",
      "    "
     ],
     "language": "python",
     "outputs": [],
     "prompt_number": 9
    },
    {
     "cell_type": "code",
     "collapsed": false,
     "input": [
      "init_nodes(overall_lasso.lagrange_sequence[50:60], newsgroup_path, rows[:1000])",
      "%px fitted = np.zeros((factory.rows.shape[0], lasso.lagrange_sequence.shape[0]))"
     ],
     "language": "python",
     "outputs": [
      {
       "output_type": "stream",
       "stream": "stdout",
       "text": [
        "Parallel execution on engine(s): [0, 1, 2, 3]",
        ""
       ]
      }
     ],
     "prompt_number": 10
    },
    {
     "cell_type": "code",
     "collapsed": false,
     "input": [
      "@dview.remote()",
      "def update_lasso_nodes(pseudo_response):",
      "    global fitted, results",
      "    results = lasso.main()",
      "    fitted = factory.fitted(results['beta'])",
      "    factory.response = fitted + pseudo_response",
      "    return fitted",
      "",
      "@dview.remote()",
      "def get_beta():",
      "    global factory, results",
      "    return factory.beta(results['beta'])",
      "",
      "def update_global_variables(lasso_fits, y, u, rho=1.):",
      "    # this is a reduction operation",
      "    Xbeta_bar = np.mean(lasso_fits, 0)",
      "",
      "    N = len(lasso_fits)",
      "    mu_bar = (y[:,np.newaxis] + rho * (Xbeta_bar + u)) / (N + rho)",
      "    u = u + Xbeta_bar - mu_bar",
      "    return Xbeta_bar, mu_bar, u",
      "",
      "",
      "Yr = D['Y'][rows[:1000]].reshape(-1)",
      "",
      "pseudo_response = np.zeros((1000, 10))",
      "u = np.zeros(pseudo_response.shape)",
      "lasso_fits = update_lasso_nodes(pseudo_response)",
      "",
      "Xbeta_bar, mu_bar, u = update_global_variables(lasso_fits, Yr, u)",
      "objective = overall_lasso.problem.objective",
      "",
      "a = get_beta()",
      "print [aa.shape for aa in a]"
     ],
     "language": "python",
     "outputs": [
      {
       "ename": "CompositeError",
       "evalue": "one or more exceptions from call to method: get_beta\n[0:apply]: NameError: global name 'results' is not defined\n[1:apply]: NameError: global name 'results' is not defined\n[2:apply]: NameError: global name 'results' is not defined\n[3:apply]: NameError: global name 'results' is not defined",
       "output_type": "pyerr",
       "traceback": [
        "\u001b[0;31m---------------------------------------------------------------------------\u001b[0m\n\u001b[0;31mCompositeError\u001b[0m                            Traceback (most recent call last)",
        "\u001b[0;32m<ipython-input-11-6f915c286594>\u001b[0m in \u001b[0;36m<module>\u001b[0;34m()\u001b[0m\n\u001b[1;32m     31\u001b[0m \u001b[0mobjective\u001b[0m \u001b[0;34m=\u001b[0m \u001b[0moverall_lasso\u001b[0m\u001b[0;34m.\u001b[0m\u001b[0mproblem\u001b[0m\u001b[0;34m.\u001b[0m\u001b[0mobjective\u001b[0m\u001b[0;34m\u001b[0m\u001b[0m\n\u001b[1;32m     32\u001b[0m \u001b[0;34m\u001b[0m\u001b[0m\n\u001b[0;32m---> 33\u001b[0;31m \u001b[0ma\u001b[0m \u001b[0;34m=\u001b[0m \u001b[0mget_beta\u001b[0m\u001b[0;34m(\u001b[0m\u001b[0;34m)\u001b[0m\u001b[0;34m\u001b[0m\u001b[0m\n\u001b[0m\u001b[1;32m     34\u001b[0m \u001b[0;32mprint\u001b[0m \u001b[0;34m[\u001b[0m\u001b[0maa\u001b[0m\u001b[0;34m.\u001b[0m\u001b[0mshape\u001b[0m \u001b[0;32mfor\u001b[0m \u001b[0maa\u001b[0m \u001b[0;32min\u001b[0m \u001b[0ma\u001b[0m\u001b[0;34m]\u001b[0m\u001b[0;34m\u001b[0m\u001b[0m\n",
        "\u001b[0;32m/Users/jonathantaylor/ipython/IPython/parallel/client/remotefunction.pyc\u001b[0m in \u001b[0;36m__call__\u001b[0;34m(self, *args, **kwargs)\u001b[0m\n\u001b[1;32m    115\u001b[0m         \u001b[0mblock\u001b[0m \u001b[0;34m=\u001b[0m \u001b[0mself\u001b[0m\u001b[0;34m.\u001b[0m\u001b[0mview\u001b[0m\u001b[0;34m.\u001b[0m\u001b[0mblock\u001b[0m \u001b[0;32mif\u001b[0m \u001b[0mself\u001b[0m\u001b[0;34m.\u001b[0m\u001b[0mblock\u001b[0m \u001b[0;32mis\u001b[0m \u001b[0mNone\u001b[0m \u001b[0;32melse\u001b[0m \u001b[0mself\u001b[0m\u001b[0;34m.\u001b[0m\u001b[0mblock\u001b[0m\u001b[0;34m\u001b[0m\u001b[0m\n\u001b[1;32m    116\u001b[0m         \u001b[0;32mwith\u001b[0m \u001b[0mself\u001b[0m\u001b[0;34m.\u001b[0m\u001b[0mview\u001b[0m\u001b[0;34m.\u001b[0m\u001b[0mtemp_flags\u001b[0m\u001b[0;34m(\u001b[0m\u001b[0mblock\u001b[0m\u001b[0;34m=\u001b[0m\u001b[0mblock\u001b[0m\u001b[0;34m,\u001b[0m \u001b[0;34m**\u001b[0m\u001b[0mself\u001b[0m\u001b[0;34m.\u001b[0m\u001b[0mflags\u001b[0m\u001b[0;34m)\u001b[0m\u001b[0;34m:\u001b[0m\u001b[0;34m\u001b[0m\u001b[0m\n\u001b[0;32m--> 117\u001b[0;31m             \u001b[0;32mreturn\u001b[0m \u001b[0mself\u001b[0m\u001b[0;34m.\u001b[0m\u001b[0mview\u001b[0m\u001b[0;34m.\u001b[0m\u001b[0mapply\u001b[0m\u001b[0;34m(\u001b[0m\u001b[0mself\u001b[0m\u001b[0;34m.\u001b[0m\u001b[0mfunc\u001b[0m\u001b[0;34m,\u001b[0m \u001b[0;34m*\u001b[0m\u001b[0margs\u001b[0m\u001b[0;34m,\u001b[0m \u001b[0;34m**\u001b[0m\u001b[0mkwargs\u001b[0m\u001b[0;34m)\u001b[0m\u001b[0;34m\u001b[0m\u001b[0m\n\u001b[0m\u001b[1;32m    118\u001b[0m \u001b[0;34m\u001b[0m\u001b[0m\n\u001b[1;32m    119\u001b[0m \u001b[0;34m\u001b[0m\u001b[0m\n",
        "\u001b[0;32m/Users/jonathantaylor/ipython/IPython/parallel/client/view.pyc\u001b[0m in \u001b[0;36mapply\u001b[0;34m(self, f, *args, **kwargs)\u001b[0m\n\u001b[1;32m    216\u001b[0m             \u001b[0mreturns\u001b[0m \u001b[0mactual\u001b[0m \u001b[0mresult\u001b[0m \u001b[0mof\u001b[0m \u001b[0mf\u001b[0m\u001b[0;34m(\u001b[0m\u001b[0;34m*\u001b[0m\u001b[0margs\u001b[0m\u001b[0;34m,\u001b[0m \u001b[0;34m**\u001b[0m\u001b[0mkwargs\u001b[0m\u001b[0;34m)\u001b[0m\u001b[0;34m\u001b[0m\u001b[0m\n\u001b[1;32m    217\u001b[0m         \"\"\"\n\u001b[0;32m--> 218\u001b[0;31m         \u001b[0;32mreturn\u001b[0m \u001b[0mself\u001b[0m\u001b[0;34m.\u001b[0m\u001b[0m_really_apply\u001b[0m\u001b[0;34m(\u001b[0m\u001b[0mf\u001b[0m\u001b[0;34m,\u001b[0m \u001b[0margs\u001b[0m\u001b[0;34m,\u001b[0m \u001b[0mkwargs\u001b[0m\u001b[0;34m)\u001b[0m\u001b[0;34m\u001b[0m\u001b[0m\n\u001b[0m\u001b[1;32m    219\u001b[0m \u001b[0;34m\u001b[0m\u001b[0m\n\u001b[1;32m    220\u001b[0m     \u001b[0;32mdef\u001b[0m \u001b[0mapply_async\u001b[0m\u001b[0;34m(\u001b[0m\u001b[0mself\u001b[0m\u001b[0;34m,\u001b[0m \u001b[0mf\u001b[0m\u001b[0;34m,\u001b[0m \u001b[0;34m*\u001b[0m\u001b[0margs\u001b[0m\u001b[0;34m,\u001b[0m \u001b[0;34m**\u001b[0m\u001b[0mkwargs\u001b[0m\u001b[0;34m)\u001b[0m\u001b[0;34m:\u001b[0m\u001b[0;34m\u001b[0m\u001b[0m\n",
        "\u001b[0;32m/Users/jonathantaylor/ipython/IPython/parallel/client/view.pyc\u001b[0m in \u001b[0;36m_really_apply\u001b[0;34m(self, f, args, kwargs, targets, block, track)\u001b[0m\n",
        "\u001b[0;32m/Users/jonathantaylor/ipython/IPython/parallel/client/view.pyc\u001b[0m in \u001b[0;36msync_results\u001b[0;34m(f, self, *args, **kwargs)\u001b[0m\n\u001b[1;32m     57\u001b[0m \u001b[0;32mdef\u001b[0m \u001b[0msync_results\u001b[0m\u001b[0;34m(\u001b[0m\u001b[0mf\u001b[0m\u001b[0;34m,\u001b[0m \u001b[0mself\u001b[0m\u001b[0;34m,\u001b[0m \u001b[0;34m*\u001b[0m\u001b[0margs\u001b[0m\u001b[0;34m,\u001b[0m \u001b[0;34m**\u001b[0m\u001b[0mkwargs\u001b[0m\u001b[0;34m)\u001b[0m\u001b[0;34m:\u001b[0m\u001b[0;34m\u001b[0m\u001b[0m\n\u001b[1;32m     58\u001b[0m     \u001b[0;34m\"\"\"sync relevant results from self.client to our results attribute.\"\"\"\u001b[0m\u001b[0;34m\u001b[0m\u001b[0m\n\u001b[0;32m---> 59\u001b[0;31m     \u001b[0mret\u001b[0m \u001b[0;34m=\u001b[0m \u001b[0mf\u001b[0m\u001b[0;34m(\u001b[0m\u001b[0mself\u001b[0m\u001b[0;34m,\u001b[0m \u001b[0;34m*\u001b[0m\u001b[0margs\u001b[0m\u001b[0;34m,\u001b[0m \u001b[0;34m**\u001b[0m\u001b[0mkwargs\u001b[0m\u001b[0;34m)\u001b[0m\u001b[0;34m\u001b[0m\u001b[0m\n\u001b[0m\u001b[1;32m     60\u001b[0m     \u001b[0mdelta\u001b[0m \u001b[0;34m=\u001b[0m \u001b[0mself\u001b[0m\u001b[0;34m.\u001b[0m\u001b[0moutstanding\u001b[0m\u001b[0;34m.\u001b[0m\u001b[0mdifference\u001b[0m\u001b[0;34m(\u001b[0m\u001b[0mself\u001b[0m\u001b[0;34m.\u001b[0m\u001b[0mclient\u001b[0m\u001b[0;34m.\u001b[0m\u001b[0moutstanding\u001b[0m\u001b[0;34m)\u001b[0m\u001b[0;34m\u001b[0m\u001b[0m\n\u001b[1;32m     61\u001b[0m     \u001b[0mcompleted\u001b[0m \u001b[0;34m=\u001b[0m \u001b[0mself\u001b[0m\u001b[0;34m.\u001b[0m\u001b[0moutstanding\u001b[0m\u001b[0;34m.\u001b[0m\u001b[0mintersection\u001b[0m\u001b[0;34m(\u001b[0m\u001b[0mdelta\u001b[0m\u001b[0;34m)\u001b[0m\u001b[0;34m\u001b[0m\u001b[0m\n",
        "\u001b[0;32m/Users/jonathantaylor/ipython/IPython/parallel/client/view.pyc\u001b[0m in \u001b[0;36m_really_apply\u001b[0;34m(self, f, args, kwargs, targets, block, track)\u001b[0m\n",
        "\u001b[0;32m/Users/jonathantaylor/ipython/IPython/parallel/client/view.pyc\u001b[0m in \u001b[0;36msave_ids\u001b[0;34m(f, self, *args, **kwargs)\u001b[0m\n\u001b[1;32m     46\u001b[0m     \u001b[0mn_previous\u001b[0m \u001b[0;34m=\u001b[0m \u001b[0mlen\u001b[0m\u001b[0;34m(\u001b[0m\u001b[0mself\u001b[0m\u001b[0;34m.\u001b[0m\u001b[0mclient\u001b[0m\u001b[0;34m.\u001b[0m\u001b[0mhistory\u001b[0m\u001b[0;34m)\u001b[0m\u001b[0;34m\u001b[0m\u001b[0m\n\u001b[1;32m     47\u001b[0m     \u001b[0;32mtry\u001b[0m\u001b[0;34m:\u001b[0m\u001b[0;34m\u001b[0m\u001b[0m\n\u001b[0;32m---> 48\u001b[0;31m         \u001b[0mret\u001b[0m \u001b[0;34m=\u001b[0m \u001b[0mf\u001b[0m\u001b[0;34m(\u001b[0m\u001b[0mself\u001b[0m\u001b[0;34m,\u001b[0m \u001b[0;34m*\u001b[0m\u001b[0margs\u001b[0m\u001b[0;34m,\u001b[0m \u001b[0;34m**\u001b[0m\u001b[0mkwargs\u001b[0m\u001b[0;34m)\u001b[0m\u001b[0;34m\u001b[0m\u001b[0m\n\u001b[0m\u001b[1;32m     49\u001b[0m     \u001b[0;32mfinally\u001b[0m\u001b[0;34m:\u001b[0m\u001b[0;34m\u001b[0m\u001b[0m\n\u001b[1;32m     50\u001b[0m         \u001b[0mnmsgs\u001b[0m \u001b[0;34m=\u001b[0m \u001b[0mlen\u001b[0m\u001b[0;34m(\u001b[0m\u001b[0mself\u001b[0m\u001b[0;34m.\u001b[0m\u001b[0mclient\u001b[0m\u001b[0;34m.\u001b[0m\u001b[0mhistory\u001b[0m\u001b[0;34m)\u001b[0m \u001b[0;34m-\u001b[0m \u001b[0mn_previous\u001b[0m\u001b[0;34m\u001b[0m\u001b[0m\n",
        "\u001b[0;32m/Users/jonathantaylor/ipython/IPython/parallel/client/view.pyc\u001b[0m in \u001b[0;36m_really_apply\u001b[0;34m(self, f, args, kwargs, targets, block, track)\u001b[0m\n\u001b[1;32m    550\u001b[0m         \u001b[0;32mif\u001b[0m \u001b[0mblock\u001b[0m\u001b[0;34m:\u001b[0m\u001b[0;34m\u001b[0m\u001b[0m\n\u001b[1;32m    551\u001b[0m             \u001b[0;32mtry\u001b[0m\u001b[0;34m:\u001b[0m\u001b[0;34m\u001b[0m\u001b[0m\n\u001b[0;32m--> 552\u001b[0;31m                 \u001b[0;32mreturn\u001b[0m \u001b[0mar\u001b[0m\u001b[0;34m.\u001b[0m\u001b[0mget\u001b[0m\u001b[0;34m(\u001b[0m\u001b[0;34m)\u001b[0m\u001b[0;34m\u001b[0m\u001b[0m\n\u001b[0m\u001b[1;32m    553\u001b[0m             \u001b[0;32mexcept\u001b[0m \u001b[0mKeyboardInterrupt\u001b[0m\u001b[0;34m:\u001b[0m\u001b[0;34m\u001b[0m\u001b[0m\n\u001b[1;32m    554\u001b[0m                 \u001b[0;32mpass\u001b[0m\u001b[0;34m\u001b[0m\u001b[0m\n",
        "\u001b[0;32m/Users/jonathantaylor/ipython/IPython/parallel/client/asyncresult.pyc\u001b[0m in \u001b[0;36mget\u001b[0;34m(self, timeout)\u001b[0m\n\u001b[1;32m    118\u001b[0m                 \u001b[0;32mreturn\u001b[0m \u001b[0mself\u001b[0m\u001b[0;34m.\u001b[0m\u001b[0m_result\u001b[0m\u001b[0;34m\u001b[0m\u001b[0m\n\u001b[1;32m    119\u001b[0m             \u001b[0;32melse\u001b[0m\u001b[0;34m:\u001b[0m\u001b[0;34m\u001b[0m\u001b[0m\n\u001b[0;32m--> 120\u001b[0;31m                 \u001b[0;32mraise\u001b[0m \u001b[0mself\u001b[0m\u001b[0;34m.\u001b[0m\u001b[0m_exception\u001b[0m\u001b[0;34m\u001b[0m\u001b[0m\n\u001b[0m\u001b[1;32m    121\u001b[0m         \u001b[0;32melse\u001b[0m\u001b[0;34m:\u001b[0m\u001b[0;34m\u001b[0m\u001b[0m\n\u001b[1;32m    122\u001b[0m             \u001b[0;32mraise\u001b[0m \u001b[0merror\u001b[0m\u001b[0;34m.\u001b[0m\u001b[0mTimeoutError\u001b[0m\u001b[0;34m(\u001b[0m\u001b[0;34m\"Result not ready.\"\u001b[0m\u001b[0;34m)\u001b[0m\u001b[0;34m\u001b[0m\u001b[0m\n",
        "\u001b[0;31mCompositeError\u001b[0m: one or more exceptions from call to method: get_beta\n[0:apply]: NameError: global name 'results' is not defined\n[1:apply]: NameError: global name 'results' is not defined\n[2:apply]: NameError: global name 'results' is not defined\n[3:apply]: NameError: global name 'results' is not defined"
       ]
      }
     ],
     "prompt_number": 11
    },
    {
     "cell_type": "code",
     "collapsed": false,
     "input": [
      "",
      "",
      "if __name__ == '__main__':",
      "    import os.path",
      "",
      "    # Load IPython parallel resources, a cluster should have been instantiated",
      "    from IPython.parallel import Client",
      "    rc = Client()",
      "    # We actually work with the view, in this case using all engines",
      "    view = rc[:]",
      "    # Use the view in synchronous mode, we don't have any major space below for",
      "    # overlapping local and remote computation, and this is easier to work with",
      "    view.block = True",
      "",
      "    @view.remote()",
      "    def update_lasso_nodes(pseudo_response, tol):",
      "        node.response = fitted + pseudo_response",
      "        node.solver.fit(max_its=1000, min_its=10, tol=tol)",
      "        beta[:] = node.beta",
      "        return node.fitted",
      "",
      "    def update_global_variables(lasso_fits, y, u, rho):",
      "        # this is a reduction operation",
      "        Xbeta_bar = np.mean(lasso_fits, 0)",
      "",
      "        N = len(lasso_fits)",
      "        mu_bar = (y + rho * (Xbeta_bar + u)) / (N + rho)",
      "        u = u + Xbeta_bar - mu_bar",
      "        return Xbeta_bar, mu_bar, u",
      "",
      "    def objective(beta, X, Y, l):",
      "        return np.linalg.norm(Y - np.dot(X, beta))**2 / 2. + \\",
      "               l * np.fabs(beta).sum()",
      "",
      "    # generate a data matrix",
      "    n, p = (500, 400)",
      "    X = np.random.standard_normal((n, p))",
      "    beta = 10 * np.ones(p)",
      "    beta[200:] = 0",
      "    Y = np.dot(X, beta) + np.random.standard_normal(n)",
      "",
      "    # Scatter works on the first dimension, and we want to break things up by",
      "    # columns, so we transpose before scattering and transpo",
      "    view.scatter('Xt', X.T)",
      "",
      "    @view.remote()",
      "    def node_init(lagrange, path):",
      "        global node, beta",
      "        import os",
      "        import numpy as np",
      "        os.chdir(path)",
      "        import distributed_lasso as dl",
      "",
      "        #np.random.seed(1) # for debugging",
      "        node = dl.LassoNode(Xt.T, lagrange=lagrange)",
      "        beta = np.empty(Xt.shape[0])",
      "",
      "    # the Lagrange penalty parameter, lambda",
      "    lagrange = 40.",
      "    mu_bar = 0 * Y",
      "    Xbeta_bar = 0 * Y",
      "    u = 0 * Y",
      "    rho = 1.",
      "    tol = 1.0e-10",
      "",
      "    # This initializes all the nodes and creates the Lasso objects",
      "    node_init(lagrange, os.path.dirname(os.path.abspath(__file__)))",
      "    ",
      "    old_obj = np.inf",
      "    for i in range(2000):",
      "        lasso_fits = update_lasso_nodes(mu_bar - Xbeta_bar - u, tol)",
      "        Xbeta_bar, mu_bar, u = update_global_variables(lasso_fits, Y, u, rho)",
      "        beta = view.gather('beta')",
      "        new_obj = objective(beta, X, Y, l)",
      "        if np.fabs(old_obj-new_obj) / np.fabs(new_obj) < tol:",
      "            break",
      "        old_obj = new_obj",
      "        print 'Iteration %d, objective %0.2f' % (i, new_obj)",
      "",
      "    #np.random.seed(1) # for debugging",
      "",
      "    penalty = R.l1norm(p, lagrange=lagrange)",
      "    loss = R.quadratic.affine(-X, Y, lagrange=0.5)",
      "    lasso = R.container(loss, penalty)",
      "    solver = R.FISTA(lasso.problem())",
      "    solver.fit(tol=tol)",
      "",
      "    lasso_soln = solver.problem.coefs",
      "    distributed_soln = beta"
     ],
     "language": "python",
     "outputs": [
      {
       "ename": "NameError",
       "evalue": "name '__file__' is not defined",
       "output_type": "pyerr",
       "traceback": [
        "\u001b[0;31m---------------------------------------------------------------------------\u001b[0m\n\u001b[0;31mNameError\u001b[0m                                 Traceback (most recent call last)",
        "\u001b[0;32m<ipython-input-46-6fabeaab4f47>\u001b[0m in \u001b[0;36m<module>\u001b[0;34m()\u001b[0m\n\u001b[1;32m     65\u001b[0m \u001b[0;34m\u001b[0m\u001b[0m\n\u001b[1;32m     66\u001b[0m     \u001b[0;31m# This initializes all the nodes and creates the Lasso objects\u001b[0m\u001b[0;34m\u001b[0m\u001b[0;34m\u001b[0m\u001b[0m\n\u001b[0;32m---> 67\u001b[0;31m     \u001b[0mnode_init\u001b[0m\u001b[0;34m(\u001b[0m\u001b[0mlagrange\u001b[0m\u001b[0;34m,\u001b[0m \u001b[0mos\u001b[0m\u001b[0;34m.\u001b[0m\u001b[0mpath\u001b[0m\u001b[0;34m.\u001b[0m\u001b[0mdirname\u001b[0m\u001b[0;34m(\u001b[0m\u001b[0mos\u001b[0m\u001b[0;34m.\u001b[0m\u001b[0mpath\u001b[0m\u001b[0;34m.\u001b[0m\u001b[0mabspath\u001b[0m\u001b[0;34m(\u001b[0m\u001b[0m__file__\u001b[0m\u001b[0;34m)\u001b[0m\u001b[0;34m)\u001b[0m\u001b[0;34m)\u001b[0m\u001b[0;34m\u001b[0m\u001b[0m\n\u001b[0m\u001b[1;32m     68\u001b[0m \u001b[0;34m\u001b[0m\u001b[0m\n\u001b[1;32m     69\u001b[0m     \u001b[0mold_obj\u001b[0m \u001b[0;34m=\u001b[0m \u001b[0mnp\u001b[0m\u001b[0;34m.\u001b[0m\u001b[0minf\u001b[0m\u001b[0;34m\u001b[0m\u001b[0m\n",
        "\u001b[0;31mNameError\u001b[0m: name '__file__' is not defined"
       ]
      }
     ],
     "prompt_number": 46
    },
    {
     "cell_type": "code",
     "collapsed": false,
     "input": [
      "%%px",
      "s = factory.rows",
      "print s.sum()"
     ],
     "language": "python",
     "outputs": [
      {
       "output_type": "stream",
       "stream": "stdout",
       "text": [
        "Parallel execution on engine(s): [0, 1, 2, 3]",
        "[stdout:0] 5631818",
        "[stdout:1] 5631818",
        "[stdout:2] 5631818",
        "[stdout:3] 5631818",
        ""
       ]
      }
     ],
     "prompt_number": 38
    },
    {
     "cell_type": "code",
     "collapsed": true,
     "input": [
      "import os.path",
      "",
      "import regreg.api as R",
      "import regreg.paths as RP",
      "import numpy as np",
      "",
      "import scipy.io, scipy.sparse",
      "",
      "# np.random.seed(1)  # for debugging",
      "",
      "class loss_factory(RP.squared_error_factory):",
      "    ",
      "    def __init__(self, response, rho=1.):",
      "        RP.squared_error_factory.__init__(self, response)",
      "        self.rho = rho",
      "   ",
      "    def __call__(self, X):",
      "        n = self.response.shape[0]",
      "        return R.squared_error(X, -self.response, coef=self.rho/n)",
      "",
      "class newsgroup_factory(loss_factory):",
      "    ",
      "    def __init__(self, newsgroup_path, rows, columns, rho=1.):",
      "        D = scipy.io.loadmat(os.path.join(newsgroup_path, 'newsgroup.mat'))",
      "        X = D['X'][rows].tocsc(); Y = D['Y'].reshape(-1)[rows] ",
      "        self.X = X[:,columns]",
      "        self.columns = columns",
      "        self.selector = R.selector(columns, X.shape[1])",
      "        loss_factory.__init__(self, Y, rho)",
      "        "
     ],
     "language": "python",
     "outputs": [],
     "prompt_number": 39
    },
    {
     "cell_type": "code",
     "collapsed": false,
     "input": [
      "",
      "nf = newsgroup_factory(newsgroup_path, rows[:1000], columns[:100])"
     ],
     "language": "python",
     "outputs": [],
     "prompt_number": 40
    },
    {
     "cell_type": "code",
     "collapsed": false,
     "input": [
      "nl = R.lasso(nf, nf.X)",
      ""
     ],
     "language": "python",
     "outputs": []
    },
    {
     "cell_type": "code",
     "collapsed": false,
     "input": [
      "nl.lagrange_sequence = (2,4,6,0.01)",
      "r = nl.main()",
      ""
     ],
     "language": "python",
     "outputs": []
    },
    {
     "cell_type": "code",
     "collapsed": false,
     "input": [
      "",
      "r['beta'].todense()"
     ],
     "language": "python",
     "outputs": []
    },
    {
     "cell_type": "code",
     "collapsed": false,
     "input": [
      "nl.loss.smooth_objective(np.zeros(nl.solution.shape))"
     ],
     "language": "python",
     "outputs": []
    },
    {
     "cell_type": "code",
     "collapsed": false,
     "input": [
      "nl.strong"
     ],
     "language": "python",
     "outputs": []
    },
    {
     "cell_type": "code",
     "collapsed": false,
     "input": [
      "nl.solve_subproblem(2)"
     ],
     "language": "python",
     "outputs": []
    },
    {
     "cell_type": "code",
     "collapsed": false,
     "input": [
      "nl.solution"
     ],
     "language": "python",
     "outputs": []
    },
    {
     "cell_type": "code",
     "collapsed": false,
     "input": [
      "r['beta'].todense()"
     ],
     "language": "python",
     "outputs": []
    },
    {
     "cell_type": "code",
     "collapsed": true,
     "input": [
      ""
     ],
     "language": "python",
     "outputs": []
    },
    {
     "cell_type": "code",
     "collapsed": true,
     "input": [
      ""
     ],
     "language": "python",
     "outputs": []
    },
    {
     "cell_type": "code",
     "collapsed": true,
     "input": [
      ""
     ],
     "language": "python",
     "outputs": []
    },
    {
     "cell_type": "code",
     "collapsed": true,
     "input": [
      ""
     ],
     "language": "python",
     "outputs": []
    },
    {
     "cell_type": "code",
     "collapsed": true,
     "input": [
      ""
     ],
     "language": "python",
     "outputs": []
    },
    {
     "cell_type": "code",
     "collapsed": true,
     "input": [
      ""
     ],
     "language": "python",
     "outputs": []
    }
   ]
  }
 ]
}
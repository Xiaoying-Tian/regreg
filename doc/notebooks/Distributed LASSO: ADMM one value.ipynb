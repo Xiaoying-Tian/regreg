{
 "metadata": {
  "name": "Distributed LASSO: ADMM one value"
 },
 "nbformat": 3,
 "worksheets": [
  {
   "cells": [
    {
     "cell_type": "markdown",
     "source": [
      "",
      "",
      "From http://www.stanford.edu/~boyd/papers/pdf/admm_distr_stats.pdf.",
      "Specifically, on p. 70 $\\S$ 8.1.3, making the substitutions",
      "$x_i=\\beta_i, z_i=\\mu_i$.",
      "",
      "",
      "$$",
      "   \\newcommand{\\argmin}{\\mathop{argmin}}",
      "   \\begin{aligned}",
      "   \\beta_i^{k+1} &= \\argmin_{\\beta_i} \\left(\\frac{\\rho}{2} \\|X_i\\beta_i-X_i\\beta_i^k - \\bar{\\mu}^k + \\bar{X\\beta}^k + u^k\\|^2_2 + \\lambda\\|\\beta_i\\|_1 \\right) \\\\\\",
      "   \\bar{\\mu}^{k+1} &= \\frac{1}{N+\\rho} \\left(y + \\rho \\bar{X\\beta}^k + \\rho u^k\\right) \\\\\\",
      "   u^{k+1} &= u^k + \\bar{X\\beta}^k - \\bar{\\mu}^{k+1}",
      "   \\end{aligned}",
      "$$"
     ]
    },
    {
     "cell_type": "code",
     "input": [
      "%load_ext parallelmagic",
      "from IPython.parallel import Client",
      "rc = Client()",
      "dview = rc[:]",
      "dview.activate()",
      "dview.block = True"
     ],
     "language": "python",
     "outputs": [],
     "prompt_number": 64
    },
    {
     "cell_type": "code",
     "input": [
      "%%px",
      "import os.path",
      "",
      "import regreg.api as R; reload(R)",
      "import regreg.paths as RP; reload(RP)",
      "import numpy as np",
      "",
      "import scipy.io, scipy.sparse",
      "",
      "# np.random.seed(1)  # for debugging",
      "",
      "class loss_factory(RP.squared_error_factory):",
      "    ",
      "    def __init__(self, response, rho=1.):",
      "        RP.squared_error_factory.__init__(self, response)",
      "        self.rho = rho",
      "   ",
      "    def __call__(self, X):",
      "        n = self.response.shape[0]",
      "        return R.squared_error(X, -self.response, coef=self.rho/n)",
      "",
      "# subclass specific to this dataset",
      "class newsgroup_factory(loss_factory):",
      "    ",
      "    def __init__(self, newsgroup_path, rows, columns, rho=1.):",
      "        # can we read the newsgroup.mat on all nodes at once?",
      "        D = scipy.io.loadmat(os.path.join(newsgroup_path, 'newsgroup.mat'))",
      "        X = D['X'][rows].tocsc(); Y = D['Y'].reshape(-1)[rows] ",
      "        self.rows = rows",
      "        self.X = X[:,columns]",
      "        n, p = X.shape",
      "        self.X1 = scipy.sparse.hstack([np.ones((n, 1)), self.X])",
      "        self.Xn = R.normalize(self.X1, intercept_column=0, scale=False)",
      "        self.columns = columns",
      "        self.selector = R.selector(columns, X.shape[1])",
      "        loss_factory.__init__(self, Y, rho)",
      "        ",
      "    def fitted(self, solution):",
      "        return self.Xn.linear_map(solution)",
      "        # the code below is what is needed for a sequence of lagrange parameters",
      "        #solution = solution.tocsr()",
      "        #intercept = np.array(solution[0].todense()).reshape(-1)",
      "        #return np.array((self.X * solution[1:]).todense()) + intercept[np.newaxis, :]",
      "    ",
      "    def beta(self, solution):",
      "        return self.selector.adjoint_map(solution)"
     ],
     "language": "python",
     "outputs": [
      {
       "output_type": "stream",
       "stream": "stdout",
       "text": [
        "Parallel execution on engine(s): [0, 1]",
        ""
       ]
      }
     ],
     "prompt_number": 65
    },
    {
     "cell_type": "markdown",
     "source": [
      "Get ready to instantiate each node.",
      ""
     ]
    },
    {
     "cell_type": "code",
     "input": [
      "import numpy as np, scipy.io, os.path, regreg.api as R",
      "newsgroup_path = '/home/fperez/research/code/regreg'",
      "D = scipy.io.loadmat(os.path.join(newsgroup_path, 'newsgroup.mat'))",
      "n, p = D['X'].shape;",
      "columns = np.arange(p)",
      "np.random.shuffle(columns)",
      "rows = np.arange(n)",
      "np.random.shuffle(rows)",
      "rows_subsampled = rows[:1000]",
      "columns_subsampled = columns[:1000]",
      "dview.scatter('columns', columns_subsampled)",
      "dview.push({'rows':rows_subsampled})",
      "rho = 1.",
      "dview.push({'rho':rho})",
      "",
      "@dview.remote(block=True)",
      "def init_nodes(lagrange, newsgroup_path, rows):",
      "    global loss, problem, fitted, factory, penalty",
      "    factory = newsgroup_factory(newsgroup_path, rows, columns, rho=rho)",
      "    loss = R.squared_error(factory.Xn, factory.response)",
      "    penalty = R.l1norm(factory.Xn.primal_shape, lagrange=lagrange)",
      "    problem = R.simple_problem(loss, penalty)",
      "    fitted = np.zeros(factory.response.shape[0])",
      "    ",
      "X = D['X'][rows_subsampled].tocsc(); Y = D['Y'].reshape(-1)[rows_subsampled] ",
      "master_lasso = R.lasso.squared_error(X, Y)",
      "",
      "objective = master_lasso.problem.objective",
      "",
      "    "
     ],
     "language": "python",
     "outputs": [],
     "prompt_number": 66
    },
    {
     "cell_type": "code",
     "input": [
      "try:",
      "    init_nodes(master_lasso.lagrange_sequence[50], newsgroup_path, rows_subsampled)",
      "except CompositeError, e:",
      "    e.raise_exception()",
      ""
     ],
     "language": "python",
     "outputs": [],
     "prompt_number": 67
    },
    {
     "cell_type": "markdown",
     "source": [
      "Each node will have a copy of its own fitted values $X_i\\beta_i^k$ stored as `fitted`. The",
      "response for the next update is ",
      "$$",
      "X_i\\beta_i^k + \\bar{\\mu}^k - \\bar{X\\beta}^k - u^k",
      "$$",
      "",
      "The variable `pseudo_response` is sent from the master node and is equal to ",
      "$$",
      "\\bar{\\mu}^k - \\bar{X\\beta}^k - u^k.",
      "$$",
      "",
      "The function `update_global_variables` takes care of the updates",
      "$$",
      "   \\newcommand{\\argmin}{\\mathop{argmin}}",
      "   \\begin{aligned}",
      "   \\bar{\\mu}^{k+1} &= \\frac{1}{N+\\rho} \\left(y + \\rho \\bar{X\\beta}^k + \\rho u^k\\right) \\\\\\",
      "   u^{k+1} &= u^k + \\bar{X\\beta}^k - \\bar{\\mu}^{k+1}",
      "   \\end{aligned}",
      "$$"
     ]
    },
    {
     "cell_type": "code",
     "input": [
      "def update_global_variables(lasso_fits, y, u, rho=1.):",
      "    # this is a reduction operation",
      "    Xbeta_bar = np.mean(lasso_fits, 0)",
      "",
      "    N = len(lasso_fits)",
      "    mu_bar = (y[:,np.newaxis] + rho * (Xbeta_bar + u)) / (N + rho)",
      "    u = u + Xbeta_bar - mu_bar",
      "    return Xbeta_bar, mu_bar, u"
     ],
     "language": "python",
     "outputs": [],
     "prompt_number": 68
    },
    {
     "cell_type": "markdown",
     "source": [
      "The master must pass the `pseudo_response` to the nodes, which gets added to the local",
      "fitted values and becomes the new response for the node's `lasso` instance."
     ]
    },
    {
     "cell_type": "code",
     "input": [
      "@dview.remote()",
      "def update_lasso_nodes(pseudo_response):",
      "    global coefs, problem",
      "    coefs = problem.solve()",
      "    #raise ValueError(`fitted.shape`)",
      "    fitted[:] = factory.fitted(coefs)",
      "    factory.response = fitted + pseudo_response",
      "    loss = R.squared_error(factory.response, factory.X)",
      "    problem = R.simple_problem(loss, penalty)",
      "    return fitted",
      "",
      "@dview.remote()",
      "def get_beta():",
      "    return factory.beta(coefs)",
      "",
      "pseudo_response = np.zeros_like(rows_subsampled)",
      "u = np.zeros(pseudo_response.shape)",
      "lasso_fits = np.zeros((len(rc.ids), pseudo_response.shape[0]))"
     ],
     "language": "python",
     "outputs": [],
     "prompt_number": 69
    },
    {
     "cell_type": "code",
     "input": [
      "",
      "Xbeta_bar, mu_bar, u = update_global_variables(lasso_fits, Y, u)",
      "print mu_bar.shape, Xbeta_bar.shape, u.shape",
      "lasso_fit = update_lasso_nodes(mu_bar - Xbeta_bar - u)",
      "Xbeta_bar, mu_bar, u = update_global_variables(lasso_fits, Y, u, rho)",
      "beta = get_beta()",
      "new_obj = objective(beta)",
      "print new_obj",
      "#if np.fabs(old_obj-new_obj) / np.fabs(new_obj) < tol:",
      "#    break",
      "",
      "#a = get_beta()",
      "#print [aa.shape for aa in a]"
     ],
     "language": "python",
     "outputs": [
      {
       "ename": "AttributeError",
       "evalue": "'list' object has no attribute 'ndim'",
       "output_type": "pyerr",
       "traceback": [
        "\u001b[1;31m---------------------------------------------------------------------------\u001b[0m\n\u001b[1;31mAttributeError\u001b[0m                            Traceback (most recent call last)",
        "\u001b[1;32m<ipython-input-70-1d354fd08e53>\u001b[0m in \u001b[0;36m<module>\u001b[1;34m()\u001b[0m\n\u001b[0;32m      5\u001b[0m \u001b[0mXbeta_bar\u001b[0m\u001b[1;33m,\u001b[0m \u001b[0mmu_bar\u001b[0m\u001b[1;33m,\u001b[0m \u001b[0mu\u001b[0m \u001b[1;33m=\u001b[0m \u001b[0mupdate_global_variables\u001b[0m\u001b[1;33m(\u001b[0m\u001b[0mlasso_fits\u001b[0m\u001b[1;33m,\u001b[0m \u001b[0mY\u001b[0m\u001b[1;33m,\u001b[0m \u001b[0mu\u001b[0m\u001b[1;33m,\u001b[0m \u001b[0mrho\u001b[0m\u001b[1;33m)\u001b[0m\u001b[1;33m\u001b[0m\u001b[0m\n\u001b[0;32m      6\u001b[0m \u001b[0mbeta\u001b[0m \u001b[1;33m=\u001b[0m \u001b[0mget_beta\u001b[0m\u001b[1;33m(\u001b[0m\u001b[1;33m)\u001b[0m\u001b[1;33m\u001b[0m\u001b[0m\n\u001b[1;32m----> 7\u001b[1;33m \u001b[0mnew_obj\u001b[0m \u001b[1;33m=\u001b[0m \u001b[0mobjective\u001b[0m\u001b[1;33m(\u001b[0m\u001b[0mbeta\u001b[0m\u001b[1;33m)\u001b[0m\u001b[1;33m\u001b[0m\u001b[0m\n\u001b[0m\u001b[0;32m      8\u001b[0m \u001b[1;32mprint\u001b[0m \u001b[0mnew_obj\u001b[0m\u001b[1;33m\u001b[0m\u001b[0m\n\u001b[0;32m      9\u001b[0m \u001b[1;31m#if np.fabs(old_obj-new_obj) / np.fabs(new_obj) < tol:\u001b[0m\u001b[1;33m\u001b[0m\u001b[1;33m\u001b[0m\u001b[0m\n",
        "\u001b[1;32m/home/fperez/usr/local/lib/python2.7/site-packages/regreg/composite.pyc\u001b[0m in \u001b[0;36mobjective\u001b[1;34m(self, x, check_feasibility)\u001b[0m\n\u001b[0;32m     66\u001b[0m \u001b[1;33m\u001b[0m\u001b[0m\n\u001b[0;32m     67\u001b[0m     \u001b[1;32mdef\u001b[0m \u001b[0mobjective\u001b[0m\u001b[1;33m(\u001b[0m\u001b[0mself\u001b[0m\u001b[1;33m,\u001b[0m \u001b[0mx\u001b[0m\u001b[1;33m,\u001b[0m \u001b[0mcheck_feasibility\u001b[0m\u001b[1;33m=\u001b[0m\u001b[0mFalse\u001b[0m\u001b[1;33m)\u001b[0m\u001b[1;33m:\u001b[0m\u001b[1;33m\u001b[0m\u001b[0m\n\u001b[1;32m---> 68\u001b[1;33m         \u001b[1;32mreturn\u001b[0m \u001b[0mself\u001b[0m\u001b[1;33m.\u001b[0m\u001b[0msmooth_objective\u001b[0m\u001b[1;33m(\u001b[0m\u001b[0mx\u001b[0m\u001b[1;33m,\u001b[0m\u001b[0mmode\u001b[0m\u001b[1;33m=\u001b[0m\u001b[1;34m'func'\u001b[0m\u001b[1;33m,\u001b[0m \u001b[0mcheck_feasibility\u001b[0m\u001b[1;33m=\u001b[0m\u001b[0mcheck_feasibility\u001b[0m\u001b[1;33m)\u001b[0m \u001b[1;33m+\u001b[0m \u001b[0mself\u001b[0m\u001b[1;33m.\u001b[0m\u001b[0mnonsmooth_objective\u001b[0m\u001b[1;33m(\u001b[0m\u001b[0mx\u001b[0m\u001b[1;33m,\u001b[0m \u001b[0mcheck_feasibility\u001b[0m\u001b[1;33m=\u001b[0m\u001b[0mcheck_feasibility\u001b[0m\u001b[1;33m)\u001b[0m\u001b[1;33m\u001b[0m\u001b[0m\n\u001b[0m\u001b[0;32m     69\u001b[0m \u001b[1;33m\u001b[0m\u001b[0m\n\u001b[0;32m     70\u001b[0m     \u001b[1;32mdef\u001b[0m \u001b[0mproximal_optimum\u001b[0m\u001b[1;33m(\u001b[0m\u001b[0mself\u001b[0m\u001b[1;33m,\u001b[0m \u001b[0mquadratic\u001b[0m\u001b[1;33m)\u001b[0m\u001b[1;33m:\u001b[0m\u001b[1;33m\u001b[0m\u001b[0m\n",
        "\u001b[1;32m/home/fperez/usr/local/lib/python2.7/site-packages/regreg/simple.pyc\u001b[0m in \u001b[0;36msmooth_objective\u001b[1;34m(self, x, mode, check_feasibility)\u001b[0m\n\u001b[0;32m     26\u001b[0m         \u001b[0mthe\u001b[0m \u001b[0mnonsmooth_atom\u001b[0m \u001b[0mhas\u001b[0m \u001b[1;36m0\u001b[0m \u001b[1;32mfor\u001b[0m \u001b[0msmooth_objective\u001b[0m\u001b[1;33m.\u001b[0m\u001b[1;33m\u001b[0m\u001b[0m\n\u001b[0;32m     27\u001b[0m         \"\"\"\n\u001b[1;32m---> 28\u001b[1;33m         \u001b[0mvs\u001b[0m \u001b[1;33m=\u001b[0m \u001b[0mself\u001b[0m\u001b[1;33m.\u001b[0m\u001b[0msmooth_atom\u001b[0m\u001b[1;33m.\u001b[0m\u001b[0msmooth_objective\u001b[0m\u001b[1;33m(\u001b[0m\u001b[0mx\u001b[0m\u001b[1;33m,\u001b[0m \u001b[0mmode\u001b[0m\u001b[1;33m,\u001b[0m \u001b[0mcheck_feasibility\u001b[0m\u001b[1;33m)\u001b[0m\u001b[1;33m\u001b[0m\u001b[0m\n\u001b[0m\u001b[0;32m     29\u001b[0m         \u001b[1;32mreturn\u001b[0m \u001b[0mvs\u001b[0m\u001b[1;33m\u001b[0m\u001b[0m\n\u001b[0;32m     30\u001b[0m \u001b[1;33m\u001b[0m\u001b[0m\n",
        "\u001b[1;32m/home/fperez/usr/local/lib/python2.7/site-packages/regreg/smooth.pyc\u001b[0m in \u001b[0;36msmooth_objective\u001b[1;34m(self, x, mode, check_feasibility)\u001b[0m\n\u001b[0;32m    136\u001b[0m \u001b[1;33m\u001b[0m\u001b[0m\n\u001b[0;32m    137\u001b[0m     \u001b[1;32mdef\u001b[0m \u001b[0msmooth_objective\u001b[0m\u001b[1;33m(\u001b[0m\u001b[0mself\u001b[0m\u001b[1;33m,\u001b[0m \u001b[0mx\u001b[0m\u001b[1;33m,\u001b[0m \u001b[0mmode\u001b[0m\u001b[1;33m=\u001b[0m\u001b[1;34m'both'\u001b[0m\u001b[1;33m,\u001b[0m \u001b[0mcheck_feasibility\u001b[0m\u001b[1;33m=\u001b[0m\u001b[0mFalse\u001b[0m\u001b[1;33m)\u001b[0m\u001b[1;33m:\u001b[0m\u001b[1;33m\u001b[0m\u001b[0m\n\u001b[1;32m--> 138\u001b[1;33m         \u001b[0meta\u001b[0m \u001b[1;33m=\u001b[0m \u001b[0mself\u001b[0m\u001b[1;33m.\u001b[0m\u001b[0maffine_transform\u001b[0m\u001b[1;33m.\u001b[0m\u001b[0maffine_map\u001b[0m\u001b[1;33m(\u001b[0m\u001b[0mx\u001b[0m\u001b[1;33m)\u001b[0m\u001b[1;33m\u001b[0m\u001b[0m\n\u001b[0m\u001b[0;32m    139\u001b[0m         \u001b[1;32mif\u001b[0m \u001b[0mmode\u001b[0m \u001b[1;33m==\u001b[0m \u001b[1;34m'both'\u001b[0m\u001b[1;33m:\u001b[0m\u001b[1;33m\u001b[0m\u001b[0m\n\u001b[0;32m    140\u001b[0m             \u001b[0mv\u001b[0m\u001b[1;33m,\u001b[0m \u001b[0mg\u001b[0m \u001b[1;33m=\u001b[0m \u001b[0mself\u001b[0m\u001b[1;33m.\u001b[0m\u001b[0msm_atom\u001b[0m\u001b[1;33m.\u001b[0m\u001b[0msmooth_objective\u001b[0m\u001b[1;33m(\u001b[0m\u001b[0meta\u001b[0m\u001b[1;33m,\u001b[0m \u001b[0mmode\u001b[0m\u001b[1;33m=\u001b[0m\u001b[1;34m'both'\u001b[0m\u001b[1;33m)\u001b[0m\u001b[1;33m\u001b[0m\u001b[0m\n",
        "\u001b[1;32m/home/fperez/usr/local/lib/python2.7/site-packages/regreg/affine.pyc\u001b[0m in \u001b[0;36maffine_map\u001b[1;34m(self, x, copy)\u001b[0m\n\u001b[0;32m    184\u001b[0m         \"\"\"\n\u001b[0;32m    185\u001b[0m         \u001b[1;32mif\u001b[0m \u001b[0mself\u001b[0m\u001b[1;33m.\u001b[0m\u001b[0maffineD\u001b[0m\u001b[1;33m:\u001b[0m\u001b[1;33m\u001b[0m\u001b[0m\n\u001b[1;32m--> 186\u001b[1;33m             \u001b[0mv\u001b[0m \u001b[1;33m=\u001b[0m \u001b[0mself\u001b[0m\u001b[1;33m.\u001b[0m\u001b[0mlinear_operator\u001b[0m\u001b[1;33m.\u001b[0m\u001b[0maffine_map\u001b[0m\u001b[1;33m(\u001b[0m\u001b[0mx\u001b[0m\u001b[1;33m)\u001b[0m\u001b[1;33m\u001b[0m\u001b[0m\n\u001b[0m\u001b[0;32m    187\u001b[0m         \u001b[1;32melse\u001b[0m\u001b[1;33m:\u001b[0m\u001b[1;33m\u001b[0m\u001b[0m\n\u001b[0;32m    188\u001b[0m             \u001b[0mv\u001b[0m \u001b[1;33m=\u001b[0m \u001b[0mself\u001b[0m\u001b[1;33m.\u001b[0m\u001b[0mlinear_map\u001b[0m\u001b[1;33m(\u001b[0m\u001b[0mx\u001b[0m\u001b[1;33m,\u001b[0m \u001b[0mcopy\u001b[0m\u001b[1;33m)\u001b[0m\u001b[1;33m\u001b[0m\u001b[0m\n",
        "\u001b[1;32m/home/fperez/usr/local/lib/python2.7/site-packages/regreg/affine.pyc\u001b[0m in \u001b[0;36maffine_map\u001b[1;34m(self, x)\u001b[0m\n\u001b[0;32m    509\u001b[0m \u001b[1;33m\u001b[0m\u001b[0m\n\u001b[0;32m    510\u001b[0m     \u001b[1;32mdef\u001b[0m \u001b[0maffine_map\u001b[0m\u001b[1;33m(\u001b[0m\u001b[0mself\u001b[0m\u001b[1;33m,\u001b[0m \u001b[0mx\u001b[0m\u001b[1;33m)\u001b[0m\u001b[1;33m:\u001b[0m\u001b[1;33m\u001b[0m\u001b[0m\n\u001b[1;32m--> 511\u001b[1;33m         \u001b[1;32mreturn\u001b[0m \u001b[0mself\u001b[0m\u001b[1;33m.\u001b[0m\u001b[0mlinear_map\u001b[0m\u001b[1;33m(\u001b[0m\u001b[0mx\u001b[0m\u001b[1;33m)\u001b[0m\u001b[1;33m\u001b[0m\u001b[0m\n\u001b[0m\u001b[0;32m    512\u001b[0m \u001b[1;33m\u001b[0m\u001b[0m\n\u001b[0;32m    513\u001b[0m     \u001b[1;32mdef\u001b[0m \u001b[0moffset_map\u001b[0m\u001b[1;33m(\u001b[0m\u001b[0mself\u001b[0m\u001b[1;33m,\u001b[0m \u001b[0mx\u001b[0m\u001b[1;33m)\u001b[0m\u001b[1;33m:\u001b[0m\u001b[1;33m\u001b[0m\u001b[0m\n",
        "\u001b[1;32m/home/fperez/usr/local/lib/python2.7/site-packages/regreg/affine.pyc\u001b[0m in \u001b[0;36mlinear_map\u001b[1;34m(self, x)\u001b[0m\n\u001b[0;32m    477\u001b[0m                 \u001b[0mx_intercept\u001b[0m \u001b[1;33m=\u001b[0m \u001b[0mx\u001b[0m\u001b[1;33m[\u001b[0m\u001b[0mself\u001b[0m\u001b[1;33m.\u001b[0m\u001b[0mintercept_column\u001b[0m\u001b[1;33m]\u001b[0m\u001b[1;33m\u001b[0m\u001b[0m\n\u001b[0;32m    478\u001b[0m         \u001b[1;32mif\u001b[0m \u001b[0mself\u001b[0m\u001b[1;33m.\u001b[0m\u001b[0mscale\u001b[0m\u001b[1;33m:\u001b[0m\u001b[1;33m\u001b[0m\u001b[0m\n\u001b[1;32m--> 479\u001b[1;33m             \u001b[1;32mif\u001b[0m \u001b[0mx\u001b[0m\u001b[1;33m.\u001b[0m\u001b[0mndim\u001b[0m \u001b[1;33m==\u001b[0m \u001b[1;36m1\u001b[0m\u001b[1;33m:\u001b[0m\u001b[1;33m\u001b[0m\u001b[0m\n\u001b[0m\u001b[0;32m    480\u001b[0m                 \u001b[0mx\u001b[0m \u001b[1;33m=\u001b[0m \u001b[0mx\u001b[0m \u001b[1;33m/\u001b[0m \u001b[0mself\u001b[0m\u001b[1;33m.\u001b[0m\u001b[0mcol_stds\u001b[0m\u001b[1;33m\u001b[0m\u001b[0m\n\u001b[0;32m    481\u001b[0m             \u001b[1;32melif\u001b[0m \u001b[0mx\u001b[0m\u001b[1;33m.\u001b[0m\u001b[0mndim\u001b[0m \u001b[1;33m==\u001b[0m \u001b[1;36m2\u001b[0m\u001b[1;33m:\u001b[0m\u001b[1;33m\u001b[0m\u001b[0m\n",
        "\u001b[1;31mAttributeError\u001b[0m: 'list' object has no attribute 'ndim'"
       ]
      },
      {
       "output_type": "stream",
       "stream": "stdout",
       "text": [
        "(1000, 1000) (1000,) (1000, 1000)",
        ""
       ]
      }
     ],
     "prompt_number": 70
    },
    {
     "cell_type": "code",
     "input": [
      "%%px",
      "from IPython.parallel import bind_kernel",
      "#bind_kernel()",
      "",
      "#from IPython.parallel.error import CompositeError",
      "#try:",
      "#    lasso_fits = update_lasso_nodes(pseudo_response)",
      "#except CompositeError, e:",
      "#    e.raise_exception()",
      "    "
     ],
     "language": "python",
     "outputs": []
    },
    {
     "cell_type": "code",
     "input": [
      "#%px %qtconsole"
     ],
     "language": "python",
     "outputs": []
    },
    {
     "cell_type": "code",
     "input": [
      ""
     ],
     "language": "python",
     "outputs": []
    }
   ]
  }
 ]
}
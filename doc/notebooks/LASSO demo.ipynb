{
 "metadata": {
  "name": "LASSO demo"
 },
 "nbformat": 3,
 "nbformat_minor": 0,
 "worksheets": [
  {
   "cells": [
    {
     "cell_type": "markdown",
     "metadata": {},
     "source": [
      "The main module for accessing objects is `regreg.api`."
     ]
    },
    {
     "cell_type": "code",
     "collapsed": false,
     "input": [
      "import numpy as np\n",
      "import regreg.api as rr\n",
      "from IPython.display import Math"
     ],
     "language": "python",
     "metadata": {},
     "outputs": [],
     "prompt_number": 1
    },
    {
     "cell_type": "markdown",
     "metadata": {},
     "source": [
      "We will compare our fitted values to `R`s output from `lars`."
     ]
    },
    {
     "cell_type": "code",
     "collapsed": false,
     "input": [
      "%load_ext rmagic"
     ],
     "language": "python",
     "metadata": {},
     "outputs": [
      {
       "output_type": "stream",
       "stream": "stdout",
       "text": [
        "The rmagic extension is already loaded. To reload it, use:\n",
        "  %reload_ext rmagic\n"
       ]
      }
     ],
     "prompt_number": 2
    },
    {
     "cell_type": "code",
     "collapsed": false,
     "input": [
      "%%R -o X,Y\n",
      "library(lars)\n",
      "data(diabetes)\n",
      "X = diabetes$x\n",
      "Y = diabetes$y\n"
     ],
     "language": "python",
     "metadata": {},
     "outputs": [
      {
       "metadata": {},
       "output_type": "display_data",
       "text": [
        "Loaded lars 1.1\n",
        "\n"
       ]
      }
     ],
     "prompt_number": 3
    },
    {
     "cell_type": "markdown",
     "metadata": {},
     "source": [
      "For a given $X, Y$, the squared error loss"
     ]
    },
    {
     "cell_type": "code",
     "collapsed": false,
     "input": [
      "loss = rr.squared_error(X, Y)\n",
      "Math(loss.latexify())"
     ],
     "language": "python",
     "metadata": {},
     "outputs": [
      {
       "latex": [
        "$$C\\left\\|X_{}\\beta - Y_{}\\right\\|^2_2$$"
       ],
       "metadata": {},
       "output_type": "pyout",
       "prompt_number": 15,
       "text": [
        "<IPython.core.display.Math at 0xa5a68d0>"
       ]
      }
     ],
     "prompt_number": 15
    },
    {
     "cell_type": "code",
     "collapsed": false,
     "input": [
      "penalty_lagrange = rr.l1norm(10, lagrange=200)\n",
      "Math(penalty_lagrange.latexify())\n",
      "problem_lagrange = rr.simple_problem(loss, penalty_lagrange)\n",
      "coef_lagrange = problem_lagrange.solve(tol=1.e-12)\n",
      "print(coef_lagrange)"
     ],
     "language": "python",
     "metadata": {},
     "outputs": [
      {
       "output_type": "stream",
       "stream": "stdout",
       "text": [
        "[  -0.            0.         -479.01880416 -149.17252025    0.            0.\n",
        "   71.22656102   -0.         -415.33448968   -0.        ]\n"
       ]
      }
     ],
     "prompt_number": 16
    },
    {
     "cell_type": "code",
     "collapsed": false,
     "input": [
      "Math(problem_lagrange.latexify())"
     ],
     "language": "python",
     "metadata": {},
     "outputs": [
      {
       "latex": [
        "$$\n",
        "\\begin{aligned}\n",
        "\\text{minimize}_{\\beta} & f(\\beta) + g(\\beta) \\\\\n",
        "f(\\beta) &= C\\left\\|X_{1}\\beta - Y_{1}\\right\\|^2_2 \\\\\n",
        "g(\\beta) &= \\lambda_{2} \\|\\beta\\|_1 \\\\\n",
        "\\end{aligned}\n",
        "$$"
       ],
       "metadata": {},
       "output_type": "pyout",
       "prompt_number": 17,
       "text": [
        "<IPython.core.display.Math at 0xa5a6ad0>"
       ]
      }
     ],
     "prompt_number": 17
    },
    {
     "cell_type": "code",
     "collapsed": false,
     "input": [
      "implied_bound = np.fabs(coef_lagrange).sum()\n",
      "print(implied_bound)"
     ],
     "language": "python",
     "metadata": {},
     "outputs": [
      {
       "output_type": "stream",
       "stream": "stdout",
       "text": [
        "1114.75237512\n"
       ]
      }
     ],
     "prompt_number": 18
    },
    {
     "cell_type": "code",
     "collapsed": false,
     "input": [
      "bound_constraint = rr.l1norm(10, bound=implied_bound)\n",
      "problem_bound = rr.simple_problem(loss, bound_constraint)\n",
      "Math(problem_bound.latexify())"
     ],
     "language": "python",
     "metadata": {},
     "outputs": [
      {
       "latex": [
        "$$\n",
        "\\begin{aligned}\n",
        "\\text{minimize}_{\\beta} & f(\\beta) + g(\\beta) \\\\\n",
        "f(\\beta) &= C\\left\\|X_{1}\\beta - Y_{1}\\right\\|^2_2 \\\\\n",
        "g(\\beta) &= I^{\\infty}(\\|\\beta\\|_1 \\leq \\delta_{2}) \\\\\n",
        "\\end{aligned}\n",
        "$$"
       ],
       "metadata": {},
       "output_type": "pyout",
       "prompt_number": 19,
       "text": [
        "<IPython.core.display.Math at 0xa59eb10>"
       ]
      }
     ],
     "prompt_number": 19
    },
    {
     "cell_type": "code",
     "collapsed": false,
     "input": [
      "coef_bound = problem_bound.solve(tol=1.e-12)\n",
      "print(coef_bound)"
     ],
     "language": "python",
     "metadata": {},
     "outputs": [
      {
       "output_type": "stream",
       "stream": "stdout",
       "text": [
        "[   0.           -0.         -479.01914146 -149.17251245   -0.           -0.\n",
        "   71.22616687    0.         -415.33455434    0.        ]\n"
       ]
      }
     ],
     "prompt_number": 12
    },
    {
     "cell_type": "code",
     "collapsed": false,
     "input": [
      "np.linalg.norm(coef_bound - coef_lagrange) / np.linalg.norm(coef_lagrange)"
     ],
     "language": "python",
     "metadata": {},
     "outputs": [
      {
       "metadata": {},
       "output_type": "pyout",
       "prompt_number": 13,
       "text": [
        "7.9799131568331436e-07"
       ]
      }
     ],
     "prompt_number": 13
    },
    {
     "cell_type": "code",
     "collapsed": false,
     "input": [
      "Math(problem_bound.latexify())"
     ],
     "language": "python",
     "metadata": {},
     "outputs": [
      {
       "latex": [
        "$$\n",
        "\\begin{aligned}\n",
        "\\text{minimize}_{\\beta} & f(\\beta) + g(\\beta) \\\\\n",
        "f(\\beta) &= C\\left\\|X_{1}\\beta - Y_{1}\\right\\|^2_2 \\\\\n",
        "g(\\beta) &= I^{\\infty}(\\|\\beta\\|_1 \\leq \\delta_{2}) \\\\\n",
        "\\end{aligned}\n",
        "$$"
       ],
       "metadata": {},
       "output_type": "pyout",
       "prompt_number": 14,
       "text": [
        "<IPython.core.display.Math at 0xa59e9b0>"
       ]
      }
     ],
     "prompt_number": 14
    },
    {
     "cell_type": "heading",
     "level": 2,
     "metadata": {},
     "source": [
      "Comparison to LARS"
     ]
    },
    {
     "cell_type": "code",
     "collapsed": false,
     "input": [
      "%%R -o L,B\n",
      "lars_fit = lars(X, Y, type='lasso', normalize=FALSE, intercept=FALSE)\n",
      "L = lars_fit$lambda\n",
      "B = lars_fit$beta"
     ],
     "language": "python",
     "metadata": {},
     "outputs": [],
     "prompt_number": 9
    },
    {
     "cell_type": "code",
     "collapsed": false,
     "input": [
      "solns = []\n",
      "for lagrange in L:\n",
      "    penalty_lagrange.lagrange = lagrange\n",
      "    soln = problem_lagrange.solve(tol=1.e-12)\n",
      "    solns.append(soln.copy())\n",
      "solns.append(np.dot(np.linalg.pinv(X), Y))\n",
      "solns = np.array(solns)\n"
     ],
     "language": "python",
     "metadata": {},
     "outputs": [],
     "prompt_number": 10
    },
    {
     "cell_type": "code",
     "collapsed": false,
     "input": [
      "print [np.linalg.norm(B[i] - solns[i]) / max(np.linalg.norm(B[i]), np.linalg.norm(solns[i]),1) for i in range(solns.shape[0])]\n"
     ],
     "language": "python",
     "metadata": {},
     "outputs": [
      {
       "output_type": "stream",
       "stream": "stdout",
       "text": [
        "[0.0, 3.7608696193502326e-05, 7.2955089079699002e-06, 5.4337965592815922e-06, 2.7212899296094342e-06, 3.8257292740352516e-06, 1.6269402371375937e-05, 7.5366116712411135e-06, 0.00016712306582799966, 1.5524617950935121e-05, 6.0066322936878123e-06, 2.4327093955342122e-05, 3.0114314630637587e-14]\n"
       ]
      }
     ],
     "prompt_number": 11
    },
    {
     "cell_type": "heading",
     "level": 2,
     "metadata": {},
     "source": [
      "Path of solutions"
     ]
    },
    {
     "cell_type": "code",
     "collapsed": false,
     "input": [
      "%%R -o B2\n",
      "library(glmnet)\n",
      "A=glmnet(X,Y, lambda=L/nrow(X),standardize=FALSE, intercept=FALSE)\n",
      "B2 = as.matrix(A$beta)\n",
      "print(L)\n",
      "print(A$beta-B[1:12])"
     ],
     "language": "python",
     "metadata": {},
     "outputs": [
      {
       "ename": "RInterpreterError",
       "evalue": "Failed to parse and evaluate line u'library(glmnet)\\nA=glmnet(X,Y, lambda=L/nrow(X),standardize=FALSE, intercept=FALSE)\\nB2 = as.matrix(A$beta)\\nprint(L)\\nprint(A$beta-B[1:12])'.\nR error message: u'Error in glmnet(X, Y, lambda = L/nrow(X), standardize = FALSE, intercept = FALSE) : \\n  unused argument(s) (intercept = FALSE)'\nR stdout:\nLoading required package: Matrix\nLoading required package: lattice\nLoaded glmnet 1.7.4\n\nError in glmnet(X, Y, lambda = L/nrow(X), standardize = FALSE, intercept = FALSE) : \n  unused argument(s) (intercept = FALSE)",
       "output_type": "pyerr",
       "traceback": [
        "\u001b[0;31m---------------------------------------------------------------------------\u001b[0m\n\u001b[0;31mRInterpreterError\u001b[0m                         Traceback (most recent call last)",
        "\u001b[0;32m<ipython-input-12-86117aec0e56>\u001b[0m in \u001b[0;36m<module>\u001b[0;34m()\u001b[0m\n\u001b[0;32m----> 1\u001b[0;31m \u001b[0mget_ipython\u001b[0m\u001b[0;34m(\u001b[0m\u001b[0;34m)\u001b[0m\u001b[0;34m.\u001b[0m\u001b[0mrun_cell_magic\u001b[0m\u001b[0;34m(\u001b[0m\u001b[0;34mu'R'\u001b[0m\u001b[0;34m,\u001b[0m \u001b[0;34mu'-o B2'\u001b[0m\u001b[0;34m,\u001b[0m \u001b[0;34mu'library(glmnet)\\nA=glmnet(X,Y, lambda=L/nrow(X),standardize=FALSE, intercept=FALSE)\\nB2 = as.matrix(A$beta)\\nprint(L)\\nprint(A$beta-B[1:12])'\u001b[0m\u001b[0;34m)\u001b[0m\u001b[0;34m\u001b[0m\u001b[0m\n\u001b[0m",
        "\u001b[0;32m/Users/jonathantaylor/ipython/IPython/core/interactiveshell.pyc\u001b[0m in \u001b[0;36mrun_cell_magic\u001b[0;34m(self, magic_name, line, cell)\u001b[0m\n\u001b[1;32m   2134\u001b[0m             \u001b[0mmagic_arg_s\u001b[0m \u001b[0;34m=\u001b[0m \u001b[0mself\u001b[0m\u001b[0;34m.\u001b[0m\u001b[0mvar_expand\u001b[0m\u001b[0;34m(\u001b[0m\u001b[0mline\u001b[0m\u001b[0;34m,\u001b[0m \u001b[0mstack_depth\u001b[0m\u001b[0;34m)\u001b[0m\u001b[0;34m\u001b[0m\u001b[0m\n\u001b[1;32m   2135\u001b[0m             \u001b[0;32mwith\u001b[0m \u001b[0mself\u001b[0m\u001b[0;34m.\u001b[0m\u001b[0mbuiltin_trap\u001b[0m\u001b[0;34m:\u001b[0m\u001b[0;34m\u001b[0m\u001b[0m\n\u001b[0;32m-> 2136\u001b[0;31m                 \u001b[0mresult\u001b[0m \u001b[0;34m=\u001b[0m \u001b[0mfn\u001b[0m\u001b[0;34m(\u001b[0m\u001b[0mmagic_arg_s\u001b[0m\u001b[0;34m,\u001b[0m \u001b[0mcell\u001b[0m\u001b[0;34m)\u001b[0m\u001b[0;34m\u001b[0m\u001b[0m\n\u001b[0m\u001b[1;32m   2137\u001b[0m             \u001b[0;32mreturn\u001b[0m \u001b[0mresult\u001b[0m\u001b[0;34m\u001b[0m\u001b[0m\n\u001b[1;32m   2138\u001b[0m \u001b[0;34m\u001b[0m\u001b[0m\n",
        "\u001b[0;32m/Users/jonathantaylor/ipython/IPython/extensions/rmagic.pyc\u001b[0m in \u001b[0;36mR\u001b[0;34m(self, line, cell, local_ns)\u001b[0m\n",
        "\u001b[0;32m/Users/jonathantaylor/ipython/IPython/core/magic.pyc\u001b[0m in \u001b[0;36m<lambda>\u001b[0;34m(f, *a, **k)\u001b[0m\n\u001b[1;32m    189\u001b[0m     \u001b[0;31m# but it's overkill for just that one bit of state.\u001b[0m\u001b[0;34m\u001b[0m\u001b[0;34m\u001b[0m\u001b[0m\n\u001b[1;32m    190\u001b[0m     \u001b[0;32mdef\u001b[0m \u001b[0mmagic_deco\u001b[0m\u001b[0;34m(\u001b[0m\u001b[0marg\u001b[0m\u001b[0;34m)\u001b[0m\u001b[0;34m:\u001b[0m\u001b[0;34m\u001b[0m\u001b[0m\n\u001b[0;32m--> 191\u001b[0;31m         \u001b[0mcall\u001b[0m \u001b[0;34m=\u001b[0m \u001b[0;32mlambda\u001b[0m \u001b[0mf\u001b[0m\u001b[0;34m,\u001b[0m \u001b[0;34m*\u001b[0m\u001b[0ma\u001b[0m\u001b[0;34m,\u001b[0m \u001b[0;34m**\u001b[0m\u001b[0mk\u001b[0m\u001b[0;34m:\u001b[0m \u001b[0mf\u001b[0m\u001b[0;34m(\u001b[0m\u001b[0;34m*\u001b[0m\u001b[0ma\u001b[0m\u001b[0;34m,\u001b[0m \u001b[0;34m**\u001b[0m\u001b[0mk\u001b[0m\u001b[0;34m)\u001b[0m\u001b[0;34m\u001b[0m\u001b[0m\n\u001b[0m\u001b[1;32m    192\u001b[0m \u001b[0;34m\u001b[0m\u001b[0m\n\u001b[1;32m    193\u001b[0m         \u001b[0;32mif\u001b[0m \u001b[0mcallable\u001b[0m\u001b[0;34m(\u001b[0m\u001b[0marg\u001b[0m\u001b[0;34m)\u001b[0m\u001b[0;34m:\u001b[0m\u001b[0;34m\u001b[0m\u001b[0m\n",
        "\u001b[0;32m/Users/jonathantaylor/ipython/IPython/extensions/rmagic.pyc\u001b[0m in \u001b[0;36mR\u001b[0;34m(self, line, cell, local_ns)\u001b[0m\n\u001b[1;32m    587\u001b[0m                 \u001b[0mreturn_output\u001b[0m \u001b[0;34m=\u001b[0m \u001b[0mFalse\u001b[0m\u001b[0;34m\u001b[0m\u001b[0m\n\u001b[1;32m    588\u001b[0m         \u001b[0;32melse\u001b[0m\u001b[0;34m:\u001b[0m\u001b[0;34m\u001b[0m\u001b[0m\n\u001b[0;32m--> 589\u001b[0;31m             \u001b[0mtext_result\u001b[0m\u001b[0;34m,\u001b[0m \u001b[0mresult\u001b[0m \u001b[0;34m=\u001b[0m \u001b[0mself\u001b[0m\u001b[0;34m.\u001b[0m\u001b[0meval\u001b[0m\u001b[0;34m(\u001b[0m\u001b[0mcode\u001b[0m\u001b[0;34m)\u001b[0m\u001b[0;34m\u001b[0m\u001b[0m\n\u001b[0m\u001b[1;32m    590\u001b[0m             \u001b[0mtext_output\u001b[0m \u001b[0;34m+=\u001b[0m \u001b[0mtext_result\u001b[0m\u001b[0;34m\u001b[0m\u001b[0m\n\u001b[1;32m    591\u001b[0m \u001b[0;34m\u001b[0m\u001b[0m\n",
        "\u001b[0;32m/Users/jonathantaylor/ipython/IPython/extensions/rmagic.pyc\u001b[0m in \u001b[0;36meval\u001b[0;34m(self, line)\u001b[0m\n\u001b[1;32m    196\u001b[0m         \u001b[0;32mexcept\u001b[0m \u001b[0;34m(\u001b[0m\u001b[0mri\u001b[0m\u001b[0;34m.\u001b[0m\u001b[0mRRuntimeError\u001b[0m\u001b[0;34m,\u001b[0m \u001b[0mValueError\u001b[0m\u001b[0;34m)\u001b[0m \u001b[0;32mas\u001b[0m \u001b[0mexception\u001b[0m\u001b[0;34m:\u001b[0m\u001b[0;34m\u001b[0m\u001b[0m\n\u001b[1;32m    197\u001b[0m             \u001b[0mwarning_or_other_msg\u001b[0m \u001b[0;34m=\u001b[0m \u001b[0mself\u001b[0m\u001b[0;34m.\u001b[0m\u001b[0mflush\u001b[0m\u001b[0;34m(\u001b[0m\u001b[0;34m)\u001b[0m \u001b[0;31m# otherwise next return seems to have copy of error\u001b[0m\u001b[0;34m\u001b[0m\u001b[0m\n\u001b[0;32m--> 198\u001b[0;31m             \u001b[0;32mraise\u001b[0m \u001b[0mRInterpreterError\u001b[0m\u001b[0;34m(\u001b[0m\u001b[0mline\u001b[0m\u001b[0;34m,\u001b[0m \u001b[0mstr_to_unicode\u001b[0m\u001b[0;34m(\u001b[0m\u001b[0mstr\u001b[0m\u001b[0;34m(\u001b[0m\u001b[0mexception\u001b[0m\u001b[0;34m)\u001b[0m\u001b[0;34m)\u001b[0m\u001b[0;34m,\u001b[0m \u001b[0mwarning_or_other_msg\u001b[0m\u001b[0;34m)\u001b[0m\u001b[0;34m\u001b[0m\u001b[0m\n\u001b[0m\u001b[1;32m    199\u001b[0m         \u001b[0mtext_output\u001b[0m \u001b[0;34m=\u001b[0m \u001b[0mself\u001b[0m\u001b[0;34m.\u001b[0m\u001b[0mflush\u001b[0m\u001b[0;34m(\u001b[0m\u001b[0;34m)\u001b[0m\u001b[0;34m\u001b[0m\u001b[0m\n\u001b[1;32m    200\u001b[0m         \u001b[0mri\u001b[0m\u001b[0;34m.\u001b[0m\u001b[0mset_writeconsole\u001b[0m\u001b[0;34m(\u001b[0m\u001b[0mold_writeconsole\u001b[0m\u001b[0;34m)\u001b[0m\u001b[0;34m\u001b[0m\u001b[0m\n",
        "\u001b[0;31mRInterpreterError\u001b[0m: Failed to parse and evaluate line u'library(glmnet)\\nA=glmnet(X,Y, lambda=L/nrow(X),standardize=FALSE, intercept=FALSE)\\nB2 = as.matrix(A$beta)\\nprint(L)\\nprint(A$beta-B[1:12])'.\nR error message: u'Error in glmnet(X, Y, lambda = L/nrow(X), standardize = FALSE, intercept = FALSE) : \\n  unused argument(s) (intercept = FALSE)'\nR stdout:\nLoading required package: Matrix\nLoading required package: lattice\nLoaded glmnet 1.7.4\n\nError in glmnet(X, Y, lambda = L/nrow(X), standardize = FALSE, intercept = FALSE) : \n  unused argument(s) (intercept = FALSE)"
       ]
      }
     ],
     "prompt_number": 12
    },
    {
     "cell_type": "code",
     "collapsed": false,
     "input": [
      "print B2[-1]\n",
      "print B[-1]\n",
      "print solns[-2]"
     ],
     "language": "python",
     "metadata": {},
     "outputs": []
    },
    {
     "cell_type": "code",
     "collapsed": false,
     "input": [
      "print B2"
     ],
     "language": "python",
     "metadata": {},
     "outputs": []
    },
    {
     "cell_type": "code",
     "collapsed": false,
     "input": [
      "beta = np.array(soln['beta'].todense())\n",
      "soln['lagrange'].shape\n",
      "beta[1].shape\n",
      "f1, ax1 = plt.subplots()\n",
      "[ax1.plot(soln['lagrange'],beta[i]) for i in range(1,11)]\n",
      "l1norm = np.fabs(beta[1:]).sum(0)\n",
      "f2, ax2= plt.subplots()\n",
      "[ax2.plot(l1norm,beta[i]) for i in range(1,11)];"
     ],
     "language": "python",
     "metadata": {},
     "outputs": []
    },
    {
     "cell_type": "code",
     "collapsed": false,
     "input": [
      "%%R\n",
      "l = lars(X, Y)\n",
      "plot(l)\n",
      "\n",
      "#library(glmnet)\n",
      "#g = glmnet(X, Y)\n"
     ],
     "language": "python",
     "metadata": {},
     "outputs": []
    },
    {
     "cell_type": "code",
     "collapsed": false,
     "input": [],
     "language": "python",
     "metadata": {},
     "outputs": []
    }
   ],
   "metadata": {}
  }
 ]
}
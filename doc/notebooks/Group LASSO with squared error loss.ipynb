{
 "metadata": {
  "name": "Group LASSO with squared error loss"
 },
 "nbformat": 3,
 "nbformat_minor": 0,
 "worksheets": [
  {
   "cells": [
    {
     "cell_type": "code",
     "collapsed": false,
     "input": [
      "import numpy as np\n",
      "import regreg.api as rr\n"
     ],
     "language": "python",
     "metadata": {},
     "outputs": [],
     "prompt_number": 1
    },
    {
     "cell_type": "code",
     "collapsed": false,
     "input": [
      "n, p = 100, 20\n",
      "\n",
      "X = np.random.standard_normal((n,p))\n",
      "Y = np.random.standard_normal(n)\n",
      "beta = np.zeros(p)\n",
      "beta[:3] = 10.\n",
      "loss = rr.squared_error(X, Y)\n",
      "\n",
      "dual = penalty.conjugate\n",
      "Lmax = dual.seminorm(-np.dot(X.T,Y))\n",
      "Lmax"
     ],
     "language": "python",
     "metadata": {},
     "outputs": [
      {
       "output_type": "pyout",
       "prompt_number": 54,
       "text": [
        "15.01288502162719"
       ]
      }
     ],
     "prompt_number": 54
    },
    {
     "cell_type": "code",
     "collapsed": false,
     "input": [
      "groups = [0]*3 + [1]*4 + [2]*(p-7)\n",
      "penalty = rr.group_lasso(groups, lagrange=0.7 * Lmax)"
     ],
     "language": "python",
     "metadata": {},
     "outputs": [],
     "prompt_number": 55
    },
    {
     "cell_type": "code",
     "collapsed": false,
     "input": [
      "lagrange_problem = rr.simple_problem(loss, penalty)\n",
      "soln_lagrange = lagrange_problem.solve(tol=1.e-10, coef_stop=True)\n"
     ],
     "language": "python",
     "metadata": {},
     "outputs": [],
     "prompt_number": 66
    },
    {
     "cell_type": "code",
     "collapsed": false,
     "input": [
      "value = penalty.seminorm(soln_lagrange)\n",
      "constraint = rr.group_lasso(groups, bound=value)\n",
      "\n",
      "bound_problem = rr.simple_problem(loss, constraint)\n",
      "soln_bound = bound_problem.solve(tol=1.e-10, coef_stop=True)"
     ],
     "language": "python",
     "metadata": {},
     "outputs": [],
     "prompt_number": 67
    },
    {
     "cell_type": "code",
     "collapsed": false,
     "input": [
      "np.linalg.norm(soln_lagrange-soln_bound)/np.linalg.norm(soln_lagrange)"
     ],
     "language": "python",
     "metadata": {},
     "outputs": [
      {
       "output_type": "pyout",
       "prompt_number": 68,
       "text": [
        "3.8296072836669753e-07"
       ]
      }
     ],
     "prompt_number": 68
    },
    {
     "cell_type": "code",
     "collapsed": false,
     "input": [
      "soln_lagrange"
     ],
     "language": "python",
     "metadata": {},
     "outputs": [
      {
       "output_type": "pyout",
       "prompt_number": 69,
       "text": [
        "array([-0.06962199,  0.05301579, -0.01429843,  0.00790892, -0.02705417,\n",
        "        0.01984686, -0.00679801, -0.        ,  0.        ,  0.        ,\n",
        "        0.        ,  0.        , -0.        ,  0.        , -0.        ,\n",
        "        0.        , -0.        ,  0.        , -0.        , -0.        ])"
       ]
      }
     ],
     "prompt_number": 69
    },
    {
     "cell_type": "code",
     "collapsed": false,
     "input": [
      "soln_bound"
     ],
     "language": "python",
     "metadata": {},
     "outputs": [
      {
       "output_type": "pyout",
       "prompt_number": 70,
       "text": [
        "array([-0.06962197,  0.05301578, -0.01429843,  0.00790892, -0.02705418,\n",
        "        0.01984688, -0.00679802,  0.        ,  0.        ,  0.        ,\n",
        "        0.        ,  0.        ,  0.        ,  0.        ,  0.        ,\n",
        "        0.        ,  0.        ,  0.        ,  0.        ,  0.        ])"
       ]
      }
     ],
     "prompt_number": 70
    },
    {
     "cell_type": "code",
     "collapsed": false,
     "input": [],
     "language": "python",
     "metadata": {},
     "outputs": [],
     "prompt_number": 61
    },
    {
     "cell_type": "code",
     "collapsed": false,
     "input": [],
     "language": "python",
     "metadata": {},
     "outputs": []
    }
   ],
   "metadata": {}
  }
 ]
}
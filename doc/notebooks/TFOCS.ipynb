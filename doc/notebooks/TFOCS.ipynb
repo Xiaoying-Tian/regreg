{
 "metadata": {
  "name": "TFOCS"
 },
 "nbformat": 3,
 "nbformat_minor": 0,
 "worksheets": [
  {
   "cells": [
    {
     "cell_type": "code",
     "collapsed": false,
     "input": [
      "import regreg.api as rr\n",
      "import numpy as np\n",
      "%load_ext rmagic"
     ],
     "language": "python",
     "metadata": {},
     "outputs": [],
     "prompt_number": 1
    },
    {
     "cell_type": "code",
     "collapsed": false,
     "input": [
      "%%R -o X,Y\n",
      "library(lars)\n",
      "data(diabetes)\n",
      "X = diabetes$x\n",
      "Y = diabetes$y"
     ],
     "language": "python",
     "metadata": {},
     "outputs": [
      {
       "output_type": "display_data",
       "text": [
        "Loaded lars 1.1\n",
        "\n"
       ]
      }
     ],
     "prompt_number": 2
    },
    {
     "cell_type": "code",
     "collapsed": false,
     "input": [
      "X = np.hstack([X, np.ones((X.shape[0],1))])\n",
      "#betah = np.dot(np.linalg.pinv(X), Y)\n",
      "#Yhat = np.dot(X,betah)\n",
      "#smallest_l2_bound = np.linalg.norm(Y-Yhat)\n",
      "#null_soln = Y-Y.mean()\n",
      "#R = smallest_l2_bound / np.linalg.norm(null_soln)"
     ],
     "language": "python",
     "metadata": {},
     "outputs": [],
     "prompt_number": 3
    },
    {
     "cell_type": "code",
     "collapsed": false,
     "input": [
      "l2 = rr.l2norm.affine(X,-Y,bound=0.65*np.linalg.norm(Y))\n",
      "l1 = rr.l1norm(X.shape[1], lagrange=1)\n",
      "l2s = l2.smoothed(rr.identity_quadratic(1.e-12,0,0,0))\n",
      "problem = rr.simple_problem(l2s, l1)"
     ],
     "language": "python",
     "metadata": {},
     "outputs": [],
     "prompt_number": 4
    },
    {
     "cell_type": "code",
     "collapsed": false,
     "input": [
      "primal_nesta, dual_nesta = rr.nesta(None, l1, l2)\n",
      "np.linalg.norm(Y - np.dot(X, primal_nesta)) / np.linalg.norm(Y)"
     ],
     "language": "python",
     "metadata": {},
     "outputs": [
      {
       "output_type": "pyout",
       "prompt_number": 5,
       "text": [
        "0.65000000000001912"
       ]
      }
     ],
     "prompt_number": 5
    },
    {
     "cell_type": "code",
     "collapsed": false,
     "input": [
      "l1_lagrange = rr.l1norm(X.shape[1],lagrange=np.fabs(primal_nesta).sum())\n",
      "loss = rr.squared_error(X,Y, coef=2)\n",
      "newsoln = rr.simple_problem(loss, l1_lagrange).solve()\n",
      "np.linalg.norm(Y - np.dot(X,newsoln)) / np.linalg.norm(Y)"
     ],
     "language": "python",
     "metadata": {},
     "outputs": [
      {
       "output_type": "pyout",
       "prompt_number": 6,
       "text": [
        "0.31646486501863402"
       ]
      }
     ],
     "prompt_number": 6
    },
    {
     "cell_type": "code",
     "collapsed": false,
     "input": [
      "transform, atom = l2.dual\n",
      "primal_tfocs, dual_tfocs = rr.tfocs(l1, transform, atom)\n",
      "np.linalg.norm(Y - np.dot(X, primal_tfocs)) / np.linalg.norm(Y)"
     ],
     "language": "python",
     "metadata": {},
     "outputs": [
      {
       "output_type": "pyout",
       "prompt_number": 7,
       "text": [
        "0.65000002888829478"
       ]
      }
     ],
     "prompt_number": 7
    },
    {
     "cell_type": "code",
     "collapsed": false,
     "input": [
      "%timeit primal_tfocs, dual_tfocs = rr.tfocs(l1, transform, atom)"
     ],
     "language": "python",
     "metadata": {},
     "outputs": [
      {
       "output_type": "stream",
       "stream": "stdout",
       "text": [
        "1 loops, best of 3: 2.47 s per loop\n"
       ]
      }
     ],
     "prompt_number": 8
    },
    {
     "cell_type": "code",
     "collapsed": false,
     "input": [
      "%timeit primal_nesta, dual_nesta = rr.nesta(None, l1, l2)"
     ],
     "language": "python",
     "metadata": {},
     "outputs": [
      {
       "output_type": "stream",
       "stream": "stdout",
       "text": [
        "1 loops, best of 3: 2.24 s per loop\n"
       ]
      }
     ],
     "prompt_number": 9
    },
    {
     "cell_type": "code",
     "collapsed": false,
     "input": [
      "np.linalg.norm(primal_tfocs - primal_nesta) / (1+np.linalg.norm(primal_nesta))\n"
     ],
     "language": "python",
     "metadata": {},
     "outputs": [
      {
       "output_type": "pyout",
       "prompt_number": 10,
       "text": [
        "9.3282530767351398e-08"
       ]
      }
     ],
     "prompt_number": 10
    },
    {
     "cell_type": "code",
     "collapsed": false,
     "input": [
      "np.linalg.norm(dual_tfocs - dual_nesta) / (1+np.linalg.norm(dual_nesta))"
     ],
     "language": "python",
     "metadata": {},
     "outputs": [
      {
       "output_type": "pyout",
       "prompt_number": 11,
       "text": [
        "6.5600464362864291e-05"
       ]
      }
     ],
     "prompt_number": 11
    },
    {
     "cell_type": "heading",
     "level": 2,
     "metadata": {},
     "source": [
      "Noiseless case: minimimum L1 norm reconstruction"
     ]
    },
    {
     "cell_type": "code",
     "collapsed": false,
     "input": [
      "n, p = 200, 5000\n",
      "X = np.random.standard_normal((n, p))\n",
      "l1 = rr.l1norm(p, lagrange=1)\n",
      "beta = np.zeros(p)\n",
      "beta[:10] = 10\n",
      "Y = np.dot(X, beta)\n",
      "\n",
      "constraint = rr.zero_constraint.affine(X,-Y)\n",
      "transform, atom = constraint.dual\n",
      "primal_tfocs, dual_tfocs = rr.tfocs(l1, transform, atom)\n",
      "\n",
      "\n"
     ],
     "language": "python",
     "metadata": {},
     "outputs": [],
     "prompt_number": 20
    },
    {
     "cell_type": "code",
     "collapsed": false,
     "input": [
      "np.linalg.norm(Y - np.dot(X, primal_tfocs)) / np.linalg.norm(Y)\n"
     ],
     "language": "python",
     "metadata": {},
     "outputs": [
      {
       "output_type": "pyout",
       "prompt_number": 21,
       "text": [
        "1.7792174654304693e-09"
       ]
      }
     ],
     "prompt_number": 21
    },
    {
     "cell_type": "code",
     "collapsed": false,
     "input": [],
     "language": "python",
     "metadata": {},
     "outputs": [],
     "prompt_number": 21
    },
    {
     "cell_type": "code",
     "collapsed": false,
     "input": [
      "primal_tfocs[:20]"
     ],
     "language": "python",
     "metadata": {},
     "outputs": [
      {
       "output_type": "pyout",
       "prompt_number": 22,
       "text": [
        "array([ 10.        ,  10.        ,  10.00000001,  10.        ,\n",
        "         9.99999998,   9.99999999,  10.00000001,   9.99999997,\n",
        "        10.        ,  10.00000002,   0.        ,  -0.        ,\n",
        "         0.        ,   0.        ,   0.        ,   0.        ,\n",
        "         0.        ,  -0.        ,  -0.        ,   0.        ])"
       ]
      }
     ],
     "prompt_number": 22
    },
    {
     "cell_type": "code",
     "collapsed": false,
     "input": [],
     "language": "python",
     "metadata": {},
     "outputs": []
    }
   ],
   "metadata": {}
  }
 ]
}
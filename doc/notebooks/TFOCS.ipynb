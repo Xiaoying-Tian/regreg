{
 "metadata": {
  "name": "TFOCS"
 },
 "nbformat": 3,
 "nbformat_minor": 0,
 "worksheets": [
  {
   "cells": [
    {
     "cell_type": "code",
     "collapsed": false,
     "input": [
      "import regreg.api as rr\n",
      "import numpy as np\n",
      "%load_ext rmagic"
     ],
     "language": "python",
     "metadata": {},
     "outputs": [],
     "prompt_number": 1
    },
    {
     "cell_type": "code",
     "collapsed": false,
     "input": [
      "%%R -o X,Y\n",
      "library(lars)\n",
      "data(diabetes)\n",
      "X = diabetes$x\n",
      "Y = diabetes$y"
     ],
     "language": "python",
     "metadata": {},
     "outputs": [
      {
       "output_type": "display_data",
       "text": [
        "Loaded lars 1.1\n",
        "\n"
       ]
      }
     ],
     "prompt_number": 2
    },
    {
     "cell_type": "code",
     "collapsed": false,
     "input": [
      "X = np.hstack([X, np.ones((X.shape[0],1))])\n",
      "betah = np.dot(np.linalg.pinv(X), Y)\n",
      "Yhat = np.dot(X,betah)\n",
      "smallest_l2_bound = np.linalg.norm(Y-Yhat)\n",
      "null_soln = Y-Y.mean()\n",
      "R = smallest_l2_bound / np.linalg.norm(null_soln)"
     ],
     "language": "python",
     "metadata": {},
     "outputs": [],
     "prompt_number": 3
    },
    {
     "cell_type": "code",
     "collapsed": false,
     "input": [
      "l2 = rr.l2norm.affine(X,-Y,bound=0.95*np.linalg.norm(Y))\n",
      "l1 = rr.l1norm(X.shape[1], lagrange=1)\n",
      "l2s = l2.smoothed(rr.identity_quadratic(1.e-12,0,0,0))\n",
      "problem = rr.simple_problem(l2s, l1)"
     ],
     "language": "python",
     "metadata": {},
     "outputs": [],
     "prompt_number": 4
    },
    {
     "cell_type": "code",
     "collapsed": false,
     "input": [
      "rr.nesta(None, l1, l2)\n"
     ],
     "language": "python",
     "metadata": {},
     "outputs": [
      {
       "output_type": "pyout",
       "prompt_number": 5,
       "text": [
        "(array([ 0.        ,  0.        ,  0.        ,  0.        ,  0.        ,\n",
        "        0.        , -0.        ,  0.        ,  0.        ,  0.        ,\n",
        "        9.62090571]),\n",
        " array([-0.00224467, -0.00103802, -0.00208589, -0.0031179 , -0.00199064,\n",
        "       -0.00138731, -0.00203827, -0.0008475 , -0.00159372, -0.00476912,\n",
        "       -0.00145082, -0.00094276, -0.00268923, -0.00278449, -0.00172073,\n",
        "       -0.00256221, -0.00248282, -0.00213353, -0.00138731, -0.00251457,\n",
        "       -0.00092688, -0.00062522, -0.00092688, -0.00373711, -0.00276861,\n",
        "       -0.0030544 , -0.00202239, -0.00119679, -0.00192713, -0.00434044,\n",
        "       -0.00189538, -0.00078399, -0.0052613 , -0.00122854, -0.00087925,\n",
        "       -0.0014667 , -0.00405464, -0.00422928, -0.00384824, -0.00127617,\n",
        "       -0.00143494, -0.00072048, -0.00081574, -0.00130793, -0.00395939,\n",
        "       -0.00068873, -0.00286387, -0.00210178, -0.00103802, -0.00210178,\n",
        "       -0.00230817, -0.00341956, -0.00078399, -0.00149845, -0.00273685,\n",
        "       -0.0018795 , -0.00067285, -0.0004347 , -0.00254633, -0.00254633,\n",
        "       -0.00081574, -0.00213353, -0.00067285, -0.0018795 , -0.00097451,\n",
        "       -0.00243519, -0.0022288 , -0.00138731, -0.00238757, -0.00267334,\n",
        "       -0.00060934, -0.00413403, -0.0030544 , -0.00160959, -0.00119679,\n",
        "       -0.00051408, -0.00254633, -0.00302264, -0.00384824, -0.00164135,\n",
        "       -0.00211765, -0.00065697, -0.00067285, -0.00318141, -0.00087925,\n",
        "       -0.00208589, -0.00072048, -0.00197476, -0.00051408, -0.00160959,\n",
        "       -0.00140319, -0.00245108, -0.00060934, -0.00137144, -0.00127617,\n",
        "       -0.00241932, -0.0022288 , -0.00427693, -0.00130793, -0.00116504,\n",
        "       -0.0018795 , -0.0014667 , -0.0046421 , -0.00299089, -0.00135556,\n",
        "       -0.00068873, -0.00197476, -0.00213353, -0.0035307 , -0.00113329,\n",
        "       -0.00149845, -0.00078399, -0.00375298, -0.00456271, -0.0039435 ,\n",
        "       -0.00348307, -0.00421342, -0.00430867, -0.00268923, -0.00302264,\n",
        "       -0.00302264, -0.00259396, -0.0027051 , -0.00118092, -0.00176836,\n",
        "       -0.00240344, -0.00141907, -0.00157784, -0.0016731 , -0.00410226,\n",
        "       -0.00419754, -0.00235581, -0.00154608, -0.00116504, -0.00148258,\n",
        "       -0.00416577, -0.00119679, -0.00429279, -0.00518191, -0.00430867,\n",
        "       -0.00172073, -0.00488025, -0.00357834, -0.00079987, -0.00260983,\n",
        "       -0.00395939, -0.00267334, -0.0018795 , -0.00137144, -0.00184774,\n",
        "       -0.0044198 , -0.00124442, -0.00448331, -0.00097451, -0.002975  ,\n",
        "       -0.00280036, -0.00024417, -0.00118092, -0.00137144, -0.00294326,\n",
        "       -0.00068873, -0.00329255, -0.00257808, -0.00192713, -0.00324492,\n",
        "       -0.00078399, -0.00095864, -0.00334018, -0.00410226, -0.00226055,\n",
        "       -0.00059346, -0.00102215, -0.00453094, -0.00145082, -0.00224467,\n",
        "       -0.00186362, -0.00361009, -0.00341956, -0.00113329, -0.00224467,\n",
        "       -0.00154608, -0.00086337, -0.00203827, -0.00278449, -0.00405464,\n",
        "       -0.00145082, -0.00202239, -0.00211765, -0.00208589, -0.00110153,\n",
        "       -0.00448331, -0.00267334, -0.00129205, -0.00168898, -0.00121266,\n",
        "       -0.00178424, -0.00099039, -0.00189538, -0.00210178, -0.00127617,\n",
        "       -0.00235581, -0.00046645, -0.00295913, -0.00337194, -0.00424516,\n",
        "       -0.00141907, -0.00295913, -0.0030544 , -0.00230817, -0.00106978,\n",
        "       -0.00287975, -0.00095864, -0.00100627, -0.00062522, -0.00087925,\n",
        "       -0.00402288, -0.00378473, -0.00454682, -0.00324492, -0.00278449,\n",
        "       -0.00108565, -0.0013238 , -0.00384824, -0.0022288 , -0.00106978,\n",
        "       -0.00314966, -0.00106978, -0.00156196, -0.00238757, -0.00068873,\n",
        "       -0.00334018, -0.00229231, -0.00395939, -0.00127617, -0.00375298,\n",
        "       -0.00181599, -0.000911  , -0.00099039, -0.00392763, -0.00400701,\n",
        "       -0.00421342, -0.00265747, -0.00097451, -0.00059346, -0.00281624,\n",
        "       -0.00183187, -0.00108565, -0.00065697, -0.0039435 , -0.00326079,\n",
        "       -0.00465795, -0.00370535, -0.00129205, -0.0022288 , -0.00476912,\n",
        "       -0.00227642, -0.00534067, -0.0008475 , -0.0012603 , -0.0006411 ,\n",
        "       -0.00046645, -0.00148258, -0.00473735, -0.00168898, -0.0021494 ,\n",
        "       -0.00102215, -0.00056171, -0.0016731 , -0.00403877, -0.00122854,\n",
        "       -0.0030544 , -0.00186362, -0.00273685, -0.0036736 , -0.00089513,\n",
        "       -0.00133968, -0.00434044, -0.00086337, -0.0014667 , -0.00302264,\n",
        "       -0.00405464, -0.00133968, -0.00349894, -0.00272098, -0.00232406,\n",
        "       -0.00354658, -0.00079987, -0.0033243 , -0.00111741, -0.00092688,\n",
        "       -0.0051184 , -0.00378473, -0.00118092, -0.00302264, -0.00072048,\n",
        "       -0.00119679, -0.0012603 , -0.00033944, -0.00189538, -0.00116504,\n",
        "       -0.00421342, -0.00087925, -0.00299089, -0.0035942 , -0.00386412,\n",
        "       -0.00181599, -0.00054584, -0.00257808, -0.00165723, -0.00210178,\n",
        "       -0.00157784, -0.0027051 , -0.00213353, -0.00243519, -0.00218116,\n",
        "       -0.00138731, -0.00334018, -0.00286387, -0.00157784, -0.00287975,\n",
        "       -0.00178424, -0.00349894, -0.00368947, -0.00378473, -0.00380062,\n",
        "       -0.00289562, -0.00192713, -0.00361009, -0.00108565, -0.00199064,\n",
        "       -0.00372122, -0.00300676, -0.00413403, -0.00245108, -0.00099039,\n",
        "       -0.00137144, -0.00470561, -0.00129205, -0.00324492, -0.00135556,\n",
        "       -0.00327668, -0.00402288, -0.00267334, -0.00164135, -0.00302264,\n",
        "       -0.00205414, -0.00205414, -0.00124442, -0.00219704, -0.00124442,\n",
        "       -0.00370535, -0.00097451, -0.00106978, -0.00157784, -0.00416577,\n",
        "       -0.00079987, -0.00070461, -0.00335605, -0.00127617, -0.00478497,\n",
        "       -0.00430867, -0.00273685, -0.00494376, -0.00076811, -0.00400701,\n",
        "       -0.0031179 , -0.00354658, -0.00368947, -0.00180011, -0.0024987 ,\n",
        "       -0.0008475 , -0.002975  , -0.00097451, -0.00251457, -0.00207002,\n",
        "       -0.00329255, -0.00176836, -0.00357834, -0.00373711, -0.00048233,\n",
        "       -0.00067285, -0.00149845, -0.00194301, -0.00124442, -0.00094276,\n",
        "       -0.0033243 , -0.00099039, -0.00303851, -0.00159372, -0.00065697,\n",
        "       -0.00424516, -0.0008475 , -0.00172073, -0.00094276, -0.00418165,\n",
        "       -0.0039435 , -0.00052996, -0.00299089, -0.00368947, -0.0035307 ,\n",
        "       -0.00262572, -0.0013238 , -0.00251457, -0.00421342, -0.0044992 ,\n",
        "       -0.00430867, -0.00099039, -0.00207002, -0.002848  , -0.00272098,\n",
        "       -0.00316553, -0.00200652, -0.00399113, -0.00164135, -0.00192713,\n",
        "       -0.00260983, -0.00392763, -0.00072048, -0.00118092, -0.00051408,\n",
        "       -0.00216529, -0.00321317, -0.00354658, -0.00129205, -0.00160959,\n",
        "       -0.00226055, -0.00175248, -0.000911  , -0.00476912, -0.00133968,\n",
        "       -0.00275274, -0.00089513, -0.00259396, -0.00099039, -0.00062522,\n",
        "       -0.00086337, -0.00060934, -0.00267334, -0.00149845, -0.00194301,\n",
        "       -0.00334018, -0.00075224]))"
       ]
      }
     ],
     "prompt_number": 5
    },
    {
     "cell_type": "code",
     "collapsed": false,
     "input": [
      "transform, atom = l2.dual\n",
      "rr.tfocs(l1, transform, l1)"
     ],
     "language": "python",
     "metadata": {},
     "outputs": [
      {
       "ename": "ValueError",
       "evalue": "matrices are not aligned",
       "output_type": "pyerr",
       "traceback": [
        "\u001b[0;31m---------------------------------------------------------------------------\u001b[0m\n\u001b[0;31mValueError\u001b[0m                                Traceback (most recent call last)",
        "\u001b[0;32m<ipython-input-6-6ed4079aa951>\u001b[0m in \u001b[0;36m<module>\u001b[0;34m()\u001b[0m\n\u001b[1;32m      1\u001b[0m \u001b[0mtransform\u001b[0m\u001b[0;34m,\u001b[0m \u001b[0matom\u001b[0m \u001b[0;34m=\u001b[0m \u001b[0ml2\u001b[0m\u001b[0;34m.\u001b[0m\u001b[0mdual\u001b[0m\u001b[0;34m\u001b[0m\u001b[0m\n\u001b[0;32m----> 2\u001b[0;31m \u001b[0mrr\u001b[0m\u001b[0;34m.\u001b[0m\u001b[0mtfocs\u001b[0m\u001b[0;34m(\u001b[0m\u001b[0matom\u001b[0m\u001b[0;34m,\u001b[0m \u001b[0mtransform\u001b[0m\u001b[0;34m,\u001b[0m \u001b[0ml1\u001b[0m\u001b[0;34m)\u001b[0m\u001b[0;34m\u001b[0m\u001b[0m\n\u001b[0m",
        "\u001b[0;32m/Users/jonathantaylor/regreg/code/regreg/simple.py\u001b[0m in \u001b[0;36mtfocs\u001b[0;34m(atom_presmooth, transform, proximal_atom, epsilon, tol)\u001b[0m\n\u001b[1;32m    148\u001b[0m         \u001b[0mfinal_smooth\u001b[0m \u001b[0;34m=\u001b[0m \u001b[0maffine_smooth\u001b[0m\u001b[0;34m(\u001b[0m\u001b[0msmoothed\u001b[0m\u001b[0;34m,\u001b[0m \u001b[0mscalar_multiply\u001b[0m\u001b[0;34m(\u001b[0m\u001b[0madjoint\u001b[0m\u001b[0;34m(\u001b[0m\u001b[0mtransform\u001b[0m\u001b[0;34m)\u001b[0m\u001b[0;34m,\u001b[0m \u001b[0;34m-\u001b[0m\u001b[0;36m1\u001b[0m\u001b[0;34m)\u001b[0m\u001b[0;34m)\u001b[0m\u001b[0;34m\u001b[0m\u001b[0m\n\u001b[1;32m    149\u001b[0m         \u001b[0mproblem\u001b[0m \u001b[0;34m=\u001b[0m \u001b[0msimple_problem\u001b[0m\u001b[0;34m(\u001b[0m\u001b[0mfinal_smooth\u001b[0m\u001b[0;34m,\u001b[0m \u001b[0mproximal_atom_c\u001b[0m\u001b[0;34m)\u001b[0m\u001b[0;34m\u001b[0m\u001b[0m\n\u001b[0;32m--> 150\u001b[0;31m         \u001b[0mdual_coef\u001b[0m \u001b[0;34m=\u001b[0m \u001b[0mproblem\u001b[0m\u001b[0;34m.\u001b[0m\u001b[0msolve\u001b[0m\u001b[0;34m(\u001b[0m\u001b[0msq\u001b[0m\u001b[0;34m,\u001b[0m \u001b[0mtol\u001b[0m\u001b[0;34m=\u001b[0m\u001b[0mtol\u001b[0m\u001b[0;34m)\u001b[0m\u001b[0;34m\u001b[0m\u001b[0m\n\u001b[0m\u001b[1;32m    151\u001b[0m         \u001b[0mprimal_coef\u001b[0m \u001b[0;34m=\u001b[0m \u001b[0mfinal_smooth\u001b[0m\u001b[0;34m.\u001b[0m\u001b[0mgrad\u001b[0m\u001b[0;34m\u001b[0m\u001b[0m\n\u001b[1;32m    152\u001b[0m \u001b[0;34m\u001b[0m\u001b[0m\n",
        "\u001b[0;32m/Users/jonathantaylor/regreg/code/regreg/simple.py\u001b[0m in \u001b[0;36msolve\u001b[0;34m(self, quadratic, return_optimum, **fit_args)\u001b[0m\n\u001b[1;32m     67\u001b[0m \u001b[0;34m\u001b[0m\u001b[0m\n\u001b[1;32m     68\u001b[0m         \u001b[0msolver\u001b[0m \u001b[0;34m=\u001b[0m \u001b[0mFISTA\u001b[0m\u001b[0;34m(\u001b[0m\u001b[0mself\u001b[0m\u001b[0;34m)\u001b[0m\u001b[0;34m\u001b[0m\u001b[0m\n\u001b[0;32m---> 69\u001b[0;31m         \u001b[0msolver\u001b[0m\u001b[0;34m.\u001b[0m\u001b[0mfit\u001b[0m\u001b[0;34m(\u001b[0m\u001b[0;34m**\u001b[0m\u001b[0mfit_args\u001b[0m\u001b[0;34m)\u001b[0m\u001b[0;34m\u001b[0m\u001b[0m\n\u001b[0m\u001b[1;32m     70\u001b[0m         \u001b[0mself\u001b[0m\u001b[0;34m.\u001b[0m\u001b[0mfinal_inv_step\u001b[0m \u001b[0;34m=\u001b[0m \u001b[0msolver\u001b[0m\u001b[0;34m.\u001b[0m\u001b[0minv_step\u001b[0m\u001b[0;34m\u001b[0m\u001b[0m\n\u001b[1;32m     71\u001b[0m \u001b[0;34m\u001b[0m\u001b[0m\n",
        "\u001b[0;32m/Users/jonathantaylor/regreg/code/regreg/algorithms.pyc\u001b[0m in \u001b[0;36mfit\u001b[0;34m(self, max_its, min_its, tol, backtrack, FISTA, alpha, start_inv_step, restart, coef_stop, return_objective_hist, monotonicity_restart, debug, prox_control, attempt_decrease)\u001b[0m\n\u001b[1;32m    103\u001b[0m \u001b[0;34m\u001b[0m\u001b[0m\n\u001b[1;32m    104\u001b[0m         \u001b[0mbeta\u001b[0m \u001b[0;34m=\u001b[0m \u001b[0mself\u001b[0m\u001b[0;34m.\u001b[0m\u001b[0mcomposite\u001b[0m\u001b[0;34m.\u001b[0m\u001b[0mcoefs\u001b[0m\u001b[0;34m\u001b[0m\u001b[0m\n\u001b[0;32m--> 105\u001b[0;31m         \u001b[0mcurrent_f\u001b[0m \u001b[0;34m=\u001b[0m \u001b[0mself\u001b[0m\u001b[0;34m.\u001b[0m\u001b[0mcomposite\u001b[0m\u001b[0;34m.\u001b[0m\u001b[0msmooth_objective\u001b[0m\u001b[0;34m(\u001b[0m\u001b[0mr\u001b[0m\u001b[0;34m,\u001b[0m\u001b[0mmode\u001b[0m\u001b[0;34m=\u001b[0m\u001b[0;34m'func'\u001b[0m\u001b[0;34m)\u001b[0m\u001b[0;34m\u001b[0m\u001b[0m\n\u001b[0m\u001b[1;32m    106\u001b[0m         \u001b[0mcurrent_obj\u001b[0m \u001b[0;34m=\u001b[0m \u001b[0mcurrent_f\u001b[0m \u001b[0;34m+\u001b[0m \u001b[0mself\u001b[0m\u001b[0;34m.\u001b[0m\u001b[0mcomposite\u001b[0m\u001b[0;34m.\u001b[0m\u001b[0mnonsmooth_objective\u001b[0m\u001b[0;34m(\u001b[0m\u001b[0mself\u001b[0m\u001b[0;34m.\u001b[0m\u001b[0mcomposite\u001b[0m\u001b[0;34m.\u001b[0m\u001b[0mcoefs\u001b[0m\u001b[0;34m,\u001b[0m \u001b[0mcheck_feasibility\u001b[0m\u001b[0;34m=\u001b[0m\u001b[0mTrue\u001b[0m\u001b[0;34m)\u001b[0m\u001b[0;34m\u001b[0m\u001b[0m\n\u001b[1;32m    107\u001b[0m \u001b[0;34m\u001b[0m\u001b[0m\n",
        "\u001b[0;32m/Users/jonathantaylor/regreg/code/regreg/simple.py\u001b[0m in \u001b[0;36msmooth_objective\u001b[0;34m(self, x, mode, check_feasibility)\u001b[0m\n\u001b[1;32m     26\u001b[0m         \u001b[0mthe\u001b[0m \u001b[0mproximal_atom\u001b[0m \u001b[0mhas\u001b[0m \u001b[0;36m0\u001b[0m \u001b[0;32mfor\u001b[0m \u001b[0msmooth_objective\u001b[0m\u001b[0;34m.\u001b[0m\u001b[0;34m\u001b[0m\u001b[0m\n\u001b[1;32m     27\u001b[0m         \"\"\"\n\u001b[0;32m---> 28\u001b[0;31m         \u001b[0mvs\u001b[0m \u001b[0;34m=\u001b[0m \u001b[0mself\u001b[0m\u001b[0;34m.\u001b[0m\u001b[0msmooth_atom\u001b[0m\u001b[0;34m.\u001b[0m\u001b[0msmooth_objective\u001b[0m\u001b[0;34m(\u001b[0m\u001b[0mx\u001b[0m\u001b[0;34m,\u001b[0m \u001b[0mmode\u001b[0m\u001b[0;34m,\u001b[0m \u001b[0mcheck_feasibility\u001b[0m\u001b[0;34m)\u001b[0m\u001b[0;34m\u001b[0m\u001b[0m\n\u001b[0m\u001b[1;32m     29\u001b[0m         \u001b[0;32mreturn\u001b[0m \u001b[0mvs\u001b[0m\u001b[0;34m\u001b[0m\u001b[0m\n\u001b[1;32m     30\u001b[0m \u001b[0;34m\u001b[0m\u001b[0m\n",
        "\u001b[0;32m/Users/jonathantaylor/regreg/code/regreg/smooth.pyc\u001b[0m in \u001b[0;36msmooth_objective\u001b[0;34m(self, x, mode, check_feasibility)\u001b[0m\n\u001b[1;32m    136\u001b[0m \u001b[0;34m\u001b[0m\u001b[0m\n\u001b[1;32m    137\u001b[0m     \u001b[0;32mdef\u001b[0m \u001b[0msmooth_objective\u001b[0m\u001b[0;34m(\u001b[0m\u001b[0mself\u001b[0m\u001b[0;34m,\u001b[0m \u001b[0mx\u001b[0m\u001b[0;34m,\u001b[0m \u001b[0mmode\u001b[0m\u001b[0;34m=\u001b[0m\u001b[0;34m'both'\u001b[0m\u001b[0;34m,\u001b[0m \u001b[0mcheck_feasibility\u001b[0m\u001b[0;34m=\u001b[0m\u001b[0mFalse\u001b[0m\u001b[0;34m)\u001b[0m\u001b[0;34m:\u001b[0m\u001b[0;34m\u001b[0m\u001b[0m\n\u001b[0;32m--> 138\u001b[0;31m         \u001b[0meta\u001b[0m \u001b[0;34m=\u001b[0m \u001b[0mself\u001b[0m\u001b[0;34m.\u001b[0m\u001b[0maffine_transform\u001b[0m\u001b[0;34m.\u001b[0m\u001b[0maffine_map\u001b[0m\u001b[0;34m(\u001b[0m\u001b[0mx\u001b[0m\u001b[0;34m)\u001b[0m\u001b[0;34m\u001b[0m\u001b[0m\n\u001b[0m\u001b[1;32m    139\u001b[0m         \u001b[0;32mif\u001b[0m \u001b[0mmode\u001b[0m \u001b[0;34m==\u001b[0m \u001b[0;34m'both'\u001b[0m\u001b[0;34m:\u001b[0m\u001b[0;34m\u001b[0m\u001b[0m\n\u001b[1;32m    140\u001b[0m             \u001b[0mv\u001b[0m\u001b[0;34m,\u001b[0m \u001b[0mg\u001b[0m \u001b[0;34m=\u001b[0m \u001b[0mself\u001b[0m\u001b[0;34m.\u001b[0m\u001b[0msm_atom\u001b[0m\u001b[0;34m.\u001b[0m\u001b[0msmooth_objective\u001b[0m\u001b[0;34m(\u001b[0m\u001b[0meta\u001b[0m\u001b[0;34m,\u001b[0m \u001b[0mmode\u001b[0m\u001b[0;34m=\u001b[0m\u001b[0;34m'both'\u001b[0m\u001b[0;34m)\u001b[0m\u001b[0;34m\u001b[0m\u001b[0m\n",
        "\u001b[0;32m/Users/jonathantaylor/regreg/code/regreg/affine.pyc\u001b[0m in \u001b[0;36maffine_map\u001b[0;34m(self, x, copy)\u001b[0m\n\u001b[1;32m    184\u001b[0m         \"\"\"\n\u001b[1;32m    185\u001b[0m         \u001b[0;32mif\u001b[0m \u001b[0mself\u001b[0m\u001b[0;34m.\u001b[0m\u001b[0maffineD\u001b[0m\u001b[0;34m:\u001b[0m\u001b[0;34m\u001b[0m\u001b[0m\n\u001b[0;32m--> 186\u001b[0;31m             \u001b[0mv\u001b[0m \u001b[0;34m=\u001b[0m \u001b[0mself\u001b[0m\u001b[0;34m.\u001b[0m\u001b[0mlinear_operator\u001b[0m\u001b[0;34m.\u001b[0m\u001b[0maffine_map\u001b[0m\u001b[0;34m(\u001b[0m\u001b[0mx\u001b[0m\u001b[0;34m)\u001b[0m\u001b[0;34m\u001b[0m\u001b[0m\n\u001b[0m\u001b[1;32m    187\u001b[0m         \u001b[0;32melse\u001b[0m\u001b[0;34m:\u001b[0m\u001b[0;34m\u001b[0m\u001b[0m\n\u001b[1;32m    188\u001b[0m             \u001b[0mv\u001b[0m \u001b[0;34m=\u001b[0m \u001b[0mself\u001b[0m\u001b[0;34m.\u001b[0m\u001b[0mlinear_map\u001b[0m\u001b[0;34m(\u001b[0m\u001b[0mx\u001b[0m\u001b[0;34m,\u001b[0m \u001b[0mcopy\u001b[0m\u001b[0;34m)\u001b[0m\u001b[0;34m\u001b[0m\u001b[0m\n",
        "\u001b[0;32m/Users/jonathantaylor/regreg/code/regreg/affine.pyc\u001b[0m in \u001b[0;36maffine_map\u001b[0;34m(self, x, copy)\u001b[0m\n\u001b[1;32m   1022\u001b[0m     \u001b[0;32mdef\u001b[0m \u001b[0maffine_map\u001b[0m\u001b[0;34m(\u001b[0m\u001b[0mself\u001b[0m\u001b[0;34m,\u001b[0m \u001b[0mx\u001b[0m\u001b[0;34m,\u001b[0m \u001b[0mcopy\u001b[0m\u001b[0;34m=\u001b[0m\u001b[0mTrue\u001b[0m\u001b[0;34m)\u001b[0m\u001b[0;34m:\u001b[0m\u001b[0;34m\u001b[0m\u001b[0m\n\u001b[1;32m   1023\u001b[0m         \u001b[0;32mif\u001b[0m \u001b[0mself\u001b[0m\u001b[0;34m.\u001b[0m\u001b[0mscalar\u001b[0m \u001b[0;34m!=\u001b[0m \u001b[0;36m1.\u001b[0m\u001b[0;34m:\u001b[0m\u001b[0;34m\u001b[0m\u001b[0m\n\u001b[0;32m-> 1024\u001b[0;31m             \u001b[0;32mreturn\u001b[0m \u001b[0mself\u001b[0m\u001b[0;34m.\u001b[0m\u001b[0m_atransform\u001b[0m\u001b[0;34m.\u001b[0m\u001b[0mlinear_map\u001b[0m\u001b[0;34m(\u001b[0m\u001b[0mx\u001b[0m\u001b[0;34m,\u001b[0m \u001b[0mcopy\u001b[0m\u001b[0;34m)\u001b[0m \u001b[0;34m*\u001b[0m \u001b[0mself\u001b[0m\u001b[0;34m.\u001b[0m\u001b[0mscalar\u001b[0m\u001b[0;34m\u001b[0m\u001b[0m\n\u001b[0m\u001b[1;32m   1025\u001b[0m         \u001b[0;32melse\u001b[0m\u001b[0;34m:\u001b[0m\u001b[0;34m\u001b[0m\u001b[0m\n\u001b[1;32m   1026\u001b[0m             \u001b[0;32mreturn\u001b[0m \u001b[0mself\u001b[0m\u001b[0;34m.\u001b[0m\u001b[0m_atransform\u001b[0m\u001b[0;34m.\u001b[0m\u001b[0mlinear_map\u001b[0m\u001b[0;34m(\u001b[0m\u001b[0mx\u001b[0m\u001b[0;34m,\u001b[0m \u001b[0mcopy\u001b[0m\u001b[0;34m)\u001b[0m\u001b[0;34m\u001b[0m\u001b[0m\n",
        "\u001b[0;32m/Users/jonathantaylor/regreg/code/regreg/affine.pyc\u001b[0m in \u001b[0;36mlinear_map\u001b[0;34m(self, x, copy)\u001b[0m\n\u001b[1;32m    814\u001b[0m \u001b[0;34m\u001b[0m\u001b[0m\n\u001b[1;32m    815\u001b[0m     \u001b[0;32mdef\u001b[0m \u001b[0mlinear_map\u001b[0m\u001b[0;34m(\u001b[0m\u001b[0mself\u001b[0m\u001b[0;34m,\u001b[0m \u001b[0mx\u001b[0m\u001b[0;34m,\u001b[0m \u001b[0mcopy\u001b[0m\u001b[0;34m=\u001b[0m\u001b[0mFalse\u001b[0m\u001b[0;34m)\u001b[0m\u001b[0;34m:\u001b[0m\u001b[0;34m\u001b[0m\u001b[0m\n\u001b[0;32m--> 816\u001b[0;31m         \u001b[0;32mreturn\u001b[0m \u001b[0mself\u001b[0m\u001b[0;34m.\u001b[0m\u001b[0mtransform\u001b[0m\u001b[0;34m.\u001b[0m\u001b[0madjoint_map\u001b[0m\u001b[0;34m(\u001b[0m\u001b[0mx\u001b[0m\u001b[0;34m,\u001b[0m \u001b[0mcopy\u001b[0m\u001b[0;34m)\u001b[0m\u001b[0;34m\u001b[0m\u001b[0m\n\u001b[0m\u001b[1;32m    817\u001b[0m \u001b[0;34m\u001b[0m\u001b[0m\n\u001b[1;32m    818\u001b[0m     \u001b[0;32mdef\u001b[0m \u001b[0maffine_map\u001b[0m\u001b[0;34m(\u001b[0m\u001b[0mself\u001b[0m\u001b[0;34m,\u001b[0m \u001b[0mx\u001b[0m\u001b[0;34m,\u001b[0m \u001b[0mcopy\u001b[0m\u001b[0;34m=\u001b[0m\u001b[0mFalse\u001b[0m\u001b[0;34m)\u001b[0m\u001b[0;34m:\u001b[0m\u001b[0;34m\u001b[0m\u001b[0m\n",
        "\u001b[0;32m/Users/jonathantaylor/regreg/code/regreg/affine.pyc\u001b[0m in \u001b[0;36madjoint_map\u001b[0;34m(self, u, copy)\u001b[0m\n\u001b[1;32m    258\u001b[0m         \u001b[0;32mif\u001b[0m \u001b[0mself\u001b[0m\u001b[0;34m.\u001b[0m\u001b[0maffineD\u001b[0m\u001b[0;34m:\u001b[0m\u001b[0;34m\u001b[0m\u001b[0m\n\u001b[1;32m    259\u001b[0m             \u001b[0;32mreturn\u001b[0m \u001b[0mself\u001b[0m\u001b[0;34m.\u001b[0m\u001b[0mlinear_operator\u001b[0m\u001b[0;34m.\u001b[0m\u001b[0madjoint_map\u001b[0m\u001b[0;34m(\u001b[0m\u001b[0mu\u001b[0m\u001b[0;34m)\u001b[0m\u001b[0;34m\u001b[0m\u001b[0m\n\u001b[0;32m--> 260\u001b[0;31m         \u001b[0;32mreturn\u001b[0m \u001b[0mnp\u001b[0m\u001b[0;34m.\u001b[0m\u001b[0mdot\u001b[0m\u001b[0;34m(\u001b[0m\u001b[0mself\u001b[0m\u001b[0;34m.\u001b[0m\u001b[0mlinear_operator\u001b[0m\u001b[0;34m.\u001b[0m\u001b[0mT\u001b[0m\u001b[0;34m,\u001b[0m \u001b[0mu\u001b[0m\u001b[0;34m)\u001b[0m\u001b[0;34m\u001b[0m\u001b[0m\n\u001b[0m\u001b[1;32m    261\u001b[0m \u001b[0;34m\u001b[0m\u001b[0m\n\u001b[1;32m    262\u001b[0m \u001b[0;34m\u001b[0m\u001b[0m\n",
        "\u001b[0;31mValueError\u001b[0m: matrices are not aligned"
       ]
      }
     ],
     "prompt_number": 6
    },
    {
     "cell_type": "code",
     "collapsed": false,
     "input": [
      "rr.tfocs?\n"
     ],
     "language": "python",
     "metadata": {},
     "outputs": []
    },
    {
     "cell_type": "code",
     "collapsed": false,
     "input": [
      "rr.nesta??"
     ],
     "language": "python",
     "metadata": {},
     "outputs": []
    },
    {
     "cell_type": "code",
     "collapsed": false,
     "input": [
      "rr.tfocs??"
     ],
     "language": "python",
     "metadata": {},
     "outputs": [],
     "prompt_number": 7
    },
    {
     "cell_type": "code",
     "collapsed": false,
     "input": [],
     "language": "python",
     "metadata": {},
     "outputs": []
    }
   ],
   "metadata": {}
  }
 ]
}
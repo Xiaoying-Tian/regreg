{
 "metadata": {
  "name": "Newsgroup logistic regression"
 },
 "nbformat": 3,
 "worksheets": [
  {
   "cells": [
    {
     "cell_type": "heading",
     "level": 2,
     "source": [
      "Logistic regression with regreg"
     ]
    },
    {
     "cell_type": "markdown",
     "source": [
      "The logistic loss is included in regreg, taking a pair $(X,Y)$ where $X$ is an affine_transform and $Y$ is either a binary vector or, if not, an additional argument of 'trials' is needed specifying how many trials",
      "per row of $Y$. This is equivalent to setting the weights option in R."
     ]
    },
    {
     "cell_type": "code",
     "collapsed": false,
     "input": [
      "import numpy as np, regreg.api as rr",
      "",
      "n, p = 70, 8",
      "Xr = np.random.standard_normal((n, p))",
      "Yr = np.random.binomial(1,0.5, (n,))",
      "lossr = rr.logistic_loss(Xr,Yr)",
      "coefsr = lossr.solve(coef_stop=True, tol=1.e-8)",
      ""
     ],
     "language": "python",
     "outputs": [],
     "prompt_number": 11
    },
    {
     "cell_type": "markdown",
     "source": [
      "Let's compare this with R's output. First, we load the R magic into ipython"
     ]
    },
    {
     "cell_type": "code",
     "collapsed": false,
     "input": [
      "%load_ext rmagic",
      "cr = %R -i Xr -i Yr mylm = glm(Yr~Xr-1, family=binomial()); mylm$coef",
      "print np.linalg.norm(coefsr-cr) / np.linalg.norm(cr)",
      ""
     ],
     "language": "python",
     "outputs": [
      {
       "output_type": "stream",
       "stream": "stdout",
       "text": [
        "3.15396870327e-08",
        ""
       ]
      }
     ],
     "prompt_number": 12
    },
    {
     "cell_type": "markdown",
     "source": [
      "Now, let's compare the objective value. By default, regreg divides the deviance by n. This can be changed by adding the argument \"coef\" to logistic loss which multiplies the objective by coef."
     ]
    },
    {
     "cell_type": "code",
     "collapsed": false,
     "input": [
      "print lossr.smooth_objective(coefsr, 'func') * n",
      "fromR = %R summary(mylm)$deviance",
      "",
      "loss2 = lossr = rr.logistic_loss(Xr,Yr, coef=n)",
      "print loss2.smooth_objective(coefsr, 'func'), fromR",
      ""
     ],
     "language": "python",
     "outputs": [
      {
       "output_type": "stream",
       "stream": "stdout",
       "text": [
        "88.6946628957",
        "88.6946628957 [ 88.6946629]",
        ""
       ]
      }
     ],
     "prompt_number": 13
    },
    {
     "cell_type": "markdown",
     "source": [
      "We can also check that using trials is equivalent to using weights. _This is obviously a bug_"
     ]
    },
    {
     "cell_type": "code",
     "collapsed": false,
     "input": [
      "trials = np.ones(n, np.float)",
      "trials[:20] = 2",
      "trials[20:30] = 3.",
      "",
      "lossw = rr.logistic_loss(Xr,Yr,trials=trials, coef=n)",
      "coefsw = lossw.solve(tol=1.e-8)",
      "%R -i trials",
      "coefsRw = %R glm(Yr ~ Xr - 1, weights=trials, family=binomial())$coef",
      "print coefsw.shape",
      "print np.linalg.norm(coefsw-coefsRw) / np.linalg.norm(coefsw)",
      "print lossw.smooth_objective(coefsw, 'func'), lossw.smooth_objective(coefsRw, 'func')",
      "%R summary(glm(Yr~Xr-1, weights=trials, family=binomial()))$deviance"
     ],
     "language": "python",
     "outputs": [
      {
       "output_type": "stream",
       "stream": "stdout",
       "text": [
        "(8,)",
        "0.530970642748",
        "135.538037902 142.371219535",
        ""
       ]
      },
      {
       "output_type": "pyout",
       "prompt_number": 14,
       "text": [
        "array([ 145.50607373])"
       ]
      }
     ],
     "prompt_number": 14
    },
    {
     "cell_type": "heading",
     "level": 2,
     "source": [
      "Data import for newsgroup example"
     ]
    },
    {
     "cell_type": "markdown",
     "source": [
      "We will compare *regreg*'s solution to the newsgroup data to *glmnet*. The dataset is large with $(n,p)$=(11314, 777811)   though the design matrix is sparse. Unfortunately, we can't load in sparse matrices directly from R. So, we will write out to .csv save as .mat and use scipy.io.loadmat."
     ]
    },
    {
     "cell_type": "code",
     "collapsed": false,
     "input": [
      "import urllib, os, scipy.io, scipy.sparse",
      "",
      "if not os.path.exists('newsgroup.mat'):",
      "    print 'Had to form \"newsgroup.mat\"'",
      "    if not os.path.exists('NewsGroup.RData'):",
      "        print 'Had to download the data....'",
      "        with file('NewsGroup.RData', 'w') as f:",
      "            f.write(urllib.urlopen('http://www.jstatsoft.org/v33/i01/supp/6').read())",
      "  ",
      "    %R library(Matrix)",
      "    %R load('NewsGroup.RData')",
      "    %R newsX = NewsGroup$x",
      "    %R newsY = NewsGroup$y",
      "    %R writeMM(newsX, 'newsX.mtx')",
      "        ",
      "    X = scipy.io.mmread('newsX.mtx')",
      "    Y = %R newsY ",
      "    scipy.io.savemat('newsgroup.mat', {'X':X, 'Y':Y})",
      "    ",
      "",
      ""
     ],
     "language": "python",
     "outputs": [],
     "prompt_number": 15
    },
    {
     "cell_type": "heading",
     "level": 2,
     "source": [
      "Loss and penalty specification"
     ]
    },
    {
     "cell_type": "markdown",
     "source": [
      "Our loss function assumes binary successes (or proportions in [0,1]). We will center and scale our design matrix after having added an intercept to it. By default, scale and center are True for normalize while",
      "intercept_column defaults to None. Finally, our loss is logistic loss."
     ]
    },
    {
     "cell_type": "code",
     "collapsed": false,
     "input": [
      "D = scipy.io.loadmat('newsgroup.mat')",
      "X = D['X']; Y = D['Y']",
      "",
      "# convert to binary",
      "Y = (Y + 1) / 2; Y.shape = -1",
      "",
      "# add intercept and normalize",
      "X1 = scipy.sparse.hstack([np.ones((X.shape[0], 1)), X])",
      "Xn = rr.normalize(X1, center=True, scale=True, intercept_column=0)",
      "n, p = Xn.dual_shape[0], Xn.primal_shape[0]",
      "",
      "# form the loss",
      "",
      "loss = rr.logistic_loss(Xn, Y, coef=0.5)",
      ""
     ],
     "language": "python",
     "outputs": [],
     "prompt_number": 16
    },
    {
     "cell_type": "markdown",
     "source": [
      "At this point, we are ready to define the penalty: the LASSO penalty, what else? We'll also compute $\\lambda_{\\max}$ the smallest value for which all coefficients are 0. This is the $\\ell_{\\infty}$ norm of the ",
      "gradient at 0, almost. Actually, it should really be the $\\ell_{\\infty}$ norm of the gradient at the null model, i.e. with just an intercept. However, at an optimal solution the coordinate of the gradient corresponding to the",
      "intercept must be 0 (in fact for any value of $\\lambda$) so only the penalized columns enter."
     ]
    },
    {
     "cell_type": "code",
     "collapsed": false,
     "input": [
      "weights=np.ones(p); weights[Xn.intercept_column] = 0;",
      "coefs = np.zeros(p)",
      "",
      "lagrange_max = np.fabs(loss.smooth_objective(coefs, 'grad'))[1:].max()",
      "penalty = rr.weighted_l1norm(p, weights, lagrange=0.7*lagrange_max)",
      "lipschitz = rr.power_L(Xn) / n",
      "",
      "print lipschitz, lagrange_max, loss.coef"
     ],
     "language": "python",
     "outputs": [
      {
       "output_type": "stream",
       "stream": "stdout",
       "text": [
        "6306.51724934 0.119658377631 4.41930351777e-05",
        ""
       ]
      }
     ],
     "prompt_number": 34
    },
    {
     "cell_type": "markdown",
     "source": [
      "As mentioned above, this null model does not change $\\lambda_{\\max}$."
     ]
    },
    {
     "cell_type": "code",
     "collapsed": false,
     "input": [
      "null_design = np.ones((n,1))",
      "null_loss = rr.logistic_loss(null_design, Y)",
      "null_coef = null_loss.solve()",
      "",
      ""
     ],
     "language": "python",
     "outputs": [],
     "prompt_number": 35
    },
    {
     "cell_type": "code",
     "collapsed": false,
     "input": [
      "coefs[0] = null_coef",
      "lagrange_max_null = np.fabs(loss.smooth_objective(coefs, 'grad'))[1:].max()",
      "print lagrange_max_null, lagrange_max"
     ],
     "language": "python",
     "outputs": [
      {
       "output_type": "stream",
       "stream": "stdout",
       "text": [
        "0.119658377631 0.119658377631",
        ""
       ]
      }
     ],
     "prompt_number": 36
    },
    {
     "cell_type": "markdown",
     "source": [
      "The problem is a simple problem, in the sense that its prox is separable so we can instantiate it as:"
     ]
    },
    {
     "cell_type": "code",
     "collapsed": false,
     "input": [
      "problem = rr.simple_problem(loss, penalty)",
      "problem.lipschitz = lipschitz",
      "soln = problem.solve(start_inv_step=lipschitz/100, debug=True, tol=1.e-9)",
      "loss.objective(soln)"
     ],
     "language": "python",
     "outputs": [
      {
       "output_type": "stream",
       "stream": "stdout",
       "text": [
        "0    obj: 6.931472e-01    inv_step: 6.31e+01    rel_obj_change: 4.20e-05    tol: 1.0e-09",
        "1    obj: 6.931051e-01    inv_step: 6.31e+01    rel_obj_change: 4.13e-05    tol: 1.0e-09"
       ]
      },
      {
       "output_type": "stream",
       "stream": "stdout",
       "text": [
        "",
        "2    obj: 6.930638e-01    inv_step: 6.31e+01    rel_obj_change: 5.20e-05    tol: 1.0e-09"
       ]
      },
      {
       "output_type": "stream",
       "stream": "stdout",
       "text": [
        "",
        "3    obj: 6.930119e-01    inv_step: 6.31e+01    rel_obj_change: 6.17e-05    tol: 1.0e-09"
       ]
      },
      {
       "output_type": "stream",
       "stream": "stdout",
       "text": [
        "",
        "4    obj: 6.929501e-01    inv_step: 6.31e+01    rel_obj_change: 7.05e-05    tol: 1.0e-09"
       ]
      },
      {
       "output_type": "stream",
       "stream": "stdout",
       "text": [
        "",
        "5    obj: 6.928796e-01    inv_step: 6.31e+01    rel_obj_change: 7.85e-05    tol: 1.0e-09"
       ]
      },
      {
       "output_type": "stream",
       "stream": "stdout",
       "text": [
        "",
        "6    obj: 6.928011e-01    inv_step: 6.31e+01    rel_obj_change: 8.54e-05    tol: 1.0e-09"
       ]
      },
      {
       "output_type": "stream",
       "stream": "stdout",
       "text": [
        "",
        "7    obj: 6.927157e-01    inv_step: 6.31e+01    rel_obj_change: 9.15e-05    tol: 1.0e-09"
       ]
      },
      {
       "output_type": "stream",
       "stream": "stdout",
       "text": [
        "",
        "8    obj: 6.926242e-01    inv_step: 6.31e+01    rel_obj_change: 9.65e-05    tol: 1.0e-09"
       ]
      },
      {
       "output_type": "stream",
       "stream": "stdout",
       "text": [
        "",
        "9    obj: 6.925277e-01    inv_step: 6.31e+01    rel_obj_change: 1.01e-04    tol: 1.0e-09"
       ]
      },
      {
       "output_type": "stream",
       "stream": "stdout",
       "text": [
        "",
        "10    obj: 6.924270e-01    inv_step: 6.31e+01    rel_obj_change: 1.04e-04    tol: 1.0e-09"
       ]
      },
      {
       "output_type": "stream",
       "stream": "stdout",
       "text": [
        "",
        "11    obj: 6.923232e-01    inv_step: 6.31e+01    rel_obj_change: 1.06e-04    tol: 1.0e-09"
       ]
      },
      {
       "output_type": "stream",
       "stream": "stdout",
       "text": [
        "",
        "12    obj: 6.922173e-01    inv_step: 6.31e+01    rel_obj_change: 1.07e-04    tol: 1.0e-09"
       ]
      },
      {
       "output_type": "stream",
       "stream": "stdout",
       "text": [
        "",
        "13    obj: 6.921100e-01    inv_step: 6.31e+01    rel_obj_change: 1.08e-04    tol: 1.0e-09"
       ]
      },
      {
       "output_type": "stream",
       "stream": "stdout",
       "text": [
        "",
        "14    obj: 6.920022e-01    inv_step: 6.31e+01    rel_obj_change: 1.07e-04    tol: 1.0e-09"
       ]
      },
      {
       "output_type": "stream",
       "stream": "stdout",
       "text": [
        "",
        "15    obj: 6.918948e-01    inv_step: 6.31e+01    rel_obj_change: 1.06e-04    tol: 1.0e-09"
       ]
      },
      {
       "output_type": "stream",
       "stream": "stdout",
       "text": [
        "",
        "16    obj: 6.917885e-01    inv_step: 6.31e+01    rel_obj_change: 1.05e-04    tol: 1.0e-09"
       ]
      },
      {
       "output_type": "stream",
       "stream": "stdout",
       "text": [
        "",
        "17    obj: 6.916839e-01    inv_step: 6.31e+01    rel_obj_change: 1.02e-04    tol: 1.0e-09"
       ]
      },
      {
       "output_type": "stream",
       "stream": "stdout",
       "text": [
        "",
        "18    obj: 6.915816e-01    inv_step: 6.31e+01    rel_obj_change: 9.94e-05    tol: 1.0e-09"
       ]
      },
      {
       "output_type": "stream",
       "stream": "stdout",
       "text": [
        "",
        "19    obj: 6.914823e-01    inv_step: 6.31e+01    rel_obj_change: 9.61e-05    tol: 1.0e-09"
       ]
      },
      {
       "output_type": "stream",
       "stream": "stdout",
       "text": [
        "",
        "20    obj: 6.913862e-01    inv_step: 6.31e+01    rel_obj_change: 9.25e-05    tol: 1.0e-09"
       ]
      },
      {
       "output_type": "stream",
       "stream": "stdout",
       "text": [
        "",
        "21    obj: 6.912937e-01    inv_step: 6.31e+01    rel_obj_change: 8.85e-05    tol: 1.0e-09"
       ]
      },
      {
       "output_type": "stream",
       "stream": "stdout",
       "text": [
        "",
        "22    obj: 6.912051e-01    inv_step: 6.31e+01    rel_obj_change: 8.44e-05    tol: 1.0e-09"
       ]
      },
      {
       "output_type": "stream",
       "stream": "stdout",
       "text": [
        "",
        "23    obj: 6.911207e-01    inv_step: 6.31e+01    rel_obj_change: 8.02e-05    tol: 1.0e-09"
       ]
      },
      {
       "output_type": "stream",
       "stream": "stdout",
       "text": [
        "",
        "24    obj: 6.910405e-01    inv_step: 6.31e+01    rel_obj_change: 7.59e-05    tol: 1.0e-09"
       ]
      },
      {
       "output_type": "stream",
       "stream": "stdout",
       "text": [
        "",
        "25    obj: 6.909645e-01    inv_step: 6.31e+01    rel_obj_change: 7.17e-05    tol: 1.0e-09"
       ]
      },
      {
       "output_type": "stream",
       "stream": "stdout",
       "text": [
        "",
        "26    obj: 6.908929e-01    inv_step: 6.31e+01    rel_obj_change: 6.75e-05    tol: 1.0e-09"
       ]
      },
      {
       "output_type": "stream",
       "stream": "stdout",
       "text": [
        "",
        "27    obj: 6.908254e-01    inv_step: 6.31e+01    rel_obj_change: 6.34e-05    tol: 1.0e-09"
       ]
      },
      {
       "output_type": "stream",
       "stream": "stdout",
       "text": [
        "",
        "28    obj: 6.907620e-01    inv_step: 6.31e+01    rel_obj_change: 5.95e-05    tol: 1.0e-09"
       ]
      },
      {
       "output_type": "stream",
       "stream": "stdout",
       "text": [
        "",
        "29    obj: 6.907025e-01    inv_step: 6.31e+01    rel_obj_change: 5.58e-05    tol: 1.0e-09"
       ]
      },
      {
       "output_type": "stream",
       "stream": "stdout",
       "text": [
        "",
        "30    obj: 6.906467e-01    inv_step: 6.31e+01    rel_obj_change: 5.23e-05    tol: 1.0e-09"
       ]
      },
      {
       "output_type": "stream",
       "stream": "stdout",
       "text": [
        "",
        "31    obj: 6.905944e-01    inv_step: 6.31e+01    rel_obj_change: 4.90e-05    tol: 1.0e-09"
       ]
      },
      {
       "output_type": "stream",
       "stream": "stdout",
       "text": [
        "",
        "32    obj: 6.905454e-01    inv_step: 6.31e+01    rel_obj_change: 4.61e-05    tol: 1.0e-09"
       ]
      },
      {
       "output_type": "stream",
       "stream": "stdout",
       "text": [
        "",
        "33    obj: 6.904993e-01    inv_step: 6.31e+01    rel_obj_change: 4.33e-05    tol: 1.0e-09"
       ]
      },
      {
       "output_type": "stream",
       "stream": "stdout",
       "text": [
        "",
        "34    obj: 6.904560e-01    inv_step: 6.31e+01    rel_obj_change: 4.09e-05    tol: 1.0e-09"
       ]
      },
      {
       "output_type": "stream",
       "stream": "stdout",
       "text": [
        "",
        "35    obj: 6.904152e-01    inv_step: 6.31e+01    rel_obj_change: 3.87e-05    tol: 1.0e-09"
       ]
      },
      {
       "output_type": "stream",
       "stream": "stdout",
       "text": [
        "",
        "36    obj: 6.903765e-01    inv_step: 6.31e+01    rel_obj_change: 3.67e-05    tol: 1.0e-09"
       ]
      },
      {
       "output_type": "stream",
       "stream": "stdout",
       "text": [
        "",
        "37    obj: 6.903398e-01    inv_step: 6.31e+01    rel_obj_change: 3.50e-05    tol: 1.0e-09"
       ]
      },
      {
       "output_type": "stream",
       "stream": "stdout",
       "text": [
        "",
        "38    obj: 6.903049e-01    inv_step: 6.31e+01    rel_obj_change: 3.34e-05    tol: 1.0e-09"
       ]
      },
      {
       "output_type": "stream",
       "stream": "stdout",
       "text": [
        "",
        "39    obj: 6.902714e-01    inv_step: 6.31e+01    rel_obj_change: 3.21e-05    tol: 1.0e-09"
       ]
      },
      {
       "output_type": "stream",
       "stream": "stdout",
       "text": [
        "",
        "40    obj: 6.902393e-01    inv_step: 6.31e+01    rel_obj_change: 3.09e-05    tol: 1.0e-09"
       ]
      },
      {
       "output_type": "stream",
       "stream": "stdout",
       "text": [
        "",
        "41    obj: 6.902084e-01    inv_step: 6.31e+01    rel_obj_change: 2.99e-05    tol: 1.0e-09"
       ]
      },
      {
       "output_type": "stream",
       "stream": "stdout",
       "text": [
        "",
        "42    obj: 6.901784e-01    inv_step: 6.31e+01    rel_obj_change: 2.90e-05    tol: 1.0e-09"
       ]
      },
      {
       "output_type": "stream",
       "stream": "stdout",
       "text": [
        "",
        "43    obj: 6.901494e-01    inv_step: 6.31e+01    rel_obj_change: 2.83e-05    tol: 1.0e-09"
       ]
      },
      {
       "output_type": "stream",
       "stream": "stdout",
       "text": [
        "",
        "44    obj: 6.901211e-01    inv_step: 6.31e+01    rel_obj_change: 2.75e-05    tol: 1.0e-09"
       ]
      },
      {
       "output_type": "stream",
       "stream": "stdout",
       "text": [
        "",
        "45    obj: 6.900936e-01    inv_step: 6.31e+01    rel_obj_change: 2.69e-05    tol: 1.0e-09"
       ]
      },
      {
       "output_type": "stream",
       "stream": "stdout",
       "text": [
        "",
        "46    obj: 6.900667e-01    inv_step: 6.31e+01    rel_obj_change: 2.63e-05    tol: 1.0e-09"
       ]
      },
      {
       "output_type": "stream",
       "stream": "stdout",
       "text": [
        "",
        "47    obj: 6.900404e-01    inv_step: 6.31e+01    rel_obj_change: 2.57e-05    tol: 1.0e-09"
       ]
      },
      {
       "output_type": "stream",
       "stream": "stdout",
       "text": [
        "",
        "48    obj: 6.900147e-01    inv_step: 6.31e+01    rel_obj_change: 2.51e-05    tol: 1.0e-09"
       ]
      },
      {
       "output_type": "stream",
       "stream": "stdout",
       "text": [
        "",
        "49    obj: 6.899896e-01    inv_step: 6.31e+01    rel_obj_change: 2.45e-05    tol: 1.0e-09"
       ]
      },
      {
       "output_type": "stream",
       "stream": "stdout",
       "text": [
        "",
        "50    obj: 6.899651e-01    inv_step: 6.31e+01    rel_obj_change: 2.39e-05    tol: 1.0e-09"
       ]
      },
      {
       "output_type": "stream",
       "stream": "stdout",
       "text": [
        "",
        "51    obj: 6.899412e-01    inv_step: 6.31e+01    rel_obj_change: 2.33e-05    tol: 1.0e-09"
       ]
      },
      {
       "output_type": "stream",
       "stream": "stdout",
       "text": [
        "",
        "52    obj: 6.899179e-01    inv_step: 6.31e+01    rel_obj_change: 2.26e-05    tol: 1.0e-09"
       ]
      },
      {
       "output_type": "stream",
       "stream": "stdout",
       "text": [
        "",
        "53    obj: 6.898953e-01    inv_step: 6.31e+01    rel_obj_change: 2.20e-05    tol: 1.0e-09"
       ]
      },
      {
       "output_type": "stream",
       "stream": "stdout",
       "text": [
        "",
        "54    obj: 6.898733e-01    inv_step: 6.31e+01    rel_obj_change: 2.13e-05    tol: 1.0e-09"
       ]
      },
      {
       "output_type": "stream",
       "stream": "stdout",
       "text": [
        "",
        "55    obj: 6.898520e-01    inv_step: 6.31e+01    rel_obj_change: 2.05e-05    tol: 1.0e-09"
       ]
      },
      {
       "output_type": "stream",
       "stream": "stdout",
       "text": [
        "",
        "56    obj: 6.898315e-01    inv_step: 6.31e+01    rel_obj_change: 1.83e-05    tol: 1.0e-09"
       ]
      },
      {
       "output_type": "stream",
       "stream": "stdout",
       "text": [
        "",
        "57    obj: 6.898132e-01    inv_step: 6.31e+01    rel_obj_change: 1.22e-05    tol: 1.0e-09"
       ]
      },
      {
       "output_type": "stream",
       "stream": "stdout",
       "text": [
        "",
        "58    obj: 6.898010e-01    inv_step: 6.31e+01    rel_obj_change: 1.17e-05    tol: 1.0e-09"
       ]
      },
      {
       "output_type": "stream",
       "stream": "stdout",
       "text": [
        "",
        "59    obj: 6.897893e-01    inv_step: 6.31e+01    rel_obj_change: 1.12e-05    tol: 1.0e-09"
       ]
      },
      {
       "output_type": "stream",
       "stream": "stdout",
       "text": [
        "",
        "60    obj: 6.897780e-01    inv_step: 6.31e+01    rel_obj_change: 1.08e-05    tol: 1.0e-09"
       ]
      },
      {
       "output_type": "stream",
       "stream": "stdout",
       "text": [
        "",
        "61    obj: 6.897672e-01    inv_step: 6.31e+01    rel_obj_change: 1.05e-05    tol: 1.0e-09"
       ]
      },
      {
       "output_type": "stream",
       "stream": "stdout",
       "text": [
        "",
        "62    obj: 6.897567e-01    inv_step: 6.31e+01    rel_obj_change: 1.01e-05    tol: 1.0e-09"
       ]
      },
      {
       "output_type": "stream",
       "stream": "stdout",
       "text": [
        "",
        "63    obj: 6.897466e-01    inv_step: 6.31e+01    rel_obj_change: 9.87e-06    tol: 1.0e-09"
       ]
      },
      {
       "output_type": "stream",
       "stream": "stdout",
       "text": [
        "",
        "64    obj: 6.897367e-01    inv_step: 6.31e+01    rel_obj_change: 9.63e-06    tol: 1.0e-09"
       ]
      },
      {
       "output_type": "stream",
       "stream": "stdout",
       "text": [
        "",
        "65    obj: 6.897271e-01    inv_step: 6.31e+01    rel_obj_change: 9.42e-06    tol: 1.0e-09"
       ]
      },
      {
       "output_type": "stream",
       "stream": "stdout",
       "text": [
        "",
        "66    obj: 6.897177e-01    inv_step: 6.31e+01    rel_obj_change: 9.23e-06    tol: 1.0e-09"
       ]
      },
      {
       "output_type": "stream",
       "stream": "stdout",
       "text": [
        "",
        "67    obj: 6.897084e-01    inv_step: 6.31e+01    rel_obj_change: 9.08e-06    tol: 1.0e-09"
       ]
      },
      {
       "output_type": "stream",
       "stream": "stdout",
       "text": [
        "",
        "68    obj: 6.896994e-01    inv_step: 6.31e+01    rel_obj_change: 8.94e-06    tol: 1.0e-09"
       ]
      },
      {
       "output_type": "stream",
       "stream": "stdout",
       "text": [
        "",
        "69    obj: 6.896904e-01    inv_step: 6.31e+01    rel_obj_change: 8.82e-06    tol: 1.0e-09"
       ]
      },
      {
       "output_type": "stream",
       "stream": "stdout",
       "text": [
        "",
        "70    obj: 6.896816e-01    inv_step: 6.31e+01    rel_obj_change: 8.71e-06    tol: 1.0e-09"
       ]
      },
      {
       "output_type": "stream",
       "stream": "stdout",
       "text": [
        "",
        "71    obj: 6.896729e-01    inv_step: 6.31e+01    rel_obj_change: 8.61e-06    tol: 1.0e-09"
       ]
      },
      {
       "output_type": "stream",
       "stream": "stdout",
       "text": [
        "",
        "72    obj: 6.896643e-01    inv_step: 6.31e+01    rel_obj_change: 7.37e-06    tol: 1.0e-09"
       ]
      },
      {
       "output_type": "stream",
       "stream": "stdout",
       "text": [
        "",
        "73    obj: 6.896569e-01    inv_step: 6.31e+01    rel_obj_change: 2.42e-06    tol: 1.0e-09"
       ]
      },
      {
       "output_type": "stream",
       "stream": "stdout",
       "text": [
        "",
        "74    obj: 6.896545e-01    inv_step: 6.31e+01    rel_obj_change: 2.04e-06    tol: 1.0e-09"
       ]
      },
      {
       "output_type": "stream",
       "stream": "stdout",
       "text": [
        "",
        "75    obj: 6.896524e-01    inv_step: 6.31e+01    rel_obj_change: 1.69e-06    tol: 1.0e-09"
       ]
      },
      {
       "output_type": "stream",
       "stream": "stdout",
       "text": [
        "",
        "76    obj: 6.896508e-01    inv_step: 6.31e+01    rel_obj_change: 1.30e-06    tol: 1.0e-09"
       ]
      },
      {
       "output_type": "stream",
       "stream": "stdout",
       "text": [
        "",
        "77    obj: 6.896495e-01    inv_step: 6.31e+01    rel_obj_change: 9.69e-07    tol: 1.0e-09"
       ]
      },
      {
       "output_type": "stream",
       "stream": "stdout",
       "text": [
        "",
        "78    obj: 6.896485e-01    inv_step: 6.31e+01    rel_obj_change: 6.86e-07    tol: 1.0e-09"
       ]
      },
      {
       "output_type": "stream",
       "stream": "stdout",
       "text": [
        "",
        "79    obj: 6.896478e-01    inv_step: 6.31e+01    rel_obj_change: 4.32e-07    tol: 1.0e-09"
       ]
      },
      {
       "output_type": "stream",
       "stream": "stdout",
       "text": [
        "",
        "80    obj: 6.896474e-01    inv_step: 6.31e+01    rel_obj_change: 2.08e-07    tol: 1.0e-09"
       ]
      },
      {
       "output_type": "stream",
       "stream": "stdout",
       "text": [
        "",
        "81    obj: 6.896472e-01    inv_step: 6.31e+01    rel_obj_change: 1.29e-08    tol: 1.0e-09"
       ]
      },
      {
       "output_type": "stream",
       "stream": "stdout",
       "text": [
        "",
        "82    obj: 6.896471e-01    inv_step: 6.31e+01    rel_obj_change: 1.53e-07    tol: 1.0e-09"
       ]
      },
      {
       "output_type": "stream",
       "stream": "stdout",
       "text": [
        "",
        "82 Restarting weights",
        "83    obj: 6.896471e-01    inv_step: 5.73e+01    rel_obj_change: 1.03e-07    tol: 1.0e-09"
       ]
      },
      {
       "output_type": "stream",
       "stream": "stdout",
       "text": [
        "",
        "84    obj: 6.896470e-01    inv_step: 5.21e+01    rel_obj_change: 1.12e-07    tol: 1.0e-09"
       ]
      },
      {
       "output_type": "stream",
       "stream": "stdout",
       "text": [
        "",
        "85    obj: 6.896469e-01    inv_step: 4.74e+01    rel_obj_change: 1.53e-07    tol: 1.0e-09"
       ]
      },
      {
       "output_type": "stream",
       "stream": "stdout",
       "text": [
        "",
        "86    obj: 6.896468e-01    inv_step: 4.31e+01    rel_obj_change: 1.98e-07    tol: 1.0e-09"
       ]
      },
      {
       "output_type": "stream",
       "stream": "stdout",
       "text": [
        "",
        "87    obj: 6.896466e-01    inv_step: 3.92e+01    rel_obj_change: 2.46e-07    tol: 1.0e-09"
       ]
      },
      {
       "output_type": "stream",
       "stream": "stdout",
       "text": [
        "",
        "88    obj: 6.896463e-01    inv_step: 3.56e+01    rel_obj_change: 2.98e-07    tol: 1.0e-09"
       ]
      },
      {
       "output_type": "stream",
       "stream": "stdout",
       "text": [
        "",
        "89    obj: 6.896460e-01    inv_step: 3.24e+01    rel_obj_change: 3.53e-07    tol: 1.0e-09"
       ]
      },
      {
       "output_type": "stream",
       "stream": "stdout",
       "text": [
        "",
        "90    obj: 6.896457e-01    inv_step: 2.94e+01    rel_obj_change: 4.10e-07    tol: 1.0e-09"
       ]
      },
      {
       "output_type": "stream",
       "stream": "stdout",
       "text": [
        "",
        "91    obj: 6.896453e-01    inv_step: 2.67e+01    rel_obj_change: 4.69e-07    tol: 1.0e-09"
       ]
      },
      {
       "output_type": "stream",
       "stream": "stdout",
       "text": [
        "",
        "92    obj: 6.896448e-01    inv_step: 2.43e+01    rel_obj_change: 5.28e-07    tol: 1.0e-09"
       ]
      },
      {
       "output_type": "stream",
       "stream": "stdout",
       "text": [
        "",
        "93    obj: 6.896443e-01    inv_step: 2.21e+01    rel_obj_change: 5.86e-07    tol: 1.0e-09"
       ]
      },
      {
       "output_type": "stream",
       "stream": "stdout",
       "text": [
        "",
        "94    obj: 6.896437e-01    inv_step: 2.01e+01    rel_obj_change: 6.40e-07    tol: 1.0e-09"
       ]
      },
      {
       "output_type": "stream",
       "stream": "stdout",
       "text": [
        "",
        "95    obj: 6.896431e-01    inv_step: 1.83e+01    rel_obj_change: 6.89e-07    tol: 1.0e-09"
       ]
      },
      {
       "output_type": "stream",
       "stream": "stdout",
       "text": [
        "",
        "96    obj: 6.896424e-01    inv_step: 1.66e+01    rel_obj_change: 7.29e-07    tol: 1.0e-09"
       ]
      },
      {
       "output_type": "stream",
       "stream": "stdout",
       "text": [
        "",
        "97    obj: 6.896416e-01    inv_step: 1.51e+01    rel_obj_change: 7.58e-07    tol: 1.0e-09"
       ]
      },
      {
       "output_type": "stream",
       "stream": "stdout",
       "text": [
        "",
        "98    obj: 6.896409e-01    inv_step: 1.37e+01    rel_obj_change: 7.73e-07    tol: 1.0e-09"
       ]
      },
      {
       "output_type": "stream",
       "stream": "stdout",
       "text": [
        "",
        "99    obj: 6.896401e-01    inv_step: 1.25e+01    rel_obj_change: 7.72e-07    tol: 1.0e-09"
       ]
      },
      {
       "output_type": "stream",
       "stream": "stdout",
       "text": [
        "",
        "100    obj: 6.896393e-01    inv_step: 1.13e+01    rel_obj_change: 7.52e-07    tol: 1.0e-09"
       ]
      },
      {
       "output_type": "stream",
       "stream": "stdout",
       "text": [
        "",
        "101    obj: 6.896386e-01    inv_step: 1.03e+01    rel_obj_change: 7.11e-07    tol: 1.0e-09"
       ]
      },
      {
       "output_type": "stream",
       "stream": "stdout",
       "text": [
        "",
        "102    obj: 6.896379e-01    inv_step: 9.37e+00    rel_obj_change: 6.51e-07    tol: 1.0e-09"
       ]
      },
      {
       "output_type": "stream",
       "stream": "stdout",
       "text": [
        "",
        "103    obj: 6.896372e-01    inv_step: 8.52e+00    rel_obj_change: 5.72e-07    tol: 1.0e-09"
       ]
      },
      {
       "output_type": "stream",
       "stream": "stdout",
       "text": [
        "",
        "104    obj: 6.896366e-01    inv_step: 7.75e+00    rel_obj_change: 4.78e-07    tol: 1.0e-09"
       ]
      },
      {
       "output_type": "stream",
       "stream": "stdout",
       "text": [
        "",
        "105    obj: 6.896362e-01    inv_step: 7.04e+00    rel_obj_change: 3.74e-07    tol: 1.0e-09"
       ]
      },
      {
       "output_type": "stream",
       "stream": "stdout",
       "text": [
        "",
        "106    obj: 6.896358e-01    inv_step: 6.40e+00    rel_obj_change: 2.67e-07    tol: 1.0e-09"
       ]
      },
      {
       "output_type": "stream",
       "stream": "stdout",
       "text": [
        "",
        "107    obj: 6.896355e-01    inv_step: 5.82e+00    rel_obj_change: 1.65e-07    tol: 1.0e-09"
       ]
      },
      {
       "output_type": "stream",
       "stream": "stdout",
       "text": [
        "",
        "108    obj: 6.896354e-01    inv_step: 5.29e+00    rel_obj_change: 7.60e-08    tol: 1.0e-09"
       ]
      },
      {
       "output_type": "stream",
       "stream": "stdout",
       "text": [
        "",
        "109    obj: 6.896353e-01    inv_step: 4.81e+00    rel_obj_change: 8.18e-09    tol: 1.0e-09"
       ]
      },
      {
       "output_type": "stream",
       "stream": "stdout",
       "text": [
        "",
        "110    obj: 6.896353e-01    inv_step: 4.37e+00    rel_obj_change: 3.40e-08    tol: 1.0e-09"
       ]
      },
      {
       "output_type": "stream",
       "stream": "stdout",
       "text": [
        "",
        "110 Restarting weights",
        "111    obj: 6.896353e-01    inv_step: 3.98e+00    rel_obj_change: 1.70e-09    tol: 1.0e-09"
       ]
      },
      {
       "output_type": "stream",
       "stream": "stdout",
       "text": [
        "",
        "112    obj: 6.896353e-01    inv_step: 3.61e+00    rel_obj_change: 1.68e-09    tol: 1.0e-09"
       ]
      },
      {
       "output_type": "stream",
       "stream": "stdout",
       "text": [
        "",
        "113    obj: 6.896353e-01    inv_step: 3.29e+00    rel_obj_change: 2.04e-09    tol: 1.0e-09"
       ]
      },
      {
       "output_type": "stream",
       "stream": "stdout",
       "text": [
        "",
        "114    obj: 6.896353e-01    inv_step: 2.99e+00    rel_obj_change: 2.28e-09    tol: 1.0e-09"
       ]
      },
      {
       "output_type": "stream",
       "stream": "stdout",
       "text": [
        "",
        "115    obj: 6.896353e-01    inv_step: 2.72e+00    rel_obj_change: 2.37e-09    tol: 1.0e-09"
       ]
      },
      {
       "output_type": "stream",
       "stream": "stdout",
       "text": [
        "",
        "116    obj: 6.896353e-01    inv_step: 2.47e+00    rel_obj_change: 2.31e-09    tol: 1.0e-09"
       ]
      },
      {
       "output_type": "stream",
       "stream": "stdout",
       "text": [
        "",
        "117    obj: 6.896353e-01    inv_step: 2.24e+00    rel_obj_change: 2.13e-09    tol: 1.0e-09"
       ]
      },
      {
       "output_type": "stream",
       "stream": "stdout",
       "text": [
        "",
        "118    obj: 6.896353e-01    inv_step: 2.04e+00    rel_obj_change: 1.86e-09    tol: 1.0e-09"
       ]
      },
      {
       "output_type": "stream",
       "stream": "stdout",
       "text": [
        "",
        "119    obj: 6.896353e-01    inv_step: 1.85e+00    rel_obj_change: 1.55e-09    tol: 1.0e-09"
       ]
      },
      {
       "output_type": "stream",
       "stream": "stdout",
       "text": [
        "",
        "120    obj: 6.896353e-01    inv_step: 1.69e+00    rel_obj_change: 1.22e-09    tol: 1.0e-09"
       ]
      },
      {
       "output_type": "stream",
       "stream": "stdout",
       "text": [
        "",
        "121    obj: 6.896353e-01    inv_step: 1.53e+00    rel_obj_change: 8.97e-10    tol: 1.0e-09"
       ]
      },
      {
       "output_type": "stream",
       "stream": "stdout",
       "text": [
        "",
        "Success: Optimization stopped because decrease in objective was below tolerance",
        "FISTA used 121 of 10000 iterations",
        ""
       ]
      },
      {
       "output_type": "pyout",
       "prompt_number": 37,
       "text": [
        "0.6758022258949915"
       ]
      }
     ],
     "prompt_number": 37
    },
    {
     "cell_type": "markdown",
     "source": [
      "Another way to do it, which will turn out to be slightly easier for maintaining the so-called \"active\" set is to think of the penalty on the linear coefficients as one penalty and ",
      "the \"zero\" penalty on the intercept as a separate penalty. The problem is still separable, we will just explicitly state is as separable with *only* a problem on the linear coefficients."
     ]
    },
    {
     "cell_type": "code",
     "collapsed": false,
     "input": [
      "linear_selector = slice(1, Xn.primal_shape[0])",
      "linear_penalty = rr.l1norm(p-1, lagrange=0.7*lagrange_max)",
      "",
      "final_inv_step = problem.final_inv_step",
      "separable = rr.separable_problem(loss, Xn.primal_shape, [linear_penalty], [linear_selector])",
      "linear_selector = separable.selectors[0]",
      "separable.coefs[0] = null_coef",
      "",
      "separable_soln = separable.solve(start_inv_step=final_inv_step, tol=1.e-9,debug=True)",
      ""
     ],
     "language": "python",
     "outputs": [
      {
       "output_type": "stream",
       "stream": "stdout",
       "text": [
        "0    obj: 6.922693e-01    inv_step: 1.53e+00    rel_obj_change: 1.17e-03    tol: 1.0e-09",
        "1    obj: 6.911038e-01    inv_step: 1.53e+00    rel_obj_change: 4.56e-04    tol: 1.0e-09"
       ]
      },
      {
       "output_type": "stream",
       "stream": "stdout",
       "text": [
        "",
        "2    obj: 6.906476e-01    inv_step: 1.53e+00    rel_obj_change: 2.66e-04    tol: 1.0e-09"
       ]
      },
      {
       "output_type": "stream",
       "stream": "stdout",
       "text": [
        "",
        "3    obj: 6.903817e-01    inv_step: 1.53e+00    rel_obj_change: 1.73e-04    tol: 1.0e-09"
       ]
      },
      {
       "output_type": "stream",
       "stream": "stdout",
       "text": [
        "",
        "4    obj: 6.902087e-01    inv_step: 1.53e+00    rel_obj_change: 1.43e-04    tol: 1.0e-09"
       ]
      },
      {
       "output_type": "stream",
       "stream": "stdout",
       "text": [
        "",
        "5    obj: 6.900658e-01    inv_step: 1.53e+00    rel_obj_change: 1.32e-04    tol: 1.0e-09"
       ]
      },
      {
       "output_type": "stream",
       "stream": "stdout",
       "text": [
        "",
        "6    obj: 6.899340e-01    inv_step: 1.53e+00    rel_obj_change: 1.13e-04    tol: 1.0e-09"
       ]
      },
      {
       "output_type": "stream",
       "stream": "stdout",
       "text": [
        "",
        "7    obj: 6.898205e-01    inv_step: 1.53e+00    rel_obj_change: 7.52e-05    tol: 1.0e-09"
       ]
      },
      {
       "output_type": "stream",
       "stream": "stdout",
       "text": [
        "",
        "8    obj: 6.897453e-01    inv_step: 1.53e+00    rel_obj_change: 6.44e-05    tol: 1.0e-09"
       ]
      },
      {
       "output_type": "stream",
       "stream": "stdout",
       "text": [
        "",
        "9    obj: 6.896809e-01    inv_step: 1.53e+00    rel_obj_change: 3.94e-05    tol: 1.0e-09"
       ]
      },
      {
       "output_type": "stream",
       "stream": "stdout",
       "text": [
        "",
        "10    obj: 6.896415e-01    inv_step: 1.53e+00    rel_obj_change: 5.96e-06    tol: 1.0e-09"
       ]
      },
      {
       "output_type": "stream",
       "stream": "stdout",
       "text": [
        "",
        "11    obj: 6.896355e-01    inv_step: 1.53e+00    rel_obj_change: 2.78e-06    tol: 1.0e-09"
       ]
      },
      {
       "output_type": "stream",
       "stream": "stdout",
       "text": [
        "",
        "11 Restarting weights",
        "12    obj: 6.896355e-01    inv_step: 1.39e+00    rel_obj_change: 8.62e-08    tol: 1.0e-09"
       ]
      },
      {
       "output_type": "stream",
       "stream": "stdout",
       "text": [
        "",
        "13    obj: 6.896354e-01    inv_step: 1.27e+00    rel_obj_change: 5.68e-08    tol: 1.0e-09"
       ]
      },
      {
       "output_type": "stream",
       "stream": "stdout",
       "text": [
        "",
        "14    obj: 6.896354e-01    inv_step: 1.15e+00    rel_obj_change: 4.54e-08    tol: 1.0e-09"
       ]
      },
      {
       "output_type": "stream",
       "stream": "stdout",
       "text": [
        "",
        "15    obj: 6.896353e-01    inv_step: 1.05e+00    rel_obj_change: 3.20e-08    tol: 1.0e-09"
       ]
      },
      {
       "output_type": "stream",
       "stream": "stdout",
       "text": [
        "",
        "16    obj: 6.896353e-01    inv_step: 9.52e-01    rel_obj_change: 2.20e-08    tol: 1.0e-09"
       ]
      },
      {
       "output_type": "stream",
       "stream": "stdout",
       "text": [
        "",
        "17    obj: 6.896353e-01    inv_step: 8.65e-01    rel_obj_change: 1.56e-08    tol: 1.0e-09"
       ]
      },
      {
       "output_type": "stream",
       "stream": "stdout",
       "text": [
        "",
        "18    obj: 6.896353e-01    inv_step: 7.87e-01    rel_obj_change: 1.05e-08    tol: 1.0e-09"
       ]
      },
      {
       "output_type": "stream",
       "stream": "stdout",
       "text": [
        "",
        "19    obj: 6.896353e-01    inv_step: 7.15e-01    rel_obj_change: 5.91e-09    tol: 1.0e-09"
       ]
      },
      {
       "output_type": "stream",
       "stream": "stdout",
       "text": [
        "",
        "20    obj: 6.896353e-01    inv_step: 6.50e-01    rel_obj_change: 2.34e-09    tol: 1.0e-09"
       ]
      },
      {
       "output_type": "stream",
       "stream": "stdout",
       "text": [
        "",
        "21    obj: 6.896353e-01    inv_step: 5.91e-01    rel_obj_change: 3.23e-10    tol: 1.0e-09"
       ]
      },
      {
       "output_type": "stream",
       "stream": "stdout",
       "text": [
        "",
        "Success: Optimization stopped because decrease in objective was below tolerance",
        "FISTA used 21 of 10000 iterations",
        ""
       ]
      }
     ],
     "prompt_number": 38
    },
    {
     "cell_type": "code",
     "collapsed": false,
     "input": [
      "loss.objective(soln), loss.objective(separable_soln), np.linalg.norm(soln-separable_soln) / np.linalg.norm(soln), soln[soln != 0], separable_soln[separable_soln != 0]"
     ],
     "language": "python",
     "outputs": [
      {
       "output_type": "pyout",
       "prompt_number": 39,
       "text": [
        "(0.6758022258949915,",
        " 0.67580184772526586,",
        " 0.0010097235047866141,",
        " array([ 0.08395417, -0.14272155, -0.01199488, -0.0104327 ]),",
        " array([ 0.08395029, -0.14272982, -0.01187441, -0.01054939]))"
       ]
      }
     ],
     "prompt_number": 39
    },
    {
     "cell_type": "heading",
     "level": 2,
     "source": [
      "Strong rules",
      ""
     ]
    },
    {
     "cell_type": "markdown",
     "source": [
      "The strong rules take a current solution, with its active variables try to guess which variables will enter the model at a new value of the ",
      "Lagrange parameter. It does this by guessing a bound on the slope of the dual paths. Typically this value is 1, but it could be other values as well."
     ]
    },
    {
     "cell_type": "markdown",
     "source": [
      "In this example, we will use the so-called strong rules (see http://arxiv.org/pdf/1011.2234.pdf) to screen variables at each step.",
      "The rule takes the gradient of the smooth part of the problem at $\\lambda_{\\text{cur}}$ and tries to guess which variables will still be excluded at $\\lambda_{\\text{new}} < \\lambda_{\\text{cur}}$.",
      "There are also possibly some unpenalized columns, these are ignored as the KKT conditions say that those entries of the gradient must be 0 at a minimizer."
     ]
    },
    {
     "cell_type": "code",
     "collapsed": false,
     "input": [
      "def strong_set(grad_cur, selector, lagrange_cur, lagrange_new, slope_guess=1):",
      "   return np.nonzero((np.fabs(selector.linear_map(grad_cur)) >= (slope_guess+1) * lagrange_new - slope_guess*lagrange_cur))[0]",
      " ",
      "g = loss.smooth_objective(separable_soln, 'grad')",
      "strong_set(g, linear_selector, 0.7 * lagrange_max, 0.69 * lagrange_max)",
      ""
     ],
     "language": "python",
     "outputs": [
      {
       "output_type": "pyout",
       "prompt_number": 42,
       "text": [
        "array([ 580,  691, 2870, 9515])"
       ]
      }
     ],
     "prompt_number": 42
    },
    {
     "cell_type": "markdown",
     "source": [
      "Note that the indices above refer to indices in the features but *not* the intercept_column. Why? Remember that we added a column of 1's as the first column of Xn (even though Xn is no longer an ndarray at this point), ",
      "and the nonzero coefficients of *soln* were precisely this feature and the intercept column. It shows up as 692 because adding the intercept as the first column shifted everything. "
     ]
    },
    {
     "cell_type": "code",
     "collapsed": false,
     "input": [
      "np.nonzero(soln)"
     ],
     "language": "python",
     "outputs": [
      {
       "output_type": "pyout",
       "prompt_number": 41,
       "text": [
        "(array([   0,  692, 2871, 9516]),)"
       ]
      }
     ],
     "prompt_number": 41
    },
    {
     "cell_type": "code",
     "collapsed": true,
     "input": [
      "Xn0 = rr.normalize(X, center=True, scale=True)"
     ],
     "language": "python",
     "outputs": []
    },
    {
     "cell_type": "markdown",
     "source": [
      "The take away message is that the safest way to do things for a candidate strong set is to slice the columns of the sparse array first, add the intercept and create the normalized object. "
     ]
    },
    {
     "cell_type": "code",
     "collapsed": false,
     "input": [
      "def null_objective(Y):",
      "    '''",
      "    Compute the null deviance -- we don't really need a solver for this, but it ",
      "    ensures we get the coefficient right.",
      "    '''",
      "    X = np.ones((Y.shape[0],1))",
      "    loss = construct_loss(X, Y)",
      "    return loss.solve(return_optimum=True, tol=1.e-12)",
      "    ",
      "null_objective(Y)",
      ""
     ],
     "language": "python",
     "outputs": []
    },
    {
     "cell_type": "markdown",
     "source": [
      "We finally define our problem, by restricting interest to only some columns."
     ]
    },
    {
     "cell_type": "code",
     "collapsed": false,
     "input": [
      "",
      "def restricted_problem(X_normalized, Y, lagrange, columns):",
      "    #TODO add a penalized argument so that not just 1st column unpenalized                                                                            ",
      "    if add_intercept:",
      "        columns = list(columns-1)",
      "        columns.remove(-1)",
      "    X_restricted = X_normalized.slice_columns(columns)",
      "    if add_intercept:",
      "        X_restricted = ra.intercept(X_restricted)",
      "    penalty_restricted = rr.weighted_l1norm(X_restricted.primal_shape, np.ones(X_restricted.primal_shape), lagrange=lagrange)",
      "    if add_intercept:",
      "        penalty_restricted.weights[0] = 0",
      "    loss_restricted = construct_loss(X_restricted, Y)",
      "    problem_restricted = rr.container(loss_restricted, penalty_restricted)",
      "    return loss_restricted, penalty_restricted, problem_restricted",
      "",
      "d = np.array(ds)"
     ],
     "language": "python",
     "outputs": []
    },
    {
     "cell_type": "code",
     "collapsed": true,
     "input": [
      "",
      ""
     ],
     "language": "python",
     "outputs": []
    },
    {
     "cell_type": "code",
     "collapsed": true,
     "input": [
      ""
     ],
     "language": "python",
     "outputs": []
    },
    {
     "cell_type": "code",
     "collapsed": true,
     "input": [
      ""
     ],
     "language": "python",
     "outputs": []
    }
   ]
  }
 ]
}
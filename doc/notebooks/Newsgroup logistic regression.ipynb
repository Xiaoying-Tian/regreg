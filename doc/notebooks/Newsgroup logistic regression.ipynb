{
 "metadata": {
  "name": "Newsgroup logistic regression"
 },
 "nbformat": 3,
 "worksheets": [
  {
   "cells": [
    {
     "cell_type": "heading",
     "level": 2,
     "source": [
      "Logistic regression with regreg"
     ]
    },
    {
     "cell_type": "markdown",
     "source": [
      "The logistic loss is included in regreg, taking a pair $(X,Y)$ where $X$ is an affine_transform and $Y$ is either a binary vector or, if not, an additional argument of 'trials' is needed specifying how many trials",
      "per row of $Y$. This is equivalent to setting the weights option in R."
     ]
    },
    {
     "cell_type": "code",
     "collapsed": false,
     "input": [
      "import numpy as np, regreg.api as rr",
      "",
      "n, p = 70, 8",
      "Xr = np.random.standard_normal((n, p))",
      "Yr = np.random.binomial(1,0.5, (n,))",
      "lossr = rr.logistic_loss(Xr,Yr)",
      "coefsr = lossr.solve(coef_stop=True, tol=1.e-8)",
      ""
     ],
     "language": "python",
     "outputs": [
      {
       "output_type": "stream",
       "stream": "stderr",
       "text": [
        "/Users/jonathantaylor/Documents/work/regreg/code/regreg/smooth.py:224: RuntimeWarning: divide by zero encountered in log",
        "  deviance_terms = np.log(saturated) * self.successes + np.log(1-saturated) * (self.trials - self.successes)",
        "/Users/jonathantaylor/Documents/work/regreg/code/regreg/smooth.py:224: RuntimeWarning: invalid value encountered in multiply",
        "  deviance_terms = np.log(saturated) * self.successes + np.log(1-saturated) * (self.trials - self.successes)",
        ""
       ]
      }
     ],
     "prompt_number": 1
    },
    {
     "cell_type": "markdown",
     "source": [
      "Let's compare this with R's output. First, we load the R magic into ipython"
     ]
    },
    {
     "cell_type": "code",
     "collapsed": false,
     "input": [
      "%load_ext rmagic",
      "cr = %R -i Xr -i Yr mylm = glm(Yr~Xr-1, family=binomial()); mylm$coef",
      "print np.linalg.norm(coefsr-cr) / np.linalg.norm(cr)",
      ""
     ],
     "language": "python",
     "outputs": [
      {
       "output_type": "stream",
       "stream": "stdout",
       "text": [
        "5.53588639406e-08",
        ""
       ]
      }
     ],
     "prompt_number": 2
    },
    {
     "cell_type": "markdown",
     "source": [
      "Now, let's compare the objective value. By default, regreg divides the deviance by n. This can be changed by adding the argument \"coef\" to logistic loss which multiplies the objective by coef."
     ]
    },
    {
     "cell_type": "code",
     "collapsed": false,
     "input": [
      "print lossr.smooth_objective(coefsr, 'func') * n",
      "fromR = %R summary(mylm)$deviance",
      "",
      "loss2 = lossr = rr.logistic_loss(Xr,Yr, coef=n)",
      "print loss2.smooth_objective(coefsr, 'func'), fromR",
      ""
     ],
     "language": "python",
     "outputs": [
      {
       "output_type": "stream",
       "stream": "stdout",
       "text": [
        "83.9188487235",
        "83.9188487235 [ 83.91884872]",
        ""
       ]
      }
     ],
     "prompt_number": 3
    },
    {
     "cell_type": "markdown",
     "source": [
      "We can also check that using trials is equivalent to using weights. _This is obviously a bug_"
     ]
    },
    {
     "cell_type": "code",
     "collapsed": false,
     "input": [
      "trials = np.ones(n, np.float)",
      "trials[:20] = 2",
      "trials[20:30] = 3.",
      "",
      "lossw = rr.logistic_loss(Xr,Yr,trials=trials, coef=n)",
      "coefsw = lossw.solve(tol=1.e-8)",
      "%R -i trials",
      "coefsRw = %R glm(Yr ~ Xr - 1, weights=trials, family=binomial())$coef",
      "print coefsw.shape",
      "print np.linalg.norm(coefsw-coefsRw) / np.linalg.norm(coefsw)",
      "print lossw.smooth_objective(coefsw, 'func'), lossw.smooth_objective(coefsRw, 'func')",
      "%R summary(glm(Yr~Xr-1, weights=trials, family=binomial()))$deviance"
     ],
     "language": "python",
     "outputs": [
      {
       "output_type": "stream",
       "stream": "stdout",
       "text": [
        "(8,)",
        "1.07943289452",
        "139.337074345 152.304942197",
        ""
       ]
      },
      {
       "output_type": "pyout",
       "prompt_number": 4,
       "text": [
        "array([ 125.78236714])"
       ]
      }
     ],
     "prompt_number": 4
    },
    {
     "cell_type": "heading",
     "level": 2,
     "source": [
      "Data import for newsgroup example"
     ]
    },
    {
     "cell_type": "markdown",
     "source": [
      "We will compare *regreg*'s solution to the newsgroup data to *glmnet*. The dataset is large with $(n,p)$=(11314, 777811)   though the design matrix is sparse. Unfortunately, we can't load in sparse matrices directly from R. So, we will write out to .csv save as .mat and use scipy.io.loadmat."
     ]
    },
    {
     "cell_type": "code",
     "collapsed": false,
     "input": [
      "import urllib, os, scipy.io, scipy.sparse",
      "",
      "if not os.path.exists('newsgroup.mat'):",
      "    print 'Had to form \"newsgroup.mat\"'",
      "    if not os.path.exists('NewsGroup.RData'):",
      "        print 'Had to download the data....'",
      "        with file('NewsGroup.RData', 'w') as f:",
      "            f.write(urllib.urlopen('http://www.jstatsoft.org/v33/i01/supp/6').read())",
      "  ",
      "    %R library(Matrix)",
      "    %R load('NewsGroup.RData')",
      "    %R newsX = NewsGroup$x",
      "    %R newsY = NewsGroup$y",
      "    %R writeMM(newsX, 'newsX.mtx')",
      "        ",
      "    X = scipy.io.mmread('newsX.mtx')",
      "    Y = %R newsY ",
      "    scipy.io.savemat('newsgroup.mat', {'X':X, 'Y':Y})",
      "    ",
      "",
      ""
     ],
     "language": "python",
     "outputs": [],
     "prompt_number": 5
    },
    {
     "cell_type": "heading",
     "level": 2,
     "source": [
      "Loss and penalty specification"
     ]
    },
    {
     "cell_type": "markdown",
     "source": [
      "Our loss function assumes binary successes (or proportions in [0,1]). We will center and scale our design matrix after having added an intercept to it. By default, scale and center are True for normalize while",
      "intercept_column defaults to None. Finally, our loss is logistic loss."
     ]
    },
    {
     "cell_type": "code",
     "collapsed": false,
     "input": [
      "D = scipy.io.loadmat('newsgroup.mat')",
      "X = D['X']; Y = D['Y']",
      "",
      "# convert to binary",
      "Y = (Y + 1) / 2; Y.shape = -1",
      "",
      "# add intercept and normalize",
      "X1 = scipy.sparse.hstack([np.ones((X.shape[0], 1)), X]).tocsc() # we use csc because we slice columns later",
      "Xn = rr.normalize(X1, center=True, scale=True, intercept_column=0)",
      "n, p = Xn.dual_shape[0], Xn.primal_shape[0]",
      "",
      "# form the loss",
      "",
      "loss = rr.logistic_loss(Xn, Y, coef=0.5)",
      ""
     ],
     "language": "python",
     "outputs": [],
     "prompt_number": 6
    },
    {
     "cell_type": "markdown",
     "source": [
      "At this point, we are ready to define the penalty: the LASSO penalty, what else? We'll also compute $\\lambda_{\\max}$ the smallest value for which all coefficients are 0. This is the $\\ell_{\\infty}$ norm of the ",
      "gradient at 0, almost. Actually, it should really be the $\\ell_{\\infty}$ norm of the gradient at the null model, i.e. with just an intercept. However, at an optimal solution the coordinate of the gradient corresponding to the",
      "intercept must be 0 (in fact for any value of $\\lambda$) so only the penalized columns enter."
     ]
    },
    {
     "cell_type": "code",
     "collapsed": false,
     "input": [
      "weights=np.ones(p); weights[Xn.intercept_column] = 0;",
      "coefs = np.zeros(p)",
      "",
      "lagrange_max = np.fabs(loss.smooth_objective(coefs, 'grad'))[1:].max()",
      "penalty = rr.weighted_l1norm(p, weights, lagrange=0.7*lagrange_max)",
      "lipschitz = rr.power_L(Xn) / n",
      "",
      "print lipschitz, lagrange_max, loss.coef"
     ],
     "language": "python",
     "outputs": [
      {
       "output_type": "stream",
       "stream": "stdout",
       "text": [
        "6306.51725349 0.119658377631 4.41930351777e-05",
        ""
       ]
      }
     ],
     "prompt_number": 7
    },
    {
     "cell_type": "markdown",
     "source": [
      "As mentioned above, this null model does not change $\\lambda_{\\max}$."
     ]
    },
    {
     "cell_type": "code",
     "collapsed": false,
     "input": [
      "",
      "null_design = np.ones((n,1))",
      "null_loss = rr.logistic_loss(null_design, Y)",
      "null_coef = null_loss.solve()",
      "",
      ""
     ],
     "language": "python",
     "outputs": [],
     "prompt_number": 8
    },
    {
     "cell_type": "code",
     "collapsed": false,
     "input": [
      "coefs[0] = null_coef",
      "lagrange_max_null = np.fabs(loss.smooth_objective(coefs, 'grad'))[1:].max()",
      "print lagrange_max_null, lagrange_max"
     ],
     "language": "python",
     "outputs": [
      {
       "output_type": "stream",
       "stream": "stdout",
       "text": [
        "0.119658377631 0.119658377631",
        ""
       ]
      }
     ],
     "prompt_number": 10
    },
    {
     "cell_type": "markdown",
     "source": [
      "The problem is a simple problem, in the sense that its prox is separable so we can instantiate it as:"
     ]
    },
    {
     "cell_type": "code",
     "collapsed": false,
     "input": [
      "%%timeit -n 1 -r 1",
      "problem = rr.simple_problem(loss, penalty)",
      "problem.lipschitz = lipschitz",
      "soln = problem.solve(start_inv_step=lipschitz/1000, debug=True, tol=1.e-9)",
      "loss.objective(soln)",
      "print 'Final objective value: ', problem.objective(soln)"
     ],
     "language": "python",
     "outputs": [
      {
       "output_type": "stream",
       "stream": "stdout",
       "text": [
        "0    obj: 6.931472e-01    inv_step: 6.31e+00    rel_obj_change: 4.04e-04    tol: 1.0e-09",
        "1    obj: 6.927433e-01    inv_step: 6.31e+00    rel_obj_change: 3.38e-04    tol: 1.0e-09"
       ]
      },
      {
       "output_type": "stream",
       "stream": "stdout",
       "text": [
        "",
        "2    obj: 6.924053e-01    inv_step: 6.31e+00    rel_obj_change: 3.60e-04    tol: 1.0e-09"
       ]
      },
      {
       "output_type": "stream",
       "stream": "stdout",
       "text": [
        "",
        "3    obj: 6.920454e-01    inv_step: 6.31e+00    rel_obj_change: 3.51e-04    tol: 1.0e-09"
       ]
      },
      {
       "output_type": "stream",
       "stream": "stdout",
       "text": [
        "",
        "4    obj: 6.916946e-01    inv_step: 6.31e+00    rel_obj_change: 3.21e-04    tol: 1.0e-09"
       ]
      },
      {
       "output_type": "stream",
       "stream": "stdout",
       "text": [
        "",
        "5    obj: 6.913737e-01    inv_step: 6.31e+00    rel_obj_change: 2.80e-04    tol: 1.0e-09"
       ]
      },
      {
       "output_type": "stream",
       "stream": "stdout",
       "text": [
        "",
        "6    obj: 6.910940e-01    inv_step: 6.31e+00    rel_obj_change: 2.36e-04    tol: 1.0e-09"
       ]
      },
      {
       "output_type": "stream",
       "stream": "stdout",
       "text": [
        "",
        "7    obj: 6.908582e-01    inv_step: 6.31e+00    rel_obj_change: 1.95e-04    tol: 1.0e-09"
       ]
      },
      {
       "output_type": "stream",
       "stream": "stdout",
       "text": [
        "",
        "8    obj: 6.906631e-01    inv_step: 6.31e+00    rel_obj_change: 1.61e-04    tol: 1.0e-09"
       ]
      },
      {
       "output_type": "stream",
       "stream": "stdout",
       "text": [
        "",
        "9    obj: 6.905021e-01    inv_step: 6.31e+00    rel_obj_change: 1.35e-04    tol: 1.0e-09"
       ]
      },
      {
       "output_type": "stream",
       "stream": "stdout",
       "text": [
        "",
        "10    obj: 6.903674e-01    inv_step: 6.31e+00    rel_obj_change: 1.15e-04    tol: 1.0e-09"
       ]
      },
      {
       "output_type": "stream",
       "stream": "stdout",
       "text": [
        "",
        "11    obj: 6.902523e-01    inv_step: 6.31e+00    rel_obj_change: 1.01e-04    tol: 1.0e-09"
       ]
      },
      {
       "output_type": "stream",
       "stream": "stdout",
       "text": [
        "",
        "12    obj: 6.901512e-01    inv_step: 6.31e+00    rel_obj_change: 9.06e-05    tol: 1.0e-09"
       ]
      },
      {
       "output_type": "stream",
       "stream": "stdout",
       "text": [
        "",
        "13    obj: 6.900606e-01    inv_step: 6.31e+00    rel_obj_change: 8.20e-05    tol: 1.0e-09"
       ]
      },
      {
       "output_type": "stream",
       "stream": "stdout",
       "text": [
        "",
        "14    obj: 6.899786e-01    inv_step: 6.31e+00    rel_obj_change: 7.43e-05    tol: 1.0e-09"
       ]
      },
      {
       "output_type": "stream",
       "stream": "stdout",
       "text": [
        "",
        "15    obj: 6.899043e-01    inv_step: 6.31e+00    rel_obj_change: 6.69e-05    tol: 1.0e-09"
       ]
      },
      {
       "output_type": "stream",
       "stream": "stdout",
       "text": [
        "",
        "16    obj: 6.898374e-01    inv_step: 6.31e+00    rel_obj_change: 4.48e-05    tol: 1.0e-09"
       ]
      },
      {
       "output_type": "stream",
       "stream": "stdout",
       "text": [
        "",
        "17    obj: 6.897926e-01    inv_step: 6.31e+00    rel_obj_change: 3.62e-05    tol: 1.0e-09"
       ]
      },
      {
       "output_type": "stream",
       "stream": "stdout",
       "text": [
        "",
        "18    obj: 6.897564e-01    inv_step: 6.31e+00    rel_obj_change: 3.24e-05    tol: 1.0e-09"
       ]
      },
      {
       "output_type": "stream",
       "stream": "stdout",
       "text": [
        "",
        "19    obj: 6.897240e-01    inv_step: 6.31e+00    rel_obj_change: 2.99e-05    tol: 1.0e-09"
       ]
      },
      {
       "output_type": "stream",
       "stream": "stdout",
       "text": [
        "",
        "20    obj: 6.896941e-01    inv_step: 6.31e+00    rel_obj_change: 2.82e-05    tol: 1.0e-09"
       ]
      },
      {
       "output_type": "stream",
       "stream": "stdout",
       "text": [
        "",
        "21    obj: 6.896658e-01    inv_step: 6.31e+00    rel_obj_change: 1.75e-05    tol: 1.0e-09"
       ]
      },
      {
       "output_type": "stream",
       "stream": "stdout",
       "text": [
        "",
        "22    obj: 6.896483e-01    inv_step: 6.31e+00    rel_obj_change: 4.86e-06    tol: 1.0e-09"
       ]
      },
      {
       "output_type": "stream",
       "stream": "stdout",
       "text": [
        "",
        "23    obj: 6.896435e-01    inv_step: 6.31e+00    rel_obj_change: 1.39e-06    tol: 1.0e-09"
       ]
      },
      {
       "output_type": "stream",
       "stream": "stdout",
       "text": [
        "",
        "24    obj: 6.896421e-01    inv_step: 6.31e+00    rel_obj_change: 6.99e-07    tol: 1.0e-09"
       ]
      },
      {
       "output_type": "stream",
       "stream": "stdout",
       "text": [
        "",
        "24 Restarting weights",
        "25    obj: 6.896421e-01    inv_step: 5.73e+00    rel_obj_change: 5.77e-07    tol: 1.0e-09"
       ]
      },
      {
       "output_type": "stream",
       "stream": "stdout",
       "text": [
        "",
        "26    obj: 6.896415e-01    inv_step: 5.21e+00    rel_obj_change: 5.79e-07    tol: 1.0e-09"
       ]
      },
      {
       "output_type": "stream",
       "stream": "stdout",
       "text": [
        "",
        "27    obj: 6.896409e-01    inv_step: 4.74e+00    rel_obj_change: 7.18e-07    tol: 1.0e-09"
       ]
      },
      {
       "output_type": "stream",
       "stream": "stdout",
       "text": [
        "",
        "28    obj: 6.896402e-01    inv_step: 4.31e+00    rel_obj_change: 8.13e-07    tol: 1.0e-09"
       ]
      },
      {
       "output_type": "stream",
       "stream": "stdout",
       "text": [
        "",
        "29    obj: 6.896394e-01    inv_step: 3.92e+00    rel_obj_change: 8.55e-07    tol: 1.0e-09"
       ]
      },
      {
       "output_type": "stream",
       "stream": "stdout",
       "text": [
        "",
        "30    obj: 6.896385e-01    inv_step: 3.56e+00    rel_obj_change: 8.37e-07    tol: 1.0e-09"
       ]
      },
      {
       "output_type": "stream",
       "stream": "stdout",
       "text": [
        "",
        "31    obj: 6.896377e-01    inv_step: 3.24e+00    rel_obj_change: 7.60e-07    tol: 1.0e-09"
       ]
      },
      {
       "output_type": "stream",
       "stream": "stdout",
       "text": [
        "",
        "32    obj: 6.896369e-01    inv_step: 2.94e+00    rel_obj_change: 6.33e-07    tol: 1.0e-09"
       ]
      },
      {
       "output_type": "stream",
       "stream": "stdout",
       "text": [
        "",
        "33    obj: 6.896363e-01    inv_step: 2.67e+00    rel_obj_change: 4.76e-07    tol: 1.0e-09"
       ]
      },
      {
       "output_type": "stream",
       "stream": "stdout",
       "text": [
        "",
        "34    obj: 6.896358e-01    inv_step: 2.43e+00    rel_obj_change: 3.13e-07    tol: 1.0e-09"
       ]
      },
      {
       "output_type": "stream",
       "stream": "stdout",
       "text": [
        "",
        "35    obj: 6.896355e-01    inv_step: 2.21e+00    rel_obj_change: 1.70e-07    tol: 1.0e-09"
       ]
      },
      {
       "output_type": "stream",
       "stream": "stdout",
       "text": [
        "",
        "36    obj: 6.896353e-01    inv_step: 2.01e+00    rel_obj_change: 6.45e-08    tol: 1.0e-09"
       ]
      },
      {
       "output_type": "stream",
       "stream": "stdout",
       "text": [
        "",
        "37    obj: 6.896353e-01    inv_step: 1.83e+00    rel_obj_change: 5.53e-09    tol: 1.0e-09"
       ]
      },
      {
       "output_type": "stream",
       "stream": "stdout",
       "text": [
        "",
        "38    obj: 6.896353e-01    inv_step: 1.66e+00    rel_obj_change: 1.29e-08    tol: 1.0e-09"
       ]
      },
      {
       "output_type": "stream",
       "stream": "stdout",
       "text": [
        "",
        "38 Restarting weights",
        "39    obj: 6.896353e-01    inv_step: 1.51e+00    rel_obj_change: 3.61e-09    tol: 1.0e-09"
       ]
      },
      {
       "output_type": "stream",
       "stream": "stdout",
       "text": [
        "",
        "40    obj: 6.896353e-01    inv_step: 1.37e+00    rel_obj_change: 2.99e-09    tol: 1.0e-09"
       ]
      },
      {
       "output_type": "stream",
       "stream": "stdout",
       "text": [
        "",
        "41    obj: 6.896353e-01    inv_step: 1.25e+00    rel_obj_change: 3.01e-09    tol: 1.0e-09"
       ]
      },
      {
       "output_type": "stream",
       "stream": "stdout",
       "text": [
        "",
        "42    obj: 6.896353e-01    inv_step: 1.13e+00    rel_obj_change: 2.66e-09    tol: 1.0e-09"
       ]
      },
      {
       "output_type": "stream",
       "stream": "stdout",
       "text": [
        "",
        "43    obj: 6.896353e-01    inv_step: 1.03e+00    rel_obj_change: 2.10e-09    tol: 1.0e-09"
       ]
      },
      {
       "output_type": "stream",
       "stream": "stdout",
       "text": [
        "",
        "44    obj: 6.896353e-01    inv_step: 9.37e-01    rel_obj_change: 1.51e-09    tol: 1.0e-09"
       ]
      },
      {
       "output_type": "stream",
       "stream": "stdout",
       "text": [
        "",
        "45    obj: 6.896353e-01    inv_step: 8.52e-01    rel_obj_change: 9.87e-10    tol: 1.0e-09"
       ]
      },
      {
       "output_type": "stream",
       "stream": "stdout",
       "text": [
        "",
        "Success: Optimization stopped because decrease in objective was below tolerance",
        "FISTA used 45 of 10000 iterations",
        "Final objective value:  "
       ]
      },
      {
       "output_type": "stream",
       "stream": "stdout",
       "text": [
        "0.689635259547",
        "1 loops, best of 1: 8.37 s per loop",
        ""
       ]
      }
     ],
     "prompt_number": 11
    },
    {
     "cell_type": "markdown",
     "source": [
      "Another way to do it, which will turn out to be slightly easier for maintaining the so-called \"active\" set is to think of the penalty on the linear coefficients as one penalty and ",
      "the \"zero\" penalty on the intercept as a separate penalty. The problem is still separable, we will just explicitly state is as separable with *only* a problem on the linear coefficients. It takes roughly the same number of iterations to solve. We won't use %%timeit because we want to store the output for use in demonstrating the strong rules."
     ]
    },
    {
     "cell_type": "code",
     "collapsed": false,
     "input": [
      "",
      "linear_slice = slice(1, Xn.primal_shape[0])",
      "linear_penalty = rr.l1norm(p-1, lagrange=0.7*lagrange_max)",
      "separable = rr.separable_problem(loss, Xn.primal_shape, [linear_penalty], [linear_slice])",
      "separable.coefs[0] = null_coef",
      "final_inv_step = lipschitz / 1000",
      "",
      "separable_soln = separable.solve(start_inv_step=final_inv_step, tol=1.e-9,debug=True)",
      "print 'Final objective value: ', separable.objective(separable_soln)"
     ],
     "language": "python",
     "outputs": [
      {
       "output_type": "stream",
       "stream": "stdout",
       "text": [
        "0    obj: 6.922693e-01    inv_step: 6.31e+00    rel_obj_change: 3.36e-04    tol: 1.0e-09",
        "1    obj: 6.919336e-01    inv_step: 6.31e+00    rel_obj_change: 2.75e-04    tol: 1.0e-09"
       ]
      },
      {
       "output_type": "stream",
       "stream": "stdout",
       "text": [
        "",
        "2    obj: 6.916585e-01    inv_step: 6.31e+00    rel_obj_change: 2.86e-04    tol: 1.0e-09"
       ]
      },
      {
       "output_type": "stream",
       "stream": "stdout",
       "text": [
        "",
        "3    obj: 6.913724e-01    inv_step: 6.31e+00    rel_obj_change: 2.70e-04    tol: 1.0e-09"
       ]
      },
      {
       "output_type": "stream",
       "stream": "stdout",
       "text": [
        "",
        "4    obj: 6.911021e-01    inv_step: 6.31e+00    rel_obj_change: 2.37e-04    tol: 1.0e-09"
       ]
      },
      {
       "output_type": "stream",
       "stream": "stdout",
       "text": [
        "",
        "5    obj: 6.908647e-01    inv_step: 6.31e+00    rel_obj_change: 1.97e-04    tol: 1.0e-09"
       ]
      },
      {
       "output_type": "stream",
       "stream": "stdout",
       "text": [
        "",
        "6    obj: 6.906678e-01    inv_step: 6.31e+00    rel_obj_change: 1.57e-04    tol: 1.0e-09"
       ]
      },
      {
       "output_type": "stream",
       "stream": "stdout",
       "text": [
        "",
        "7    obj: 6.905110e-01    inv_step: 6.31e+00    rel_obj_change: 1.22e-04    tol: 1.0e-09"
       ]
      },
      {
       "output_type": "stream",
       "stream": "stdout",
       "text": [
        "",
        "8    obj: 6.903886e-01    inv_step: 6.31e+00    rel_obj_change: 9.64e-05    tol: 1.0e-09"
       ]
      },
      {
       "output_type": "stream",
       "stream": "stdout",
       "text": [
        "",
        "9    obj: 6.902922e-01    inv_step: 6.31e+00    rel_obj_change: 7.92e-05    tol: 1.0e-09"
       ]
      },
      {
       "output_type": "stream",
       "stream": "stdout",
       "text": [
        "",
        "10    obj: 6.902129e-01    inv_step: 6.31e+00    rel_obj_change: 6.94e-05    tol: 1.0e-09"
       ]
      },
      {
       "output_type": "stream",
       "stream": "stdout",
       "text": [
        "",
        "11    obj: 6.901435e-01    inv_step: 6.31e+00    rel_obj_change: 6.48e-05    tol: 1.0e-09"
       ]
      },
      {
       "output_type": "stream",
       "stream": "stdout",
       "text": [
        "",
        "12    obj: 6.900787e-01    inv_step: 6.31e+00    rel_obj_change: 6.32e-05    tol: 1.0e-09"
       ]
      },
      {
       "output_type": "stream",
       "stream": "stdout",
       "text": [
        "",
        "13    obj: 6.900155e-01    inv_step: 6.31e+00    rel_obj_change: 6.24e-05    tol: 1.0e-09"
       ]
      },
      {
       "output_type": "stream",
       "stream": "stdout",
       "text": [
        "",
        "14    obj: 6.899531e-01    inv_step: 6.31e+00    rel_obj_change: 6.13e-05    tol: 1.0e-09"
       ]
      },
      {
       "output_type": "stream",
       "stream": "stdout",
       "text": [
        "",
        "15    obj: 6.898918e-01    inv_step: 6.31e+00    rel_obj_change: 5.92e-05    tol: 1.0e-09"
       ]
      },
      {
       "output_type": "stream",
       "stream": "stdout",
       "text": [
        "",
        "16    obj: 6.898327e-01    inv_step: 6.31e+00    rel_obj_change: 4.11e-05    tol: 1.0e-09"
       ]
      },
      {
       "output_type": "stream",
       "stream": "stdout",
       "text": [
        "",
        "17    obj: 6.897916e-01    inv_step: 6.31e+00    rel_obj_change: 3.52e-05    tol: 1.0e-09"
       ]
      },
      {
       "output_type": "stream",
       "stream": "stdout",
       "text": [
        "",
        "18    obj: 6.897563e-01    inv_step: 6.31e+00    rel_obj_change: 3.31e-05    tol: 1.0e-09"
       ]
      },
      {
       "output_type": "stream",
       "stream": "stdout",
       "text": [
        "",
        "19    obj: 6.897232e-01    inv_step: 6.31e+00    rel_obj_change: 3.14e-05    tol: 1.0e-09"
       ]
      },
      {
       "output_type": "stream",
       "stream": "stdout",
       "text": [
        "",
        "20    obj: 6.896918e-01    inv_step: 6.31e+00    rel_obj_change: 2.99e-05    tol: 1.0e-09"
       ]
      },
      {
       "output_type": "stream",
       "stream": "stdout",
       "text": [
        "",
        "21    obj: 6.896619e-01    inv_step: 6.31e+00    rel_obj_change: 1.89e-05    tol: 1.0e-09"
       ]
      },
      {
       "output_type": "stream",
       "stream": "stdout",
       "text": [
        "",
        "22    obj: 6.896430e-01    inv_step: 6.31e+00    rel_obj_change: 5.76e-06    tol: 1.0e-09"
       ]
      },
      {
       "output_type": "stream",
       "stream": "stdout",
       "text": [
        "",
        "23    obj: 6.896373e-01    inv_step: 6.31e+00    rel_obj_change: 1.71e-06    tol: 1.0e-09"
       ]
      },
      {
       "output_type": "stream",
       "stream": "stdout",
       "text": [
        "",
        "24    obj: 6.896356e-01    inv_step: 6.31e+00    rel_obj_change: 9.36e-07    tol: 1.0e-09"
       ]
      },
      {
       "output_type": "stream",
       "stream": "stdout",
       "text": [
        "",
        "24 Restarting weights",
        "25    obj: 6.896356e-01    inv_step: 5.73e+00    rel_obj_change: 2.63e-08    tol: 1.0e-09"
       ]
      },
      {
       "output_type": "stream",
       "stream": "stdout",
       "text": [
        "",
        "26    obj: 6.896355e-01    inv_step: 5.21e+00    rel_obj_change: 2.58e-08    tol: 1.0e-09"
       ]
      },
      {
       "output_type": "stream",
       "stream": "stdout",
       "text": [
        "",
        "27    obj: 6.896355e-01    inv_step: 4.74e+00    rel_obj_change: 3.11e-08    tol: 1.0e-09"
       ]
      },
      {
       "output_type": "stream",
       "stream": "stdout",
       "text": [
        "",
        "28    obj: 6.896355e-01    inv_step: 4.31e+00    rel_obj_change: 3.41e-08    tol: 1.0e-09"
       ]
      },
      {
       "output_type": "stream",
       "stream": "stdout",
       "text": [
        "",
        "29    obj: 6.896355e-01    inv_step: 3.92e+00    rel_obj_change: 3.46e-08    tol: 1.0e-09"
       ]
      },
      {
       "output_type": "stream",
       "stream": "stdout",
       "text": [
        "",
        "30    obj: 6.896354e-01    inv_step: 3.56e+00    rel_obj_change: 3.28e-08    tol: 1.0e-09"
       ]
      },
      {
       "output_type": "stream",
       "stream": "stdout",
       "text": [
        "",
        "31    obj: 6.896354e-01    inv_step: 3.24e+00    rel_obj_change: 2.91e-08    tol: 1.0e-09"
       ]
      },
      {
       "output_type": "stream",
       "stream": "stdout",
       "text": [
        "",
        "32    obj: 6.896354e-01    inv_step: 2.94e+00    rel_obj_change: 2.45e-08    tol: 1.0e-09"
       ]
      },
      {
       "output_type": "stream",
       "stream": "stdout",
       "text": [
        "",
        "33    obj: 6.896353e-01    inv_step: 2.67e+00    rel_obj_change: 1.98e-08    tol: 1.0e-09"
       ]
      },
      {
       "output_type": "stream",
       "stream": "stdout",
       "text": [
        "",
        "34    obj: 6.896353e-01    inv_step: 2.43e+00    rel_obj_change: 1.57e-08    tol: 1.0e-09"
       ]
      },
      {
       "output_type": "stream",
       "stream": "stdout",
       "text": [
        "",
        "35    obj: 6.896353e-01    inv_step: 2.21e+00    rel_obj_change: 1.26e-08    tol: 1.0e-09"
       ]
      },
      {
       "output_type": "stream",
       "stream": "stdout",
       "text": [
        "",
        "36    obj: 6.896353e-01    inv_step: 2.01e+00    rel_obj_change: 1.02e-08    tol: 1.0e-09"
       ]
      },
      {
       "output_type": "stream",
       "stream": "stdout",
       "text": [
        "",
        "37    obj: 6.896353e-01    inv_step: 1.83e+00    rel_obj_change: 8.11e-09    tol: 1.0e-09"
       ]
      },
      {
       "output_type": "stream",
       "stream": "stdout",
       "text": [
        "",
        "38    obj: 6.896353e-01    inv_step: 1.66e+00    rel_obj_change: 5.98e-09    tol: 1.0e-09"
       ]
      },
      {
       "output_type": "stream",
       "stream": "stdout",
       "text": [
        "",
        "39    obj: 6.896353e-01    inv_step: 1.51e+00    rel_obj_change: 3.77e-09    tol: 1.0e-09"
       ]
      },
      {
       "output_type": "stream",
       "stream": "stdout",
       "text": [
        "",
        "40    obj: 6.896353e-01    inv_step: 1.37e+00    rel_obj_change: 1.77e-09    tol: 1.0e-09"
       ]
      },
      {
       "output_type": "stream",
       "stream": "stdout",
       "text": [
        "",
        "41    obj: 6.896353e-01    inv_step: 1.25e+00    rel_obj_change: 3.23e-10    tol: 1.0e-09"
       ]
      },
      {
       "output_type": "stream",
       "stream": "stdout",
       "text": [
        "",
        "Success: Optimization stopped because decrease in objective was below tolerance",
        "FISTA used 41 of 10000 iterations",
        "Final objective value:  "
       ]
      },
      {
       "output_type": "stream",
       "stream": "stdout",
       "text": [
        "0.689635258691",
        ""
       ]
      }
     ],
     "prompt_number": 12
    },
    {
     "cell_type": "heading",
     "level": 2,
     "source": [
      "Strong rules",
      ""
     ]
    },
    {
     "cell_type": "markdown",
     "source": [
      "The strong rules take a current solution, with its active variables try to guess which variables will enter the model at a new value of the ",
      "Lagrange parameter. It does this by guessing a bound on the slope of the dual paths. Typically this value is 1, but it could be other values as well."
     ]
    },
    {
     "cell_type": "markdown",
     "source": [
      "In this example, we will use the so-called strong rules (see http://arxiv.org/pdf/1011.2234.pdf) to screen variables at each step.",
      "The rule takes the gradient of the smooth part of the problem at $\\lambda_{\\text{cur}}$ and tries to guess which variables will still be excluded at $\\lambda_{\\text{new}} < \\lambda_{\\text{cur}}$.",
      "There are also possibly some unpenalized columns, these are ignored as the KKT conditions say that those entries of the gradient must be 0 at a minimizer."
     ]
    },
    {
     "cell_type": "code",
     "collapsed": false,
     "input": [
      "def strong_set_lasso(grad, penalized, lagrange_cur, lagrange_new, slope_guess=1):",
      "    if not isinstance(penalized, rr.selector):",
      "        s = rr.selector(penalized, grad.shape)",
      "    else:",
      "        s = penalized",
      "    value = np.zeros(grad.shape, np.bool)",
      "    value += s.adjoint_map(np.fabs(s.linear_map(grad)) < (slope_guess+1) * lagrange_new - slope_guess*lagrange_cur)",
      "    return np.nonzero(~value)[0]",
      "",
      "g = loss.smooth_objective(separable_soln, 'grad')",
      "linear_selector = separable.selectors[0]",
      "strong_set = strong_set_lasso(g, linear_selector, 0.7 * lagrange_max, 0.6 * lagrange_max)",
      "print strong_set"
     ],
     "language": "python",
     "outputs": [
      {
       "output_type": "stream",
       "stream": "stdout",
       "text": [
        "[     0    282    438    581    666    667    692   1103   1106   1115",
        "   1283   1770   1771   1772   2420   2422   2439   2871   3579   4038",
        "   4252   4253   4623   6503   6801   9516  15903  17076  18592  20924",
        "  21310  25374 102116 390486]",
        ""
       ]
      }
     ],
     "prompt_number": 29
    },
    {
     "cell_type": "markdown",
     "source": [
      "Knowing a strong set means the problem can be solved much faster.",
      "",
      ""
     ]
    },
    {
     "cell_type": "code",
     "collapsed": false,
     "input": [
      "def restricted_problem(Xn, Y, strong_set, lagrange):",
      "    Xslice = Xn.slice_columns(strong_set)",
      "    Xslice.intercept_column = 0",
      "    loss = rr.logistic_loss(Xslice, Y, coef=0.5)",
      "    linear_slice = slice(1, Xslice.primal_shape[0])",
      "    linear_penalty = rr.l1norm(Xslice.primal_shape[0]-1, lagrange=lagrange)",
      "    strong_selector = rr.selector(strong_set, Xn.primal_shape)",
      "    penalized_selector = rr.selector(strong_set[1:], Xn.primal_shape)",
      "    problem_sliced = rr.separable_problem(loss, Xslice.primal_shape, [linear_penalty], [linear_slice])",
      "    return problem_sliced, strong_selector, penalized_selector",
      "",
      "%timeit sp = restricted_problem(Xn, Y, strong_set, 0.6 * lagrange_max)[0]; sp.solve(start_inv_step=lipschitz / 1000, tol=1.e-9)",
      "",
      "subproblem, strong_selector, penalized_selector = restricted_problem(Xn, Y, strong_set, 0.6 * lagrange_max)",
      "sub_soln = subproblem.solve(start_inv_step=lipschitz / 1000, tol=1.e-9)",
      ""
     ],
     "language": "python",
     "outputs": [
      {
       "output_type": "stream",
       "stream": "stdout",
       "text": [
        "10 loops, best of 3: 110 ms per loop",
        "[     0    282    438    581    666    667    692   1103   1106   1115",
        "   1283   1770   1771   1772   2420   2422   2439   2871   3579   4038",
        "   4252   4253   4623   6503   6801   9516  15903  17076  18592  20924",
        "  21310  25374 102116 390486]"
       ]
      },
      {
       "output_type": "stream",
       "stream": "stdout",
       "text": [
        "",
        ""
       ]
      }
     ],
     "prompt_number": 30
    },
    {
     "cell_type": "markdown",
     "source": [
      "Compare this to one solution using all coefficients.",
      ""
     ]
    },
    {
     "cell_type": "code",
     "collapsed": false,
     "input": [
      "%%timeit -n 1 -r 1",
      "",
      "linear_penalty.lagrange = 0.6 * lagrange_max ",
      "separable = rr.separable_problem(loss, Xn.primal_shape, [linear_penalty], [linear_slice])",
      "separable.coefs[0] = null_coef",
      "final_inv_step = lipschitz / 1000",
      "",
      "separable_soln[:] = separable.solve(start_inv_step=final_inv_step, tol=1.e-9,debug=True)",
      ""
     ],
     "language": "python",
     "outputs": [
      {
       "output_type": "stream",
       "stream": "stdout",
       "text": [
        "0    obj: 6.922693e-01    inv_step: 6.31e+00    rel_obj_change: 8.47e-04    tol: 1.0e-09",
        "1    obj: 6.914227e-01    inv_step: 6.31e+00    rel_obj_change: 6.51e-04    tol: 1.0e-09"
       ]
      },
      {
       "output_type": "stream",
       "stream": "stdout",
       "text": [
        "",
        "2    obj: 6.907719e-01    inv_step: 6.31e+00    rel_obj_change: 6.51e-04    tol: 1.0e-09"
       ]
      },
      {
       "output_type": "stream",
       "stream": "stdout",
       "text": [
        "",
        "3    obj: 6.901204e-01    inv_step: 6.31e+00    rel_obj_change: 5.94e-04    tol: 1.0e-09"
       ]
      },
      {
       "output_type": "stream",
       "stream": "stdout",
       "text": [
        "",
        "4    obj: 6.895263e-01    inv_step: 6.31e+00    rel_obj_change: 5.14e-04    tol: 1.0e-09"
       ]
      },
      {
       "output_type": "stream",
       "stream": "stdout",
       "text": [
        "",
        "5    obj: 6.890126e-01    inv_step: 6.31e+00    rel_obj_change: 4.35e-04    tol: 1.0e-09"
       ]
      },
      {
       "output_type": "stream",
       "stream": "stdout",
       "text": [
        "",
        "6    obj: 6.885777e-01    inv_step: 6.31e+00    rel_obj_change: 3.50e-04    tol: 1.0e-09"
       ]
      },
      {
       "output_type": "stream",
       "stream": "stdout",
       "text": [
        "",
        "7    obj: 6.882279e-01    inv_step: 6.31e+00    rel_obj_change: 2.51e-04    tol: 1.0e-09"
       ]
      },
      {
       "output_type": "stream",
       "stream": "stdout",
       "text": [
        "",
        "8    obj: 6.879766e-01    inv_step: 6.31e+00    rel_obj_change: 1.85e-04    tol: 1.0e-09"
       ]
      },
      {
       "output_type": "stream",
       "stream": "stdout",
       "text": [
        "",
        "9    obj: 6.877914e-01    inv_step: 6.31e+00    rel_obj_change: 1.34e-04    tol: 1.0e-09"
       ]
      },
      {
       "output_type": "stream",
       "stream": "stdout",
       "text": [
        "",
        "10    obj: 6.876574e-01    inv_step: 6.31e+00    rel_obj_change: 1.06e-04    tol: 1.0e-09"
       ]
      },
      {
       "output_type": "stream",
       "stream": "stdout",
       "text": [
        "",
        "11    obj: 6.875517e-01    inv_step: 6.31e+00    rel_obj_change: 8.83e-05    tol: 1.0e-09"
       ]
      },
      {
       "output_type": "stream",
       "stream": "stdout",
       "text": [
        "",
        "12    obj: 6.874634e-01    inv_step: 6.31e+00    rel_obj_change: 7.27e-05    tol: 1.0e-09"
       ]
      },
      {
       "output_type": "stream",
       "stream": "stdout",
       "text": [
        "",
        "13    obj: 6.873907e-01    inv_step: 6.31e+00    rel_obj_change: 6.86e-05    tol: 1.0e-09"
       ]
      },
      {
       "output_type": "stream",
       "stream": "stdout",
       "text": [
        "",
        "14    obj: 6.873221e-01    inv_step: 6.31e+00    rel_obj_change: 6.61e-05    tol: 1.0e-09"
       ]
      },
      {
       "output_type": "stream",
       "stream": "stdout",
       "text": [
        "",
        "15    obj: 6.872560e-01    inv_step: 6.31e+00    rel_obj_change: 6.33e-05    tol: 1.0e-09"
       ]
      },
      {
       "output_type": "stream",
       "stream": "stdout",
       "text": [
        "",
        "16    obj: 6.871927e-01    inv_step: 6.31e+00    rel_obj_change: 5.93e-05    tol: 1.0e-09"
       ]
      },
      {
       "output_type": "stream",
       "stream": "stdout",
       "text": [
        "",
        "17    obj: 6.871334e-01    inv_step: 6.31e+00    rel_obj_change: 5.41e-05    tol: 1.0e-09"
       ]
      },
      {
       "output_type": "stream",
       "stream": "stdout",
       "text": [
        "",
        "18    obj: 6.870793e-01    inv_step: 6.31e+00    rel_obj_change: 4.84e-05    tol: 1.0e-09"
       ]
      },
      {
       "output_type": "stream",
       "stream": "stdout",
       "text": [
        "",
        "19    obj: 6.870309e-01    inv_step: 6.31e+00    rel_obj_change: 4.26e-05    tol: 1.0e-09"
       ]
      },
      {
       "output_type": "stream",
       "stream": "stdout",
       "text": [
        "",
        "20    obj: 6.869883e-01    inv_step: 6.31e+00    rel_obj_change: 2.94e-05    tol: 1.0e-09"
       ]
      },
      {
       "output_type": "stream",
       "stream": "stdout",
       "text": [
        "",
        "21    obj: 6.869589e-01    inv_step: 6.31e+00    rel_obj_change: 2.57e-05    tol: 1.0e-09"
       ]
      },
      {
       "output_type": "stream",
       "stream": "stdout",
       "text": [
        "",
        "22    obj: 6.869332e-01    inv_step: 6.31e+00    rel_obj_change: 2.34e-05    tol: 1.0e-09"
       ]
      },
      {
       "output_type": "stream",
       "stream": "stdout",
       "text": [
        "",
        "23    obj: 6.869098e-01    inv_step: 6.31e+00    rel_obj_change: 2.14e-05    tol: 1.0e-09"
       ]
      },
      {
       "output_type": "stream",
       "stream": "stdout",
       "text": [
        "",
        "24    obj: 6.868885e-01    inv_step: 6.31e+00    rel_obj_change: 1.95e-05    tol: 1.0e-09"
       ]
      },
      {
       "output_type": "stream",
       "stream": "stdout",
       "text": [
        "",
        "25    obj: 6.868689e-01    inv_step: 6.31e+00    rel_obj_change: 1.78e-05    tol: 1.0e-09"
       ]
      },
      {
       "output_type": "stream",
       "stream": "stdout",
       "text": [
        "",
        "26    obj: 6.868512e-01    inv_step: 6.31e+00    rel_obj_change: 1.08e-05    tol: 1.0e-09"
       ]
      },
      {
       "output_type": "stream",
       "stream": "stdout",
       "text": [
        "",
        "27    obj: 6.868403e-01    inv_step: 6.31e+00    rel_obj_change: 2.98e-06    tol: 1.0e-09"
       ]
      },
      {
       "output_type": "stream",
       "stream": "stdout",
       "text": [
        "",
        "28    obj: 6.868374e-01    inv_step: 6.31e+00    rel_obj_change: 2.56e-07    tol: 1.0e-09"
       ]
      },
      {
       "output_type": "stream",
       "stream": "stdout",
       "text": [
        "",
        "29    obj: 6.868371e-01    inv_step: 6.31e+00    rel_obj_change: 1.50e-06    tol: 1.0e-09"
       ]
      },
      {
       "output_type": "stream",
       "stream": "stdout",
       "text": [
        "",
        "29 Restarting weights",
        "30    obj: 6.868371e-01    inv_step: 5.73e+00    rel_obj_change: 2.06e-07    tol: 1.0e-09"
       ]
      },
      {
       "output_type": "stream",
       "stream": "stdout",
       "text": [
        "",
        "31    obj: 6.868369e-01    inv_step: 5.21e+00    rel_obj_change: 2.03e-07    tol: 1.0e-09"
       ]
      },
      {
       "output_type": "stream",
       "stream": "stdout",
       "text": [
        "",
        "32    obj: 6.868367e-01    inv_step: 4.74e+00    rel_obj_change: 2.46e-07    tol: 1.0e-09"
       ]
      },
      {
       "output_type": "stream",
       "stream": "stdout",
       "text": [
        "",
        "33    obj: 6.868364e-01    inv_step: 4.31e+00    rel_obj_change: 2.70e-07    tol: 1.0e-09"
       ]
      },
      {
       "output_type": "stream",
       "stream": "stdout",
       "text": [
        "",
        "34    obj: 6.868362e-01    inv_step: 3.92e+00    rel_obj_change: 2.73e-07    tol: 1.0e-09"
       ]
      },
      {
       "output_type": "stream",
       "stream": "stdout",
       "text": [
        "",
        "35    obj: 6.868359e-01    inv_step: 3.56e+00    rel_obj_change: 2.54e-07    tol: 1.0e-09"
       ]
      },
      {
       "output_type": "stream",
       "stream": "stdout",
       "text": [
        "",
        "36    obj: 6.868357e-01    inv_step: 3.24e+00    rel_obj_change: 2.15e-07    tol: 1.0e-09"
       ]
      },
      {
       "output_type": "stream",
       "stream": "stdout",
       "text": [
        "",
        "37    obj: 6.868354e-01    inv_step: 2.94e+00    rel_obj_change: 1.64e-07    tol: 1.0e-09"
       ]
      },
      {
       "output_type": "stream",
       "stream": "stdout",
       "text": [
        "",
        "38    obj: 6.868353e-01    inv_step: 2.67e+00    rel_obj_change: 1.09e-07    tol: 1.0e-09"
       ]
      },
      {
       "output_type": "stream",
       "stream": "stdout",
       "text": [
        "",
        "39    obj: 6.868352e-01    inv_step: 2.43e+00    rel_obj_change: 6.04e-08    tol: 1.0e-09"
       ]
      },
      {
       "output_type": "stream",
       "stream": "stdout",
       "text": [
        "",
        "40    obj: 6.868351e-01    inv_step: 2.21e+00    rel_obj_change: 2.46e-08    tol: 1.0e-09"
       ]
      },
      {
       "output_type": "stream",
       "stream": "stdout",
       "text": [
        "",
        "41    obj: 6.868351e-01    inv_step: 2.01e+00    rel_obj_change: 4.68e-09    tol: 1.0e-09"
       ]
      },
      {
       "output_type": "stream",
       "stream": "stdout",
       "text": [
        "",
        "42    obj: 6.868351e-01    inv_step: 1.83e+00    rel_obj_change: 1.56e-09    tol: 1.0e-09"
       ]
      },
      {
       "output_type": "stream",
       "stream": "stdout",
       "text": [
        "",
        "42 Restarting weights",
        "43    obj: 6.868351e-01    inv_step: 1.66e+00    rel_obj_change: 1.64e-09    tol: 1.0e-09"
       ]
      },
      {
       "output_type": "stream",
       "stream": "stdout",
       "text": [
        "",
        "44    obj: 6.868351e-01    inv_step: 1.51e+00    rel_obj_change: 1.43e-09    tol: 1.0e-09"
       ]
      },
      {
       "output_type": "stream",
       "stream": "stdout",
       "text": [
        "",
        "45    obj: 6.868351e-01    inv_step: 1.37e+00    rel_obj_change: 1.54e-09    tol: 1.0e-09"
       ]
      },
      {
       "output_type": "stream",
       "stream": "stdout",
       "text": [
        "",
        "46    obj: 6.868351e-01    inv_step: 1.25e+00    rel_obj_change: 1.49e-09    tol: 1.0e-09"
       ]
      },
      {
       "output_type": "stream",
       "stream": "stdout",
       "text": [
        "",
        "47    obj: 6.868351e-01    inv_step: 1.13e+00    rel_obj_change: 1.33e-09    tol: 1.0e-09"
       ]
      },
      {
       "output_type": "stream",
       "stream": "stdout",
       "text": [
        "",
        "48    obj: 6.868351e-01    inv_step: 1.03e+00    rel_obj_change: 1.10e-09    tol: 1.0e-09"
       ]
      },
      {
       "output_type": "stream",
       "stream": "stdout",
       "text": [
        "",
        "49    obj: 6.868351e-01    inv_step: 9.37e-01    rel_obj_change: 8.49e-10    tol: 1.0e-09"
       ]
      },
      {
       "output_type": "stream",
       "stream": "stdout",
       "text": [
        "",
        "Success: Optimization stopped because decrease in objective was below tolerance",
        "FISTA used 49 of 10000 iterations",
        "1 loops, best of 1: 8.47 s per loop",
        ""
       ]
      }
     ],
     "prompt_number": 20
    },
    {
     "cell_type": "markdown",
     "source": [
      "In this case, we see that solving the problem with all the coefficients whose nonzero coefficients are contained in the strong set. Hence we know that solving the problem with fewer coefficients actually solves the bigger problems."
     ]
    },
    {
     "cell_type": "code",
     "collapsed": false,
     "input": [
      "set(np.nonzero(separable_soln != 0)[0]).issubset(strong_set)",
      ""
     ],
     "language": "python",
     "outputs": [
      {
       "output_type": "pyout",
       "prompt_number": 21,
       "text": [
        "True"
       ]
      }
     ],
     "prompt_number": 21
    },
    {
     "cell_type": "markdown",
     "source": [
      "Generally, we have to check whether solving the problem on the candidate strong set and setting the rest to zero",
      " solves the entire problem. In other words, we need to check the KKT conditions are satisfied.",
      "If we let  be the solution that is 0 everywhere outside the strong set and",
      " agrees with the subproblem on the strong set, then we must check that",
      "",
      "\\begin{eqnarray}",
      "|\\nabla L(\\hat{\\beta}_{\\text{sub}})_i| &< \\lambda \\quad & i  \\in \\text{strong}^c \\cap \\text{penalized} \\\\",
      "\\nabla L(\\hat{\\beta}_{\\text{sub}})_i &=\\lambda \\sgn(\\nabla L(\\hat{\\beta}_{\\text{sub}})_i)& i  \\in \\text{strong} \\cap \\text{penalized} \\\\",
      "\\nabla L(\\hat{\\beta}_{\\text{sub}})_i &= 0 & i  \\in \\text{strong} \\cap \\text{penalized}^c \\\\",
      "\\end{eqnarray}",
      "",
      "",
      "In this function, however, we assume that the unpenalized coefficients have been solved sufficiently and only check the penalized ones.",
      ""
     ]
    },
    {
     "cell_type": "code",
     "collapsed": false,
     "input": [
      "def check_KKT(grad, penalized, solution, lagrange, tol=1.0e-02):",
      "    '''",
      "    Verify that the KKT conditions for the LASSO possibly with unpenalized coefficients",
      "    is satisfied for (grad, solution) where grad is the gradient of the loss evaluated",
      "    at solution.",
      "    '''",
      "    if not isinstance(penalized, rr.selector):",
      "        s = rr.selector(penalized, grad.shape)",
      "    else:",
      "        s = penalized",
      "    soln_s = s.linear_map(solution)",
      "    g_s = s.linear_map(grad)",
      "    failing_s = np.zeros(g_s.shape)",
      "    failing = np.zeros(grad.shape, np.bool)",
      "",
      "    # Check the inactive coefficients",
      "    failing += s.adjoint_map(np.fabs(g_s) > lagrange * (1 + tol))",
      "",
      "    # Check the active coefficients",
      "    active = soln_s != 0",
      "    failing_s[active] += np.fabs(g_s[active] / lagrange + np.sign(soln_s[active])) >= tol ",
      "    failing += s.adjoint_map(failing_s)",
      "    if failing.sum():",
      "        return np.nonzero(failing)[0]",
      "    else:",
      "        return np.array([])",
      "",
      "expanded_soln = strong_selector.adjoint_map(sub_soln)",
      "full_grad = loss.smooth_objective(expanded_soln, 'grad')",
      "failing = check_KKT(full_grad, penalized_selector, expanded_soln, linear_penalty.lagrange)",
      "print failing"
     ],
     "language": "python",
     "outputs": [
      {
       "output_type": "stream",
       "stream": "stdout",
       "text": [
        "[]",
        ""
       ]
      }
     ],
     "prompt_number": 22
    },
    {
     "cell_type": "markdown",
     "source": [
      "We finally have the makings of a full algorithm using the strong rules. Given a candidate",
      " active set, we solve the restricted problem"
     ]
    },
    {
     "cell_type": "code",
     "collapsed": false,
     "input": [
      "lagrange_sequence = lagrange_max * np.exp(np.linspace(np.log(0.01), 0, 100))[::-1]",
      "",
      "solution = np.zeros(p)",
      "solution[0] = null_coef",
      "penalized = np.ones(solution.shape, np.bool)",
      "penalized[0] = False",
      "grad = loss.smooth_objective(solution, 'grad')",
      "",
      "strong = strong_set_lasso(grad, penalized, lagrange_sequence[0], lagrange_sequence[1])",
      "",
      "print strong",
      ""
     ],
     "language": "python",
     "outputs": [
      {
       "output_type": "stream",
       "stream": "stdout",
       "text": [
        "(777812,) (777812,) (777811,) (777812,)",
        "(777812,)",
        "[  0 692]"
       ]
      },
      {
       "output_type": "stream",
       "stream": "stdout",
       "text": [
        "",
        ""
       ]
      }
     ],
     "prompt_number": 28
    },
    {
     "cell_type": "markdown",
     "source": [
      "We finally define our problem, by restricting interest to only some columns."
     ]
    },
    {
     "cell_type": "code",
     "collapsed": false,
     "input": [
      "",
      "def restricted_problem(X_normalized, Y, lagrange, columns):",
      "    #TODO add a penalized argument so that not just 1st column unpenalized                                                                            ",
      "    if add_intercept:",
      "        columns = list(columns-1)",
      "        columns.remove(-1)",
      "    X_restricted = X_normalized.slice_columns(columns)",
      "    if add_intercept:",
      "        X_restricted = ra.intercept(X_restricted)",
      "    penalty_restricted = rr.weighted_l1norm(X_restricted.primal_shape, np.ones(X_restricted.primal_shape), lagrange=lagrange)",
      "    if add_intercept:",
      "        penalty_restricted.weights[0] = 0",
      "    loss_restricted = construct_loss(X_restricted, Y)",
      "    problem_restricted = rr.container(loss_restricted, penalty_restricted)",
      "    return loss_restricted, penalty_restricted, problem_restricted",
      "",
      "d = np.array(ds)"
     ],
     "language": "python",
     "outputs": []
    },
    {
     "cell_type": "code",
     "collapsed": true,
     "input": [
      "",
      ""
     ],
     "language": "python",
     "outputs": []
    },
    {
     "cell_type": "code",
     "collapsed": true,
     "input": [
      ""
     ],
     "language": "python",
     "outputs": []
    },
    {
     "cell_type": "code",
     "collapsed": true,
     "input": [
      ""
     ],
     "language": "python",
     "outputs": []
    }
   ]
  }
 ]
}
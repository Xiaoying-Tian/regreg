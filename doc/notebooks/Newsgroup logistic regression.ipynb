{
 "metadata": {
  "name": "Newsgroup logistic regression"
 },
 "nbformat": 3,
 "worksheets": [
  {
   "cells": [
    {
     "cell_type": "heading",
     "level": 2,
     "source": [
      "Logistic regression with regreg"
     ]
    },
    {
     "cell_type": "markdown",
     "source": [
      "The logistic loss is included in regreg, taking a pair $(X,Y)$ where $X$ is an affine_transform and $Y$ is either a binary vector or, if not, an additional argument of 'trials' is needed specifying how many trials",
      "per row of $Y$. This is equivalent to setting the weights option in R."
     ]
    },
    {
     "cell_type": "code",
     "collapsed": false,
     "input": [
      "import numpy as np, regreg.api as rr",
      "",
      "n, p = 70, 8",
      "Xr = np.random.standard_normal((n, p))",
      "Yr = np.random.binomial(1,0.5, (n,))",
      "lossr = rr.logistic_loss(Xr,Yr)",
      "coefsr = lossr.solve(coef_stop=True, tol=1.e-8)",
      ""
     ],
     "language": "python",
     "outputs": [
      {
       "output_type": "stream",
       "stream": "stderr",
       "text": [
        "/Users/jonathantaylor/Documents/work/regreg/code/regreg/smooth.py:224: RuntimeWarning: divide by zero encountered in log",
        "  deviance_terms = np.log(saturated) * self.successes + np.log(1-saturated) * (self.trials - self.successes)",
        "/Users/jonathantaylor/Documents/work/regreg/code/regreg/smooth.py:224: RuntimeWarning: invalid value encountered in multiply",
        "  deviance_terms = np.log(saturated) * self.successes + np.log(1-saturated) * (self.trials - self.successes)",
        ""
       ]
      }
     ],
     "prompt_number": 2
    },
    {
     "cell_type": "markdown",
     "source": [
      "Let's compare this with R's output. First, we load the R magic into ipython"
     ]
    },
    {
     "cell_type": "code",
     "collapsed": false,
     "input": [
      "%load_ext rmagic",
      "cr = %R -i Xr -i Yr mylm = glm(Yr~Xr-1, family=binomial()); mylm$coef",
      "print np.linalg.norm(coefsr-cr) / np.linalg.norm(cr)",
      ""
     ],
     "language": "python",
     "outputs": [
      {
       "output_type": "stream",
       "stream": "stdout",
       "text": [
        "2.05833736225e-07",
        ""
       ]
      }
     ],
     "prompt_number": 3
    },
    {
     "cell_type": "markdown",
     "source": [
      "Now, let's compare the objective value. By default, regreg divides the deviance by n. This can be changed by adding the argument \"coef\" to logistic loss which multiplies the objective by coef."
     ]
    },
    {
     "cell_type": "code",
     "collapsed": false,
     "input": [
      "print lossr.smooth_objective(coefsr, 'func') * n",
      "fromR = %R summary(mylm)$deviance",
      "",
      "loss2 = lossr = rr.logistic_loss(Xr,Yr, coef=n)",
      "print loss2.smooth_objective(coefsr, 'func'), fromR",
      ""
     ],
     "language": "python",
     "outputs": [
      {
       "output_type": "stream",
       "stream": "stdout",
       "text": [
        "87.0534147837",
        "87.0534147837 [ 87.05341478]",
        ""
       ]
      }
     ],
     "prompt_number": 4
    },
    {
     "cell_type": "markdown",
     "source": [
      "We can also check that using trials is equivalent to using weights. _This is obviously a bug_"
     ]
    },
    {
     "cell_type": "code",
     "collapsed": false,
     "input": [
      "trials = np.ones(n, np.float)",
      "trials[:20] = 2",
      "trials[20:30] = 3.",
      "",
      "lossw = rr.logistic_loss(Xr,Yr,trials=trials, coef=n)",
      "coefsw = lossw.solve(tol=1.e-8)",
      "%R -i trials",
      "coefsRw = %R glm(Yr ~ Xr - 1, weights=trials, family=binomial())$coef",
      "print coefsw.shape",
      "print np.linalg.norm(coefsw-coefsRw) / np.linalg.norm(coefsw)",
      "print lossw.smooth_objective(coefsw, 'func'), lossw.smooth_objective(coefsRw, 'func')",
      "%R summary(glm(Yr~Xr-1, weights=trials, family=binomial()))$deviance"
     ],
     "language": "python",
     "outputs": [
      {
       "output_type": "stream",
       "stream": "stdout",
       "text": [
        "(8,)",
        "0.765200840257",
        "138.878593453 149.839515015",
        ""
       ]
      },
      {
       "output_type": "pyout",
       "prompt_number": 5,
       "text": [
        "array([ 133.85614611])"
       ]
      }
     ],
     "prompt_number": 5
    },
    {
     "cell_type": "heading",
     "level": 2,
     "source": [
      "Data import for newsgroup example"
     ]
    },
    {
     "cell_type": "markdown",
     "source": [
      "We will compare *regreg*'s solution to the newsgroup data to *glmnet*. The dataset is large with $(n,p)$=(11314, 777811)   though the design matrix is sparse. Unfortunately, we can't load in sparse matrices directly from R. So, we will write out to .csv save as .mat and use scipy.io.loadmat."
     ]
    },
    {
     "cell_type": "code",
     "collapsed": false,
     "input": [
      "import urllib, os, scipy.io, scipy.sparse",
      "",
      "if not os.path.exists('newsgroup.mat'):",
      "    print 'Had to form \"newsgroup.mat\"'",
      "    if not os.path.exists('NewsGroup.RData'):",
      "        print 'Had to download the data....'",
      "        with file('NewsGroup.RData', 'w') as f:",
      "            f.write(urllib.urlopen('http://www.jstatsoft.org/v33/i01/supp/6').read())",
      "  ",
      "    %R library(Matrix)",
      "    %R load('NewsGroup.RData')",
      "    %R newsX = NewsGroup$x",
      "    %R newsY = NewsGroup$y",
      "    %R writeMM(newsX, 'newsX.mtx')",
      "        ",
      "    X = scipy.io.mmread('newsX.mtx')",
      "    Y = %R newsY ",
      "    scipy.io.savemat('newsgroup.mat', {'X':X, 'Y':Y})",
      "    ",
      "",
      ""
     ],
     "language": "python",
     "outputs": [],
     "prompt_number": 6
    },
    {
     "cell_type": "heading",
     "level": 2,
     "source": [
      "Loss and penalty specification"
     ]
    },
    {
     "cell_type": "markdown",
     "source": [
      "Our loss function assumes binary successes (or proportions in [0,1]). We will center and scale our design matrix after having added an intercept to it. By default, scale and center are True for normalize while",
      "intercept_column defaults to None. Finally, our loss is logistic loss."
     ]
    },
    {
     "cell_type": "code",
     "collapsed": false,
     "input": [
      "D = scipy.io.loadmat('newsgroup.mat')",
      "X = D['X']; Y = D['Y']",
      "",
      "# convert to binary",
      "Y = (Y + 1) / 2; Y.shape = -1",
      "",
      "# add intercept and normalize",
      "X1 = scipy.sparse.hstack([np.ones((X.shape[0], 1)), X]).tocsc() # we use csc because we slice columns later",
      "Xn = rr.normalize(X1, center=True, scale=True, intercept_column=0)",
      "n, p = Xn.dual_shape[0], Xn.primal_shape[0]",
      "",
      "# form the loss",
      "",
      "loss = rr.logistic_loss(Xn, Y, coef=0.5)",
      ""
     ],
     "language": "python",
     "outputs": [],
     "prompt_number": 7
    },
    {
     "cell_type": "markdown",
     "source": [
      "At this point, we are ready to define the penalty: the LASSO penalty, what else? We'll also compute $\\lambda_{\\max}$ the smallest value for which all coefficients are 0. This is the $\\ell_{\\infty}$ norm of the ",
      "gradient at 0, almost. Actually, it should really be the $\\ell_{\\infty}$ norm of the gradient at the null model, i.e. with just an intercept. However, at an optimal solution the coordinate of the gradient corresponding to the",
      "intercept must be 0 (in fact for any value of $\\lambda$) so only the penalized columns enter."
     ]
    },
    {
     "cell_type": "code",
     "collapsed": false,
     "input": [
      "weights=np.ones(p); weights[Xn.intercept_column] = 0;",
      "coefs = np.zeros(p)",
      "",
      "lagrange_max = np.fabs(loss.smooth_objective(coefs, 'grad'))[1:].max()",
      "penalty = rr.weighted_l1norm(p, weights, lagrange=0.7*lagrange_max)",
      "lipschitz = rr.power_L(Xn) / n",
      "",
      "print lipschitz, lagrange_max, loss.coef"
     ],
     "language": "python",
     "outputs": [
      {
       "output_type": "stream",
       "stream": "stdout",
       "text": [
        "6306.517245 0.119658377631 4.41930351777e-05",
        ""
       ]
      }
     ],
     "prompt_number": 8
    },
    {
     "cell_type": "markdown",
     "source": [
      "As mentioned above, this null model does not change $\\lambda_{\\max}$."
     ]
    },
    {
     "cell_type": "code",
     "collapsed": false,
     "input": [
      "",
      "null_design = np.ones((n,1))",
      "null_loss = rr.logistic_loss(null_design, Y)",
      "null_coef = null_loss.solve()",
      "",
      ""
     ],
     "language": "python",
     "outputs": [],
     "prompt_number": 9
    },
    {
     "cell_type": "code",
     "collapsed": false,
     "input": [
      "coefs[0] = null_coef",
      "lagrange_max_null = np.fabs(loss.smooth_objective(coefs, 'grad'))[1:].max()",
      "print lagrange_max_null, lagrange_max"
     ],
     "language": "python",
     "outputs": [
      {
       "output_type": "stream",
       "stream": "stdout",
       "text": [
        "0.119658377631 0.119658377631",
        ""
       ]
      }
     ],
     "prompt_number": 10
    },
    {
     "cell_type": "markdown",
     "source": [
      "The problem is a simple problem, in the sense that its prox is separable so we can instantiate it as:"
     ]
    },
    {
     "cell_type": "code",
     "collapsed": false,
     "input": [
      "%%timeit -n 1 -r 1",
      "problem = rr.simple_problem(loss, penalty)",
      "problem.lipschitz = lipschitz",
      "soln = problem.solve(start_inv_step=lipschitz/1000, debug=True, tol=1.e-9)",
      "loss.objective(soln)",
      "print 'Final objective value: ', problem.objective(soln)"
     ],
     "language": "python",
     "outputs": [
      {
       "output_type": "stream",
       "stream": "stdout",
       "text": [
        "0    obj: 6.931472e-01    inv_step: 6.31e+00    rel_obj_change: 4.04e-04    tol: 1.0e-09",
        "1    obj: 6.927433e-01    inv_step: 6.31e+00    rel_obj_change: 3.38e-04    tol: 1.0e-09"
       ]
      },
      {
       "output_type": "stream",
       "stream": "stdout",
       "text": [
        "",
        "2    obj: 6.924053e-01    inv_step: 6.31e+00    rel_obj_change: 3.60e-04    tol: 1.0e-09"
       ]
      },
      {
       "output_type": "stream",
       "stream": "stdout",
       "text": [
        "",
        "3    obj: 6.920454e-01    inv_step: 6.31e+00    rel_obj_change: 3.51e-04    tol: 1.0e-09"
       ]
      },
      {
       "output_type": "stream",
       "stream": "stdout",
       "text": [
        "",
        "4    obj: 6.916946e-01    inv_step: 6.31e+00    rel_obj_change: 3.21e-04    tol: 1.0e-09"
       ]
      },
      {
       "output_type": "stream",
       "stream": "stdout",
       "text": [
        "",
        "5    obj: 6.913737e-01    inv_step: 6.31e+00    rel_obj_change: 2.80e-04    tol: 1.0e-09"
       ]
      },
      {
       "output_type": "stream",
       "stream": "stdout",
       "text": [
        "",
        "6    obj: 6.910940e-01    inv_step: 6.31e+00    rel_obj_change: 2.36e-04    tol: 1.0e-09"
       ]
      },
      {
       "output_type": "stream",
       "stream": "stdout",
       "text": [
        "",
        "7    obj: 6.908582e-01    inv_step: 6.31e+00    rel_obj_change: 1.95e-04    tol: 1.0e-09"
       ]
      },
      {
       "output_type": "stream",
       "stream": "stdout",
       "text": [
        "",
        "8    obj: 6.906631e-01    inv_step: 6.31e+00    rel_obj_change: 1.61e-04    tol: 1.0e-09"
       ]
      },
      {
       "output_type": "stream",
       "stream": "stdout",
       "text": [
        "",
        "9    obj: 6.905021e-01    inv_step: 6.31e+00    rel_obj_change: 1.35e-04    tol: 1.0e-09"
       ]
      },
      {
       "output_type": "stream",
       "stream": "stdout",
       "text": [
        "",
        "10    obj: 6.903674e-01    inv_step: 6.31e+00    rel_obj_change: 1.15e-04    tol: 1.0e-09"
       ]
      },
      {
       "output_type": "stream",
       "stream": "stdout",
       "text": [
        "",
        "11    obj: 6.902523e-01    inv_step: 6.31e+00    rel_obj_change: 1.01e-04    tol: 1.0e-09"
       ]
      },
      {
       "output_type": "stream",
       "stream": "stdout",
       "text": [
        "",
        "12    obj: 6.901512e-01    inv_step: 6.31e+00    rel_obj_change: 9.06e-05    tol: 1.0e-09"
       ]
      },
      {
       "output_type": "stream",
       "stream": "stdout",
       "text": [
        "",
        "13    obj: 6.900606e-01    inv_step: 6.31e+00    rel_obj_change: 8.20e-05    tol: 1.0e-09"
       ]
      },
      {
       "output_type": "stream",
       "stream": "stdout",
       "text": [
        "",
        "14    obj: 6.899786e-01    inv_step: 6.31e+00    rel_obj_change: 7.43e-05    tol: 1.0e-09"
       ]
      },
      {
       "output_type": "stream",
       "stream": "stdout",
       "text": [
        "",
        "15    obj: 6.899043e-01    inv_step: 6.31e+00    rel_obj_change: 6.69e-05    tol: 1.0e-09"
       ]
      },
      {
       "output_type": "stream",
       "stream": "stdout",
       "text": [
        "",
        "16    obj: 6.898374e-01    inv_step: 6.31e+00    rel_obj_change: 4.48e-05    tol: 1.0e-09"
       ]
      },
      {
       "output_type": "stream",
       "stream": "stdout",
       "text": [
        "",
        "17    obj: 6.897926e-01    inv_step: 6.31e+00    rel_obj_change: 3.62e-05    tol: 1.0e-09"
       ]
      },
      {
       "output_type": "stream",
       "stream": "stdout",
       "text": [
        "",
        "18    obj: 6.897564e-01    inv_step: 6.31e+00    rel_obj_change: 3.24e-05    tol: 1.0e-09"
       ]
      },
      {
       "output_type": "stream",
       "stream": "stdout",
       "text": [
        "",
        "19    obj: 6.897240e-01    inv_step: 6.31e+00    rel_obj_change: 2.99e-05    tol: 1.0e-09"
       ]
      },
      {
       "output_type": "stream",
       "stream": "stdout",
       "text": [
        "",
        "20    obj: 6.896941e-01    inv_step: 6.31e+00    rel_obj_change: 2.82e-05    tol: 1.0e-09"
       ]
      },
      {
       "output_type": "stream",
       "stream": "stdout",
       "text": [
        "",
        "21    obj: 6.896658e-01    inv_step: 6.31e+00    rel_obj_change: 1.75e-05    tol: 1.0e-09"
       ]
      },
      {
       "output_type": "stream",
       "stream": "stdout",
       "text": [
        "",
        "22    obj: 6.896483e-01    inv_step: 6.31e+00    rel_obj_change: 4.86e-06    tol: 1.0e-09"
       ]
      },
      {
       "output_type": "stream",
       "stream": "stdout",
       "text": [
        "",
        "23    obj: 6.896435e-01    inv_step: 6.31e+00    rel_obj_change: 1.39e-06    tol: 1.0e-09"
       ]
      },
      {
       "output_type": "stream",
       "stream": "stdout",
       "text": [
        "",
        "24    obj: 6.896421e-01    inv_step: 6.31e+00    rel_obj_change: 6.99e-07    tol: 1.0e-09"
       ]
      },
      {
       "output_type": "stream",
       "stream": "stdout",
       "text": [
        "",
        "24 Restarting weights",
        "25    obj: 6.896421e-01    inv_step: 5.73e+00    rel_obj_change: 5.77e-07    tol: 1.0e-09"
       ]
      },
      {
       "output_type": "stream",
       "stream": "stdout",
       "text": [
        "",
        "26    obj: 6.896415e-01    inv_step: 5.21e+00    rel_obj_change: 5.79e-07    tol: 1.0e-09"
       ]
      },
      {
       "output_type": "stream",
       "stream": "stdout",
       "text": [
        "",
        "27    obj: 6.896409e-01    inv_step: 4.74e+00    rel_obj_change: 7.18e-07    tol: 1.0e-09"
       ]
      },
      {
       "output_type": "stream",
       "stream": "stdout",
       "text": [
        "",
        "28    obj: 6.896402e-01    inv_step: 4.31e+00    rel_obj_change: 8.13e-07    tol: 1.0e-09"
       ]
      },
      {
       "output_type": "stream",
       "stream": "stdout",
       "text": [
        "",
        "29    obj: 6.896394e-01    inv_step: 3.92e+00    rel_obj_change: 8.55e-07    tol: 1.0e-09"
       ]
      },
      {
       "output_type": "stream",
       "stream": "stdout",
       "text": [
        "",
        "30    obj: 6.896385e-01    inv_step: 3.56e+00    rel_obj_change: 8.37e-07    tol: 1.0e-09"
       ]
      },
      {
       "output_type": "stream",
       "stream": "stdout",
       "text": [
        "",
        "31    obj: 6.896377e-01    inv_step: 3.24e+00    rel_obj_change: 7.60e-07    tol: 1.0e-09"
       ]
      },
      {
       "output_type": "stream",
       "stream": "stdout",
       "text": [
        "",
        "32    obj: 6.896369e-01    inv_step: 2.94e+00    rel_obj_change: 6.33e-07    tol: 1.0e-09"
       ]
      },
      {
       "output_type": "stream",
       "stream": "stdout",
       "text": [
        "",
        "33    obj: 6.896363e-01    inv_step: 2.67e+00    rel_obj_change: 4.76e-07    tol: 1.0e-09"
       ]
      },
      {
       "output_type": "stream",
       "stream": "stdout",
       "text": [
        "",
        "34    obj: 6.896358e-01    inv_step: 2.43e+00    rel_obj_change: 3.13e-07    tol: 1.0e-09"
       ]
      },
      {
       "output_type": "stream",
       "stream": "stdout",
       "text": [
        "",
        "35    obj: 6.896355e-01    inv_step: 2.21e+00    rel_obj_change: 1.70e-07    tol: 1.0e-09"
       ]
      },
      {
       "output_type": "stream",
       "stream": "stdout",
       "text": [
        "",
        "36    obj: 6.896353e-01    inv_step: 2.01e+00    rel_obj_change: 6.45e-08    tol: 1.0e-09"
       ]
      },
      {
       "output_type": "stream",
       "stream": "stdout",
       "text": [
        "",
        "37    obj: 6.896353e-01    inv_step: 1.83e+00    rel_obj_change: 5.53e-09    tol: 1.0e-09"
       ]
      },
      {
       "output_type": "stream",
       "stream": "stdout",
       "text": [
        "",
        "38    obj: 6.896353e-01    inv_step: 1.66e+00    rel_obj_change: 1.29e-08    tol: 1.0e-09"
       ]
      },
      {
       "output_type": "stream",
       "stream": "stdout",
       "text": [
        "",
        "38 Restarting weights",
        "39    obj: 6.896353e-01    inv_step: 1.51e+00    rel_obj_change: 3.61e-09    tol: 1.0e-09"
       ]
      },
      {
       "output_type": "stream",
       "stream": "stdout",
       "text": [
        "",
        "40    obj: 6.896353e-01    inv_step: 1.37e+00    rel_obj_change: 2.99e-09    tol: 1.0e-09"
       ]
      },
      {
       "output_type": "stream",
       "stream": "stdout",
       "text": [
        "",
        "41    obj: 6.896353e-01    inv_step: 1.25e+00    rel_obj_change: 3.01e-09    tol: 1.0e-09"
       ]
      },
      {
       "output_type": "stream",
       "stream": "stdout",
       "text": [
        "",
        "42    obj: 6.896353e-01    inv_step: 1.13e+00    rel_obj_change: 2.66e-09    tol: 1.0e-09"
       ]
      },
      {
       "output_type": "stream",
       "stream": "stdout",
       "text": [
        "",
        "43    obj: 6.896353e-01    inv_step: 1.03e+00    rel_obj_change: 2.10e-09    tol: 1.0e-09"
       ]
      },
      {
       "output_type": "stream",
       "stream": "stdout",
       "text": [
        "",
        "44    obj: 6.896353e-01    inv_step: 9.37e-01    rel_obj_change: 1.51e-09    tol: 1.0e-09"
       ]
      },
      {
       "output_type": "stream",
       "stream": "stdout",
       "text": [
        "",
        "45    obj: 6.896353e-01    inv_step: 8.52e-01    rel_obj_change: 9.87e-10    tol: 1.0e-09"
       ]
      },
      {
       "output_type": "stream",
       "stream": "stdout",
       "text": [
        "",
        "Success: Optimization stopped because decrease in objective was below tolerance",
        "FISTA used 45 of 10000 iterations",
        "Final objective value: "
       ]
      },
      {
       "output_type": "stream",
       "stream": "stdout",
       "text": [
        " 0.689635259547",
        "1 loops, best of 1: 22.3 s per loop",
        ""
       ]
      }
     ],
     "prompt_number": 11
    },
    {
     "cell_type": "markdown",
     "source": [
      "Another way to do it, which will turn out to be slightly easier for maintaining the so-called \"active\" set is to think of the penalty on the linear coefficients as one penalty and ",
      "the \"zero\" penalty on the intercept as a separate penalty. The problem is still separable, we will just explicitly state is as separable with *only* a problem on the linear coefficients. It takes roughly the same number of iterations to solve. We won't use %%timeit because we want to store the output for use in demonstrating the strong rules."
     ]
    },
    {
     "cell_type": "code",
     "collapsed": false,
     "input": [
      "",
      "linear_slice = slice(1, Xn.primal_shape[0])",
      "linear_penalty = rr.l1norm(p-1, lagrange=0.7*lagrange_max)",
      "separable = rr.separable_problem(loss, Xn.primal_shape, [linear_penalty], [linear_slice])",
      "separable.coefs[0] = null_coef",
      "final_inv_step = lipschitz / 1000",
      "",
      "separable_soln = separable.solve(start_inv_step=final_inv_step, tol=1.e-9,debug=True)",
      "print 'Final objective value: ', separable.objective(separable_soln)"
     ],
     "language": "python",
     "outputs": [
      {
       "output_type": "stream",
       "stream": "stdout",
       "text": [
        "0    obj: 6.922693e-01    inv_step: 6.31e+00    rel_obj_change: 3.36e-04    tol: 1.0e-09",
        "1    obj: 6.919336e-01    inv_step: 6.31e+00    rel_obj_change: 2.75e-04    tol: 1.0e-09"
       ]
      },
      {
       "output_type": "stream",
       "stream": "stdout",
       "text": [
        "",
        "2    obj: 6.916585e-01    inv_step: 6.31e+00    rel_obj_change: 2.86e-04    tol: 1.0e-09"
       ]
      },
      {
       "output_type": "stream",
       "stream": "stdout",
       "text": [
        "",
        "3    obj: 6.913724e-01    inv_step: 6.31e+00    rel_obj_change: 2.70e-04    tol: 1.0e-09"
       ]
      },
      {
       "output_type": "stream",
       "stream": "stdout",
       "text": [
        "",
        "4    obj: 6.911021e-01    inv_step: 6.31e+00    rel_obj_change: 2.37e-04    tol: 1.0e-09"
       ]
      },
      {
       "output_type": "stream",
       "stream": "stdout",
       "text": [
        "",
        "5    obj: 6.908647e-01    inv_step: 6.31e+00    rel_obj_change: 1.97e-04    tol: 1.0e-09"
       ]
      },
      {
       "output_type": "stream",
       "stream": "stdout",
       "text": [
        "",
        "6    obj: 6.906678e-01    inv_step: 6.31e+00    rel_obj_change: 1.57e-04    tol: 1.0e-09"
       ]
      },
      {
       "output_type": "stream",
       "stream": "stdout",
       "text": [
        "",
        "7    obj: 6.905110e-01    inv_step: 6.31e+00    rel_obj_change: 1.22e-04    tol: 1.0e-09"
       ]
      },
      {
       "output_type": "stream",
       "stream": "stdout",
       "text": [
        "",
        "8    obj: 6.903886e-01    inv_step: 6.31e+00    rel_obj_change: 9.64e-05    tol: 1.0e-09"
       ]
      },
      {
       "output_type": "stream",
       "stream": "stdout",
       "text": [
        "",
        "9    obj: 6.902922e-01    inv_step: 6.31e+00    rel_obj_change: 7.92e-05    tol: 1.0e-09"
       ]
      },
      {
       "output_type": "stream",
       "stream": "stdout",
       "text": [
        "",
        "10    obj: 6.902129e-01    inv_step: 6.31e+00    rel_obj_change: 6.94e-05    tol: 1.0e-09"
       ]
      },
      {
       "output_type": "stream",
       "stream": "stdout",
       "text": [
        "",
        "11    obj: 6.901435e-01    inv_step: 6.31e+00    rel_obj_change: 6.48e-05    tol: 1.0e-09"
       ]
      },
      {
       "output_type": "stream",
       "stream": "stdout",
       "text": [
        "",
        "12    obj: 6.900787e-01    inv_step: 6.31e+00    rel_obj_change: 6.32e-05    tol: 1.0e-09"
       ]
      },
      {
       "output_type": "stream",
       "stream": "stdout",
       "text": [
        "",
        "13    obj: 6.900155e-01    inv_step: 6.31e+00    rel_obj_change: 6.24e-05    tol: 1.0e-09"
       ]
      },
      {
       "output_type": "stream",
       "stream": "stdout",
       "text": [
        "",
        "14    obj: 6.899531e-01    inv_step: 6.31e+00    rel_obj_change: 6.13e-05    tol: 1.0e-09"
       ]
      },
      {
       "output_type": "stream",
       "stream": "stdout",
       "text": [
        "",
        "15    obj: 6.898918e-01    inv_step: 6.31e+00    rel_obj_change: 5.92e-05    tol: 1.0e-09"
       ]
      },
      {
       "output_type": "stream",
       "stream": "stdout",
       "text": [
        "",
        "16    obj: 6.898327e-01    inv_step: 6.31e+00    rel_obj_change: 4.11e-05    tol: 1.0e-09"
       ]
      },
      {
       "output_type": "stream",
       "stream": "stdout",
       "text": [
        "",
        "17    obj: 6.897916e-01    inv_step: 6.31e+00    rel_obj_change: 3.52e-05    tol: 1.0e-09"
       ]
      },
      {
       "output_type": "stream",
       "stream": "stdout",
       "text": [
        "",
        "18    obj: 6.897563e-01    inv_step: 6.31e+00    rel_obj_change: 3.31e-05    tol: 1.0e-09"
       ]
      },
      {
       "output_type": "stream",
       "stream": "stdout",
       "text": [
        "",
        "19    obj: 6.897232e-01    inv_step: 6.31e+00    rel_obj_change: 3.14e-05    tol: 1.0e-09"
       ]
      },
      {
       "output_type": "stream",
       "stream": "stdout",
       "text": [
        "",
        "20    obj: 6.896918e-01    inv_step: 6.31e+00    rel_obj_change: 2.99e-05    tol: 1.0e-09"
       ]
      },
      {
       "output_type": "stream",
       "stream": "stdout",
       "text": [
        "",
        "21    obj: 6.896619e-01    inv_step: 6.31e+00    rel_obj_change: 1.89e-05    tol: 1.0e-09"
       ]
      },
      {
       "output_type": "stream",
       "stream": "stdout",
       "text": [
        "",
        "22    obj: 6.896430e-01    inv_step: 6.31e+00    rel_obj_change: 5.76e-06    tol: 1.0e-09"
       ]
      },
      {
       "output_type": "stream",
       "stream": "stdout",
       "text": [
        "",
        "23    obj: 6.896373e-01    inv_step: 6.31e+00    rel_obj_change: 1.71e-06    tol: 1.0e-09"
       ]
      },
      {
       "output_type": "stream",
       "stream": "stdout",
       "text": [
        "",
        "24    obj: 6.896356e-01    inv_step: 6.31e+00    rel_obj_change: 9.36e-07    tol: 1.0e-09"
       ]
      },
      {
       "output_type": "stream",
       "stream": "stdout",
       "text": [
        "",
        "24 Restarting weights",
        "25    obj: 6.896356e-01    inv_step: 5.73e+00    rel_obj_change: 2.63e-08    tol: 1.0e-09"
       ]
      },
      {
       "output_type": "stream",
       "stream": "stdout",
       "text": [
        "",
        "26    obj: 6.896355e-01    inv_step: 5.21e+00    rel_obj_change: 2.58e-08    tol: 1.0e-09"
       ]
      },
      {
       "output_type": "stream",
       "stream": "stdout",
       "text": [
        "",
        "27    obj: 6.896355e-01    inv_step: 4.74e+00    rel_obj_change: 3.11e-08    tol: 1.0e-09"
       ]
      },
      {
       "output_type": "stream",
       "stream": "stdout",
       "text": [
        "",
        "28    obj: 6.896355e-01    inv_step: 4.31e+00    rel_obj_change: 3.41e-08    tol: 1.0e-09"
       ]
      },
      {
       "output_type": "stream",
       "stream": "stdout",
       "text": [
        "",
        "29    obj: 6.896355e-01    inv_step: 3.92e+00    rel_obj_change: 3.46e-08    tol: 1.0e-09"
       ]
      },
      {
       "output_type": "stream",
       "stream": "stdout",
       "text": [
        "",
        "30    obj: 6.896354e-01    inv_step: 3.56e+00    rel_obj_change: 3.28e-08    tol: 1.0e-09"
       ]
      },
      {
       "output_type": "stream",
       "stream": "stdout",
       "text": [
        "",
        "31    obj: 6.896354e-01    inv_step: 3.24e+00    rel_obj_change: 2.91e-08    tol: 1.0e-09"
       ]
      },
      {
       "output_type": "stream",
       "stream": "stdout",
       "text": [
        "",
        "32    obj: 6.896354e-01    inv_step: 2.94e+00    rel_obj_change: 2.45e-08    tol: 1.0e-09"
       ]
      },
      {
       "output_type": "stream",
       "stream": "stdout",
       "text": [
        "",
        "33    obj: 6.896353e-01    inv_step: 2.67e+00    rel_obj_change: 1.98e-08    tol: 1.0e-09"
       ]
      },
      {
       "output_type": "stream",
       "stream": "stdout",
       "text": [
        "",
        "34    obj: 6.896353e-01    inv_step: 2.43e+00    rel_obj_change: 1.57e-08    tol: 1.0e-09"
       ]
      },
      {
       "output_type": "stream",
       "stream": "stdout",
       "text": [
        "",
        "35    obj: 6.896353e-01    inv_step: 2.21e+00    rel_obj_change: 1.26e-08    tol: 1.0e-09"
       ]
      },
      {
       "output_type": "stream",
       "stream": "stdout",
       "text": [
        "",
        "36    obj: 6.896353e-01    inv_step: 2.01e+00    rel_obj_change: 1.02e-08    tol: 1.0e-09"
       ]
      },
      {
       "output_type": "stream",
       "stream": "stdout",
       "text": [
        "",
        "37    obj: 6.896353e-01    inv_step: 1.83e+00    rel_obj_change: 8.11e-09    tol: 1.0e-09"
       ]
      },
      {
       "output_type": "stream",
       "stream": "stdout",
       "text": [
        "",
        "38    obj: 6.896353e-01    inv_step: 1.66e+00    rel_obj_change: 5.98e-09    tol: 1.0e-09"
       ]
      },
      {
       "output_type": "stream",
       "stream": "stdout",
       "text": [
        "",
        "39    obj: 6.896353e-01    inv_step: 1.51e+00    rel_obj_change: 3.77e-09    tol: 1.0e-09"
       ]
      },
      {
       "output_type": "stream",
       "stream": "stdout",
       "text": [
        "",
        "40    obj: 6.896353e-01    inv_step: 1.37e+00    rel_obj_change: 1.77e-09    tol: 1.0e-09"
       ]
      },
      {
       "output_type": "stream",
       "stream": "stdout",
       "text": [
        "",
        "41    obj: 6.896353e-01    inv_step: 1.25e+00    rel_obj_change: 3.23e-10    tol: 1.0e-09"
       ]
      },
      {
       "output_type": "stream",
       "stream": "stdout",
       "text": [
        "",
        "Success: Optimization stopped because decrease in objective was below tolerance",
        "FISTA used 41 of 10000 iterations",
        "Final objective value:  "
       ]
      },
      {
       "output_type": "stream",
       "stream": "stdout",
       "text": [
        "0.689635258691",
        ""
       ]
      }
     ],
     "prompt_number": 12
    },
    {
     "cell_type": "heading",
     "level": 2,
     "source": [
      "Strong rules",
      ""
     ]
    },
    {
     "cell_type": "markdown",
     "source": [
      "The strong rules take a current solution, with its active variables try to guess which variables will enter the model at a new value of the ",
      "Lagrange parameter. It does this by guessing a bound on the slope of the dual paths. Typically this value is 1, but it could be other values as well."
     ]
    },
    {
     "cell_type": "markdown",
     "source": [
      "In this example, we will use the so-called strong rules (see http://arxiv.org/pdf/1011.2234.pdf) to screen variables at each step.",
      "The rule takes the gradient of the smooth part of the problem at $\\lambda_{\\text{cur}}$ and tries to guess which variables will still be excluded at $\\lambda_{\\text{new}} < \\lambda_{\\text{cur}}$.",
      "There are also possibly some unpenalized columns, these are ignored as the KKT conditions say that those entries of the gradient must be 0 at a minimizer."
     ]
    },
    {
     "cell_type": "code",
     "collapsed": false,
     "input": [
      "def strong_set_lasso(grad, penalized, lagrange_cur, lagrange_new, slope_estimate=1):",
      "    if not isinstance(penalized, rr.selector):",
      "        s = rr.selector(penalized, grad.shape)",
      "    else:",
      "        s = penalized",
      "    value = np.zeros(grad.shape, np.bool)",
      "    value += s.adjoint_map(np.fabs(s.linear_map(grad)) < (slope_estimate+1) * lagrange_new - slope_estimate*lagrange_cur)",
      "    return ~value",
      "",
      "g = loss.smooth_objective(separable_soln, 'grad')",
      "linear_selector = separable.selectors[0]",
      "strong_set = strong_set_lasso(g, linear_selector, 0.7 * lagrange_max, 0.6 * lagrange_max)",
      "print strong_set"
     ],
     "language": "python",
     "outputs": [
      {
       "output_type": "stream",
       "stream": "stdout",
       "text": [
        "[ True False False ..., False False False]",
        ""
       ]
      }
     ],
     "prompt_number": 13
    },
    {
     "cell_type": "markdown",
     "source": [
      "Knowing a strong set means the problem can be solved much faster.",
      "",
      ""
     ]
    },
    {
     "cell_type": "code",
     "collapsed": false,
     "input": [
      "def restricted_problem(Xn, Y, candidate_set, lagrange):",
      "    '''",
      "    Assumes the candidate set includes intercept as first column.",
      "    '''",
      "    Xslice = Xn.slice_columns(candidate_set)",
      "    Xslice.intercept_column = 0",
      "    loss = rr.logistic_loss(Xslice, Y, coef=0.5)",
      "    linear_slice = slice(1, Xslice.primal_shape[0])",
      "    linear_penalty = rr.l1norm(Xslice.primal_shape[0]-1, lagrange=lagrange)",
      "    candidate_selector = rr.selector(candidate_set, Xn.primal_shape)",
      "    penalized_selector = rr.selector(candidate_set[1:], Xn.primal_shape)",
      "    problem_sliced = rr.separable_problem(loss, Xslice.primal_shape, [linear_penalty], [linear_slice])",
      "    return problem_sliced, candidate_selector, penalized_selector",
      "",
      "%timeit sp = restricted_problem(Xn, Y, strong_set, 0.6 * lagrange_max)[0]; sp.solve(start_inv_step=lipschitz / 1000, tol=1.e-9)",
      "",
      "subproblem, strong_selector, penalized_selector = restricted_problem(Xn, Y, strong_set, 0.6 * lagrange_max)",
      "sub_soln = subproblem.solve(start_inv_step=lipschitz / 1000, tol=1.e-9)",
      ""
     ],
     "language": "python",
     "outputs": [
      {
       "output_type": "stream",
       "stream": "stdout",
       "text": [
        "1 loops, best of 3: 207 ms per loop",
        ""
       ]
      }
     ],
     "prompt_number": 14
    },
    {
     "cell_type": "markdown",
     "source": [
      "Compare this to one solution using all coefficients.",
      ""
     ]
    },
    {
     "cell_type": "code",
     "collapsed": false,
     "input": [
      "%%timeit -n 1 -r 1",
      "",
      "linear_penalty.lagrange = 0.6 * lagrange_max ",
      "separable = rr.separable_problem(loss, Xn.primal_shape, [linear_penalty], [linear_slice])",
      "separable.coefs[0] = null_coef",
      "final_inv_step = lipschitz / 1000",
      "",
      "separable_soln[:] = separable.solve(start_inv_step=final_inv_step, tol=1.e-9,debug=True)",
      ""
     ],
     "language": "python",
     "outputs": [
      {
       "output_type": "stream",
       "stream": "stdout",
       "text": [
        "0    obj: 6.922693e-01    inv_step: 6.31e+00    rel_obj_change: 8.47e-04    tol: 1.0e-09",
        "1    obj: 6.914227e-01    inv_step: 6.31e+00    rel_obj_change: 6.51e-04    tol: 1.0e-09"
       ]
      },
      {
       "output_type": "stream",
       "stream": "stdout",
       "text": [
        "",
        "2    obj: 6.907719e-01    inv_step: 6.31e+00    rel_obj_change: 6.51e-04    tol: 1.0e-09"
       ]
      },
      {
       "output_type": "stream",
       "stream": "stdout",
       "text": [
        "",
        "3    obj: 6.901204e-01    inv_step: 6.31e+00    rel_obj_change: 5.94e-04    tol: 1.0e-09"
       ]
      },
      {
       "output_type": "stream",
       "stream": "stdout",
       "text": [
        "",
        "4    obj: 6.895263e-01    inv_step: 6.31e+00    rel_obj_change: 5.14e-04    tol: 1.0e-09"
       ]
      },
      {
       "output_type": "stream",
       "stream": "stdout",
       "text": [
        "",
        "5    obj: 6.890126e-01    inv_step: 6.31e+00    rel_obj_change: 4.35e-04    tol: 1.0e-09"
       ]
      },
      {
       "output_type": "stream",
       "stream": "stdout",
       "text": [
        "",
        "6    obj: 6.885777e-01    inv_step: 6.31e+00    rel_obj_change: 3.50e-04    tol: 1.0e-09"
       ]
      },
      {
       "output_type": "stream",
       "stream": "stdout",
       "text": [
        "",
        "7    obj: 6.882279e-01    inv_step: 6.31e+00    rel_obj_change: 2.51e-04    tol: 1.0e-09"
       ]
      },
      {
       "output_type": "stream",
       "stream": "stdout",
       "text": [
        "",
        "8    obj: 6.879766e-01    inv_step: 6.31e+00    rel_obj_change: 1.85e-04    tol: 1.0e-09"
       ]
      },
      {
       "output_type": "stream",
       "stream": "stdout",
       "text": [
        "",
        "9    obj: 6.877914e-01    inv_step: 6.31e+00    rel_obj_change: 1.34e-04    tol: 1.0e-09"
       ]
      },
      {
       "output_type": "stream",
       "stream": "stdout",
       "text": [
        "",
        "10    obj: 6.876574e-01    inv_step: 6.31e+00    rel_obj_change: 1.06e-04    tol: 1.0e-09"
       ]
      },
      {
       "output_type": "stream",
       "stream": "stdout",
       "text": [
        "",
        "11    obj: 6.875517e-01    inv_step: 6.31e+00    rel_obj_change: 8.83e-05    tol: 1.0e-09"
       ]
      },
      {
       "output_type": "stream",
       "stream": "stdout",
       "text": [
        "",
        "12    obj: 6.874634e-01    inv_step: 6.31e+00    rel_obj_change: 7.27e-05    tol: 1.0e-09"
       ]
      },
      {
       "output_type": "stream",
       "stream": "stdout",
       "text": [
        "",
        "13    obj: 6.873907e-01    inv_step: 6.31e+00    rel_obj_change: 6.86e-05    tol: 1.0e-09"
       ]
      },
      {
       "output_type": "stream",
       "stream": "stdout",
       "text": [
        "",
        "14    obj: 6.873221e-01    inv_step: 6.31e+00    rel_obj_change: 6.61e-05    tol: 1.0e-09"
       ]
      },
      {
       "output_type": "stream",
       "stream": "stdout",
       "text": [
        "",
        "15    obj: 6.872560e-01    inv_step: 6.31e+00    rel_obj_change: 6.33e-05    tol: 1.0e-09"
       ]
      },
      {
       "output_type": "stream",
       "stream": "stdout",
       "text": [
        "",
        "16    obj: 6.871927e-01    inv_step: 6.31e+00    rel_obj_change: 5.93e-05    tol: 1.0e-09"
       ]
      },
      {
       "output_type": "stream",
       "stream": "stdout",
       "text": [
        "",
        "17    obj: 6.871334e-01    inv_step: 6.31e+00    rel_obj_change: 5.41e-05    tol: 1.0e-09"
       ]
      },
      {
       "output_type": "stream",
       "stream": "stdout",
       "text": [
        "",
        "18    obj: 6.870793e-01    inv_step: 6.31e+00    rel_obj_change: 4.84e-05    tol: 1.0e-09"
       ]
      },
      {
       "output_type": "stream",
       "stream": "stdout",
       "text": [
        "",
        "19    obj: 6.870309e-01    inv_step: 6.31e+00    rel_obj_change: 4.26e-05    tol: 1.0e-09"
       ]
      },
      {
       "output_type": "stream",
       "stream": "stdout",
       "text": [
        "",
        "20    obj: 6.869883e-01    inv_step: 6.31e+00    rel_obj_change: 2.94e-05    tol: 1.0e-09"
       ]
      },
      {
       "output_type": "stream",
       "stream": "stdout",
       "text": [
        "",
        "21    obj: 6.869589e-01    inv_step: 6.31e+00    rel_obj_change: 2.57e-05    tol: 1.0e-09"
       ]
      },
      {
       "output_type": "stream",
       "stream": "stdout",
       "text": [
        "",
        "22    obj: 6.869332e-01    inv_step: 6.31e+00    rel_obj_change: 2.34e-05    tol: 1.0e-09"
       ]
      },
      {
       "output_type": "stream",
       "stream": "stdout",
       "text": [
        "",
        "23    obj: 6.869098e-01    inv_step: 6.31e+00    rel_obj_change: 2.14e-05    tol: 1.0e-09"
       ]
      },
      {
       "output_type": "stream",
       "stream": "stdout",
       "text": [
        "",
        "24    obj: 6.868885e-01    inv_step: 6.31e+00    rel_obj_change: 1.95e-05    tol: 1.0e-09"
       ]
      },
      {
       "output_type": "stream",
       "stream": "stdout",
       "text": [
        "",
        "25    obj: 6.868689e-01    inv_step: 6.31e+00    rel_obj_change: 1.78e-05    tol: 1.0e-09"
       ]
      },
      {
       "output_type": "stream",
       "stream": "stdout",
       "text": [
        "",
        "26    obj: 6.868512e-01    inv_step: 6.31e+00    rel_obj_change: 1.08e-05    tol: 1.0e-09"
       ]
      },
      {
       "output_type": "stream",
       "stream": "stdout",
       "text": [
        "",
        "27    obj: 6.868403e-01    inv_step: 6.31e+00    rel_obj_change: 2.98e-06    tol: 1.0e-09"
       ]
      },
      {
       "output_type": "stream",
       "stream": "stdout",
       "text": [
        "",
        "28    obj: 6.868374e-01    inv_step: 6.31e+00    rel_obj_change: 2.56e-07    tol: 1.0e-09"
       ]
      },
      {
       "output_type": "stream",
       "stream": "stdout",
       "text": [
        "",
        "29    obj: 6.868371e-01    inv_step: 6.31e+00    rel_obj_change: 1.50e-06    tol: 1.0e-09"
       ]
      },
      {
       "output_type": "stream",
       "stream": "stdout",
       "text": [
        "",
        "29 Restarting weights",
        "30    obj: 6.868371e-01    inv_step: 5.73e+00    rel_obj_change: 2.06e-07    tol: 1.0e-09"
       ]
      },
      {
       "output_type": "stream",
       "stream": "stdout",
       "text": [
        "",
        "31    obj: 6.868369e-01    inv_step: 5.21e+00    rel_obj_change: 2.03e-07    tol: 1.0e-09"
       ]
      },
      {
       "output_type": "stream",
       "stream": "stdout",
       "text": [
        "",
        "32    obj: 6.868367e-01    inv_step: 4.74e+00    rel_obj_change: 2.46e-07    tol: 1.0e-09"
       ]
      },
      {
       "output_type": "stream",
       "stream": "stdout",
       "text": [
        "",
        "33    obj: 6.868364e-01    inv_step: 4.31e+00    rel_obj_change: 2.70e-07    tol: 1.0e-09"
       ]
      },
      {
       "output_type": "stream",
       "stream": "stdout",
       "text": [
        "",
        "34    obj: 6.868362e-01    inv_step: 3.92e+00    rel_obj_change: 2.73e-07    tol: 1.0e-09"
       ]
      },
      {
       "output_type": "stream",
       "stream": "stdout",
       "text": [
        "",
        "35    obj: 6.868359e-01    inv_step: 3.56e+00    rel_obj_change: 2.54e-07    tol: 1.0e-09"
       ]
      },
      {
       "output_type": "stream",
       "stream": "stdout",
       "text": [
        "",
        "36    obj: 6.868357e-01    inv_step: 3.24e+00    rel_obj_change: 2.15e-07    tol: 1.0e-09"
       ]
      },
      {
       "output_type": "stream",
       "stream": "stdout",
       "text": [
        "",
        "37    obj: 6.868354e-01    inv_step: 2.94e+00    rel_obj_change: 1.64e-07    tol: 1.0e-09"
       ]
      },
      {
       "output_type": "stream",
       "stream": "stdout",
       "text": [
        "",
        "38    obj: 6.868353e-01    inv_step: 2.67e+00    rel_obj_change: 1.09e-07    tol: 1.0e-09"
       ]
      },
      {
       "output_type": "stream",
       "stream": "stdout",
       "text": [
        "",
        "39    obj: 6.868352e-01    inv_step: 2.43e+00    rel_obj_change: 6.04e-08    tol: 1.0e-09"
       ]
      },
      {
       "output_type": "stream",
       "stream": "stdout",
       "text": [
        "",
        "40    obj: 6.868351e-01    inv_step: 2.21e+00    rel_obj_change: 2.46e-08    tol: 1.0e-09"
       ]
      },
      {
       "output_type": "stream",
       "stream": "stdout",
       "text": [
        "",
        "41    obj: 6.868351e-01    inv_step: 2.01e+00    rel_obj_change: 4.68e-09    tol: 1.0e-09"
       ]
      },
      {
       "output_type": "stream",
       "stream": "stdout",
       "text": [
        "",
        "42    obj: 6.868351e-01    inv_step: 1.83e+00    rel_obj_change: 1.56e-09    tol: 1.0e-09"
       ]
      },
      {
       "output_type": "stream",
       "stream": "stdout",
       "text": [
        "",
        "42 Restarting weights",
        "43    obj: 6.868351e-01    inv_step: 1.66e+00    rel_obj_change: 1.64e-09    tol: 1.0e-09"
       ]
      },
      {
       "output_type": "stream",
       "stream": "stdout",
       "text": [
        "",
        "44    obj: 6.868351e-01    inv_step: 1.51e+00    rel_obj_change: 1.43e-09    tol: 1.0e-09"
       ]
      },
      {
       "output_type": "stream",
       "stream": "stdout",
       "text": [
        "",
        "45    obj: 6.868351e-01    inv_step: 1.37e+00    rel_obj_change: 1.54e-09    tol: 1.0e-09"
       ]
      },
      {
       "output_type": "stream",
       "stream": "stdout",
       "text": [
        "",
        "46    obj: 6.868351e-01    inv_step: 1.25e+00    rel_obj_change: 1.49e-09    tol: 1.0e-09"
       ]
      },
      {
       "output_type": "stream",
       "stream": "stdout",
       "text": [
        "",
        "47    obj: 6.868351e-01    inv_step: 1.13e+00    rel_obj_change: 1.33e-09    tol: 1.0e-09"
       ]
      },
      {
       "output_type": "stream",
       "stream": "stdout",
       "text": [
        "",
        "48    obj: 6.868351e-01    inv_step: 1.03e+00    rel_obj_change: 1.10e-09    tol: 1.0e-09"
       ]
      },
      {
       "output_type": "stream",
       "stream": "stdout",
       "text": [
        "",
        "49    obj: 6.868351e-01    inv_step: 9.37e-01    rel_obj_change: 8.49e-10    tol: 1.0e-09"
       ]
      },
      {
       "output_type": "stream",
       "stream": "stdout",
       "text": [
        "",
        "Success: Optimization stopped because decrease in objective was below tolerance",
        "FISTA used 49 of 10000 iterations",
        "1 loops, best of 1: 23.7 s per loop",
        ""
       ]
      }
     ],
     "prompt_number": 15
    },
    {
     "cell_type": "markdown",
     "source": [
      "In this case, we see that solving the problem with all the coefficients whose nonzero coefficients are contained in the strong set. Hence we know that solving the problem with fewer coefficients actually solves the bigger problems."
     ]
    },
    {
     "cell_type": "code",
     "collapsed": false,
     "input": [
      "set(np.nonzero(separable_soln != 0)[0]).issubset(strong_set)",
      ""
     ],
     "language": "python",
     "outputs": [
      {
       "output_type": "pyout",
       "prompt_number": 16,
       "text": [
        "False"
       ]
      }
     ],
     "prompt_number": 16
    },
    {
     "cell_type": "markdown",
     "source": [
      "Generally, we have to check whether solving the problem on the candidate strong set and setting the rest to zero",
      " solves the entire problem. In other words, we need to check the KKT conditions are satisfied.",
      "If we let  be the solution that is 0 everywhere outside the strong set and",
      " agrees with the subproblem on the strong set, then we must check that",
      "",
      "\\begin{eqnarray}",
      "|\\nabla L(\\hat{\\beta}_{\\text{sub}})_i| &< \\lambda \\quad & i  \\in \\text{strong}^c \\cap \\text{penalized} \\\\",
      "\\nabla L(\\hat{\\beta}_{\\text{sub}})_i &=\\lambda \\sgn(\\nabla L(\\hat{\\beta}_{\\text{sub}})_i)& i  \\in \\text{strong} \\cap \\text{penalized} \\\\",
      "\\nabla L(\\hat{\\beta}_{\\text{sub}})_i &= 0 & i  \\in \\text{strong} \\cap \\text{penalized}^c \\\\",
      "\\end{eqnarray}",
      "",
      "",
      "In this function, however, we assume that the unpenalized coefficients have been solved sufficiently and only check the penalized ones.",
      ""
     ]
    },
    {
     "cell_type": "code",
     "collapsed": false,
     "input": [
      "def check_KKT(grad, penalized, solution, lagrange, tol=1.0e-02):",
      "    '''",
      "    Verify that the KKT conditions for the LASSO possibly with unpenalized coefficients",
      "    is satisfied for (grad, solution) where grad is the gradient of the loss evaluated",
      "    at solution.",
      "    '''",
      "    if not isinstance(penalized, rr.selector):",
      "        s = rr.selector(penalized, grad.shape)",
      "    else:",
      "        s = penalized",
      "    soln_s = s.linear_map(solution)",
      "    g_s = s.linear_map(grad)",
      "    failing_s = np.zeros(g_s.shape)",
      "    failing = np.zeros(grad.shape, np.bool)",
      "",
      "    # Check the inactive coefficients",
      "    failing += s.adjoint_map(np.fabs(g_s) > lagrange * (1 + tol))",
      "",
      "    # Check the active coefficients",
      "    active = soln_s != 0",
      "    failing_s[active] += np.fabs(g_s[active] / lagrange + np.sign(soln_s[active])) >= tol ",
      "    failing += s.adjoint_map(failing_s)",
      "    return failing",
      "",
      "expanded_soln = strong_selector.adjoint_map(sub_soln)",
      "full_grad = loss.smooth_objective(expanded_soln, 'grad')",
      "failing = check_KKT(full_grad, penalized_selector, expanded_soln, linear_penalty.lagrange)",
      "print failing.sum()"
     ],
     "language": "python",
     "outputs": [
      {
       "output_type": "stream",
       "stream": "stdout",
       "text": [
        "0",
        ""
       ]
      }
     ],
     "prompt_number": 17
    },
    {
     "cell_type": "markdown",
     "source": [
      "We finally have the makings of a full algorithm using the strong rules. Given a candidate",
      " active set, we solve the restricted problem"
     ]
    },
    {
     "cell_type": "code",
     "collapsed": false,
     "input": [
      "def fit(grad_cur, penalized, Xn, Y, soln_cur, lagrange_cur, lagrange_new, active, start_inv_step=1, tol=1.e-6, slope_estimate=2, coef_stop=True, debug=False):",
      "    ",
      "    # try to solve the problem with the active set",
      "    active_subproblem, active_selector, pen_active_selector = restricted_problem(Xn, Y, active, lagrange_new)",
      "    active_subproblem.coefs[:] = active_selector.linear_map(soln_cur)",
      "    active_soln = active_subproblem.solve(start_inv_step=start_inv_step, coef_stop=coef_stop, tol=tol, debug=debug)",
      "    soln_cur[:] = active_selector.adjoint_map(active_soln)",
      "        ",
      "    final_inv_step = active_subproblem.final_inv_step",
      "    strong = strong_set_lasso(grad_cur, penalized, lagrange_cur, lagrange_new, slope_estimate=slope_estimate)",
      "    #strong_subproblem, strong_selector, pen_strong_selector = restricted_problem(Xn, Y, strong, lagrange_new)",
      "    #strong_subproblem.coefs[:] = strong_selector.linear_map(soln_cur)",
      "    ",
      "    #grad_cur = strong_selector.adjoint_map(strong_subproblem.smooth_objective(strong_subproblem.coefs, 'grad'))",
      "    #soln_cur[:] = strong_selector.adjoint_map(strong_subproblem.coefs)",
      "    # are any strong coefficients failing?",
      "    #strong_failing = check_KKT(grad_cur,",
      "    #                           pen_strong_selector,",
      "    #                           soln_cur,",
      "    #                           lagrange_new)",
      "    #if strong_failing.sum():",
      "    #    failing = strong_selector.adjoint_map(strong_failing)",
      "    #    return failing + active, final_inv_step, strong",
      "    return soln_cur != 0, final_inv_step, strong",
      "",
      "",
      ""
     ],
     "language": "python",
     "outputs": [],
     "prompt_number": 18
    },
    {
     "cell_type": "code",
     "collapsed": false,
     "input": [
      "import gc",
      "def main():",
      "",
      "    lagrange_sequence = lagrange_max * np.exp(np.linspace(np.log(0.05), 0, 100))[::-1]",
      "",
      "    # scaling will be needed to get coefficients on original scale                                                                                   \\",
      "                                                                                                                                                      ",
      "",
      "    scalings = np.asarray(Xn.col_stds).reshape(-1)",
      "    final_inv_step = lipschitz / 1000",
      "    # first solution corresponding to all zeros except intercept                                                                                     \\",
      "                                                                                                                                                      ",
      "",
      "    solution = np.zeros(p)",
      "    solution[0] = null_coef",
      "",
      "    penalized = np.ones(solution.shape, np.bool)",
      "    penalized[0] = False",
      "    grad = loss.smooth_objective(solution, 'grad')",
      "    strong = strong_set_lasso(grad, penalized, lagrange_sequence[0], lagrange_sequence[1])",
      "    active = strong.copy()",
      "",
      "    solutions = [solution.copy()]",
      "    rescaled_solutions = [solution.copy()[1:]]",
      "    objective = [loss.smooth_objective(solution, 'func')]",
      "    dfs = [1]",
      "    retry_counter = 0",
      "    import time",
      "    toc = time.time()",
      "    for lagrange_new, lagrange_cur in zip(lagrange_sequence[1:], lagrange_sequence[:-1]):",
      "        num_tries = 0",
      "        debug = False",
      "        tol = 1.0e-5",
      "        while True:",
      "            active_new, final_inv_step, strong = fit(grad, penalized, Xn,",
      "                                             Y, solution, lagrange_cur,",
      "                                             lagrange_new, active,",
      "                                             tol=tol,",
      "                                             start_inv_step=final_inv_step,",
      "                                             debug=debug)",
      "            grad = loss.smooth_objective(solution, 'grad')",
      "            if active_new.sum() <= active.sum() and (~active * active_new).sum() == 0:",
      "                failing = check_KKT(grad, penalized, solution, lagrange_new)",
      "                if not failing.sum():",
      "                    active = (solution != 0) + active",
      "                    break",
      "                else:",
      "                    retry_counter += 1",
      "                    print 'trying again:', retry_counter, 'failing:', np.nonzero(failing)[0], active.sum()",
      "                    active += strong",
      "            else:",
      "                print 'active set different', np.nonzero(active), np.nonzero(active_new)",
      "                active = active_new + strong ",
      "                ",
      "                ",
      "            tol /= 2.",
      "            num_tries += 1",
      "            if num_tries % 5 == 0:",
      "                debug=True",
      "                tol = 1.0e-5",
      "                active += strong_set_lasso(grad, penalized, lagrange_cur, lagrange_new)",
      "",
      "        solutions.append(solution.copy())",
      "        rescaled_solutions.append(solution[1:] / scalings[1:])",
      "        objective.append(loss.smooth_objective(solution, mode='func'))",
      "        dfs.append(active.shape[0])",
      "        print lagrange_cur / lagrange_max, lagrange_new, (solution != 0).sum(), 1. - objective[-1] / objective[0], list(lagrange_sequence).index(lagrange_new), np.fabs(rescaled_solutions[-1]).sum()",
      "        gc.collect()",
      "        tic = time.time()",
      "    ",
      "        print 'time: %0.1f' % (tic-toc)",
      "    solutions = scipy.sparse.lil_matrix(solutions)",
      "    rescaled_solutions = scipy.sparse.lil_matrix(rescaled_solutions)",
      "    objective = np.array(objective)",
      "    output = {'devratio': 1 - objective / objective.max(),",
      "              'df': dfs,",
      "              'beta': solutions,",
      "              'lagrange': lagrange_sequence,",
      "              'scalings': scalings,",
      "              'rescaled_beta': rescaled_solutions}",
      "   ",
      "    scipy.io.savemat('newsgroup_results.mat', output)",
      "",
      "main()"
     ],
     "language": "python",
     "outputs": [
      {
       "output_type": "stream",
       "stream": "stdout",
       "text": [
        "1.0 0.116091759405 2 0.0024352378769 1 0.0172828788936",
        "time: 0.5",
        "0.970193326227"
       ]
      },
      {
       "output_type": "stream",
       "stream": "stdout",
       "text": [
        " 0.112631450204 2 0.00471637523418 2 0.0339690576337",
        "time: 1.1"
       ]
      },
      {
       "output_type": "stream",
       "stream": "stdout",
       "text": [
        "",
        "0.941275090255"
       ]
      },
      {
       "output_type": "stream",
       "stream": "stdout",
       "text": [
        " 0.109274281311 2 0.00686070272559 3 0.0501341983024",
        "time: 1.7"
       ]
      },
      {
       "output_type": "stream",
       "stream": "stdout",
       "text": [
        "",
        "0.913218810709"
       ]
      },
      {
       "output_type": "stream",
       "stream": "stdout",
       "text": [
        " 0.106017178457 2 0.00890905082817 4 0.0660509500984",
        "time: 2.3"
       ]
      },
      {
       "output_type": "stream",
       "stream": "stdout",
       "text": [
        "",
        "0.885998795534"
       ]
      },
      {
       "output_type": "stream",
       "stream": "stdout",
       "text": [
        " 0.102857159004 2 0.0108217526974 5 0.0813723061824",
        "time: 2.8"
       ]
      },
      {
       "output_type": "stream",
       "stream": "stdout",
       "text": [
        "",
        "0.859590118472"
       ]
      },
      {
       "output_type": "stream",
       "stream": "stdout",
       "text": [
        " 0.0997913292202 2 0.0126245036848 6 0.0962564778819",
        "time: 3.4"
       ]
      },
      {
       "output_type": "stream",
       "stream": "stdout",
       "text": [
        "",
        "0.833968596232"
       ]
      },
      {
       "output_type": "stream",
       "stream": "stdout",
       "text": [
        " 0.0968168816247 2 0.014324660733 7 0.110724749652",
        "time: 3.9"
       ]
      },
      {
       "output_type": "stream",
       "stream": "stdout",
       "text": [
        "",
        "0.809110766347"
       ]
      },
      {
       "output_type": "stream",
       "stream": "stdout",
       "text": [
        " 0.0939310924184 2 0.0159285283014 8 0.124792880115",
        "time: 4.4"
       ]
      },
      {
       "output_type": "stream",
       "stream": "stdout",
       "text": [
        "",
        "0.784993865688"
       ]
      },
      {
       "output_type": "stream",
       "stream": "stdout",
       "text": [
        " 0.0911313189895 2 0.0174416259156 9 0.138472539731",
        "time: 5.0"
       ]
      },
      {
       "output_type": "stream",
       "stream": "stdout",
       "text": [
        "",
        "0.761595809619"
       ]
      },
      {
       "output_type": "stream",
       "stream": "stdout",
       "text": [
        " 0.0884149974938 2 0.018866487901 10 0.151749743999",
        "time: 5.5"
       ]
      },
      {
       "output_type": "stream",
       "stream": "stdout",
       "text": [
        "",
        "trying again:"
       ]
      },
      {
       "output_type": "stream",
       "stream": "stdout",
       "text": [
        " 1 failing: [2871 9516] 2",
        "0.738895171775"
       ]
      },
      {
       "output_type": "stream",
       "stream": "stdout",
       "text": [
        " 0.0857796405069 4 0.0216649811026 11 0.17086436236",
        "time: 6.5"
       ]
      },
      {
       "output_type": "stream",
       "stream": "stdout",
       "text": [
        "",
        "0.716871164437"
       ]
      },
      {
       "output_type": "stream",
       "stream": "stdout",
       "text": [
        " 0.0832228347459 4 0.0243493036758 12 0.189734608328",
        "time: 7.1"
       ]
      },
      {
       "output_type": "stream",
       "stream": "stdout",
       "text": [
        "",
        "0.695503619501"
       ]
      },
      {
       "output_type": "stream",
       "stream": "stdout",
       "text": [
        " 0.0807422388601 5 0.0276900822755 13 0.223090320274",
        "time: 7.6",
        "0.674772970006"
       ]
      },
      {
       "output_type": "stream",
       "stream": "stdout",
       "text": [
        " 0.0783355812867 5 0.030955616474 14 0.256856559731",
        "time: 8.1",
        "0.654660232218"
       ]
      },
      {
       "output_type": "stream",
       "stream": "stdout",
       "text": [
        " 0.0760006581704 5 0.0341113764501 15 0.290121073723",
        "time: 8.6",
        "0.635146988244"
       ]
      },
      {
       "output_type": "stream",
       "stream": "stdout",
       "text": [
        " 0.0737353313458 5 0.0371684374648 16 0.32294847143",
        "time: 9.1",
        "0.616215369167"
       ]
      },
      {
       "output_type": "stream",
       "stream": "stdout",
       "text": [
        " 0.0715375263788 5 0.0401325161883 17 0.35537593736",
        "time: 9.6",
        "0.597848038685"
       ]
      },
      {
       "output_type": "stream",
       "stream": "stdout",
       "text": [
        " 0.0694052306675 5 0.0430058810115 18 0.387420037904",
        "time: 10.1",
        "trying again:"
       ]
      },
      {
       "output_type": "stream",
       "stream": "stdout",
       "text": [
        " 2 failing: [3579] 6",
        "0.580028177229"
       ]
      },
      {
       "output_type": "stream",
       "stream": "stdout",
       "text": [
        " 0.0673364915988 6 0.0464208280117 19 0.424952493217",
        "time: 11.0",
        "0.562739466571"
       ]
      },
      {
       "output_type": "stream",
       "stream": "stdout",
       "text": [
        " 0.0653294147607 6 0.0497002452499 20 0.461909397495",
        "time: 11.5",
        "0.545966074872"
       ]
      },
      {
       "output_type": "stream",
       "stream": "stdout",
       "text": [
        " 0.0633821622071 8 0.0533645901685 21 0.505621452247",
        "time: 12.0",
        "0.529692642187"
       ]
      },
      {
       "output_type": "stream",
       "stream": "stdout",
       "text": [
        " 0.0614929507751 8 0.0571654429998 22 0.55132381267",
        "time: 12.5",
        "0.513904266401"
       ]
      },
      {
       "output_type": "stream",
       "stream": "stdout",
       "text": [
        " 0.059660050452 8 0.0608969239797 23 0.597453542786",
        "time: 13.0",
        "trying again:"
       ]
      },
      {
       "output_type": "stream",
       "stream": "stdout",
       "text": [
        " 3 failing: [ 25374 102116] 11",
        "0.498586489582"
       ]
      },
      {
       "output_type": "stream",
       "stream": "stdout",
       "text": [
        " 0.0578817827909 13 0.0654587353047 24 0.677641451218",
        "time: 14.0",
        "0.483725284739"
       ]
      },
      {
       "output_type": "stream",
       "stream": "stdout",
       "text": [
        " 0.0561565193738 16 0.0713083501489 25 0.798657458417",
        "time: 14.5",
        "0.469307042981"
       ]
      },
      {
       "output_type": "stream",
       "stream": "stdout",
       "text": [
        " 0.0544826803206 16 0.0772932719455 26 0.924054515287",
        "time: 15.0",
        "0.455318561051"
       ]
      },
      {
       "output_type": "stream",
       "stream": "stdout",
       "text": [
        " 0.052858732842 18 0.0834532218807 27 1.06721269718",
        "time: 15.6",
        "0.441747029239"
       ]
      },
      {
       "output_type": "stream",
       "stream": "stdout",
       "text": [
        " 0.0512831898361 18 0.0895959595241 28 1.21787486992",
        "time: 16.1",
        "0.428580019648"
       ]
      },
      {
       "output_type": "stream",
       "stream": "stdout",
       "text": [
        " 0.0497546085266 18 0.0955698133235 29 1.36747046252",
        "time: 16.6",
        "trying again:"
       ]
      },
      {
       "output_type": "stream",
       "stream": "stdout",
       "text": [
        " 4 failing: [1772] 21",
        "0.415805474817"
       ]
      },
      {
       "output_type": "stream",
       "stream": "stdout",
       "text": [
        " 0.0482715891415 19 0.10150682157 30 1.5285892661",
        "time: 17.6",
        "0.403411696676"
       ]
      },
      {
       "output_type": "stream",
       "stream": "stdout",
       "text": [
        " 0.0468327736315 23 0.108022066729 31 1.77260803136",
        "time: 18.1",
        "0.391387335836"
       ]
      },
      {
       "output_type": "stream",
       "stream": "stdout",
       "text": [
        " 0.0454368444259 23 0.1148297385 32 2.04780766995",
        "time: 18.7",
        "0.379721381198"
       ]
      },
      {
       "output_type": "stream",
       "stream": "stdout",
       "text": [
        " 0.0440825232268 26 0.121585392476 33 2.32198803667",
        "time: 19.2",
        "0.368403149864"
       ]
      },
      {
       "output_type": "stream",
       "stream": "stdout",
       "text": [
        " 0.0427685698379 27 0.128422229126 34 2.60750839323",
        "time: 19.8",
        "0.357422277359"
       ]
      },
      {
       "output_type": "stream",
       "stream": "stdout",
       "text": [
        " 0.041493781029 28 0.135121140282 35 2.89310854117",
        "time: 20.4",
        "0.346768708138"
       ]
      },
      {
       "output_type": "stream",
       "stream": "stdout",
       "text": [
        " 0.0402569894342 29 0.141695414124 36 3.1788652801",
        "time: 20.9",
        "trying again:"
       ]
      },
      {
       "output_type": "stream",
       "stream": "stdout",
       "text": [
        " 5 failing: [404] 40",
        "0.33643268638"
       ]
      },
      {
       "output_type": "stream",
       "stream": "stdout",
       "text": [
        " 0.0390570624831 32 0.14827516781 37 3.47006763471",
        "time: 22.2"
       ]
      },
      {
       "output_type": "stream",
       "stream": "stdout",
       "text": [
        "",
        "0.32640474705"
       ]
      },
      {
       "output_type": "stream",
       "stream": "stdout",
       "text": [
        " 0.0378929013631 39 0.155216408521 38 3.81017498595",
        "time: 22.9"
       ]
      },
      {
       "output_type": "stream",
       "stream": "stdout",
       "text": [
        "",
        "0.316675707237"
       ]
      },
      {
       "output_type": "stream",
       "stream": "stdout",
       "text": [
        " 0.0367634400138 44 0.162613893172 39 4.21162570266",
        "time: 23.5",
        "0.30723665774"
       ]
      },
      {
       "output_type": "stream",
       "stream": "stdout",
       "text": [
        " 0.0356676441506 46 0.170263204895 40 4.62519302711",
        "time: 24.1",
        "trying again:"
       ]
      },
      {
       "output_type": "stream",
       "stream": "stdout",
       "text": [
        " 6 failing: [22695] 68",
        "0.298078954911"
       ]
      },
      {
       "output_type": "stream",
       "stream": "stdout",
       "text": [
        " 0.0346045103171 53 0.177919341186 41 5.05482982612",
        "time: 25.3",
        "0.289194212743"
       ]
      },
      {
       "output_type": "stream",
       "stream": "stdout",
       "text": [
        " 0.033573064967 60 0.185812995551 42 5.51390662487",
        "time: 25.9",
        "0.280574295187"
       ]
      },
      {
       "output_type": "stream",
       "stream": "stdout",
       "text": [
        " 0.032572363572 62 0.193931882695 43 5.99946251354",
        "time: 26.6",
        "0.272211308701"
       ]
      },
      {
       "output_type": "stream",
       "stream": "stdout",
       "text": [
        " 0.0316014897569 68 0.202428293556 44 6.56508321636",
        "time: 27.4"
       ]
      },
      {
       "output_type": "stream",
       "stream": "stdout",
       "text": [
        "",
        "0.264097595025"
       ]
      },
      {
       "output_type": "stream",
       "stream": "stdout",
       "text": [
        " 0.030659554461 75 0.211049081153 45 7.14957824209",
        "time: 28.1",
        "trying again:"
       ]
      },
      {
       "output_type": "stream",
       "stream": "stdout",
       "text": [
        " 7 failing: [  9022  49497 131990] 111",
        "0.256225724166"
       ]
      },
      {
       "output_type": "stream",
       "stream": "stdout",
       "text": [
        " 0.0297456951231 85 0.220288985593 46 7.83697723778",
        "time: 29.3",
        "0.248588487593"
       ]
      },
      {
       "output_type": "stream",
       "stream": "stdout",
       "text": [
        " 0.0288590748924 93 0.229618085033 47 8.54475735146",
        "time: 30.0"
       ]
      },
      {
       "output_type": "stream",
       "stream": "stdout",
       "text": [
        "",
        "0.24117889164"
       ]
      },
      {
       "output_type": "stream",
       "stream": "stdout",
       "text": [
        " 0.0279988818617 97 0.238899514945 48 9.27187864382",
        "time: 30.8",
        "0.233990151096"
       ]
      },
      {
       "output_type": "stream",
       "stream": "stdout",
       "text": [
        " 0.0271643283241 102 0.248066493932 49 10.012881126",
        "time: 31.5"
       ]
      },
      {
       "output_type": "stream",
       "stream": "stdout",
       "text": [
        "",
        "0.227015682996"
       ]
      },
      {
       "output_type": "stream",
       "stream": "stdout",
       "text": [
        " 0.0263546500514 107 0.257195900104 50 10.7776036197",
        "time: 32.2",
        "trying again:"
       ]
      },
      {
       "output_type": "stream",
       "stream": "stdout",
       "text": [
        " 8 failing: [391546] 178",
        "0.220249100591"
       ]
      },
      {
       "output_type": "stream",
       "stream": "stdout",
       "text": [
        " 0.0255691055949 115 0.26637156684 51 11.5798631698",
        "time: 33.7",
        "0.213684207501"
       ]
      },
      {
       "output_type": "stream",
       "stream": "stdout",
       "text": [
        " 0.0248069756058 118 0.275430367701 52 12.3933257914",
        "time: 34.6",
        "0.207314992038"
       ]
      },
      {
       "output_type": "stream",
       "stream": "stdout",
       "text": [
        " 0.0240675621766 124 0.284345936268 53 13.2233784872",
        "time: 35.6"
       ]
      },
      {
       "output_type": "stream",
       "stream": "stdout",
       "text": [
        "",
        "0.201135621702"
       ]
      },
      {
       "output_type": "stream",
       "stream": "stdout",
       "text": [
        " 0.0233501882023 132 0.293326583751 54 14.1097292518",
        "time: 36.8",
        "0.195140437841"
       ]
      },
      {
       "output_type": "stream",
       "stream": "stdout",
       "text": [
        " 0.02265419676 139 0.302335379351 55 15.0508517357",
        "time: 37.9",
        "trying again:"
       ]
      },
      {
       "output_type": "stream",
       "stream": "stdout",
       "text": [
        " 9 failing: [122914 208413 208414 345010 345011 350619 395101] 215",
        "0.189323950471"
       ]
      },
      {
       "output_type": "stream",
       "stream": "stdout",
       "text": [
        " 0.0219789505076 151 0.311404412396 56 16.1097332097",
        "time: 39.7",
        "0.183680833242"
       ]
      },
      {
       "output_type": "stream",
       "stream": "stdout",
       "text": [
        " 0.0213238310999 159 0.320430203097 57 17.2296052589",
        "time: 41.0"
       ]
      },
      {
       "output_type": "stream",
       "stream": "stdout",
       "text": [
        "",
        "0.178205918567"
       ]
      },
      {
       "output_type": "stream",
       "stream": "stdout",
       "text": [
        " 0.0206882386227 166 0.329457241749 58 18.3884195532",
        "time: 42.2",
        "0.172894192888"
       ]
      },
      {
       "output_type": "stream",
       "stream": "stdout",
       "text": [
        " 0.0200715910431 179 0.338492256222 59 19.6292669797",
        "time: 43.4",
        "trying again:"
       ]
      },
      {
       "output_type": "stream",
       "stream": "stdout",
       "text": [
        " 10 failing: [165840] 321",
        "0.167740792083"
       ]
      },
      {
       "output_type": "stream",
       "stream": "stdout",
       "text": [
        " 0.0194733236768 185 0.347525930973 60 20.9912050675",
        "time: 45.0",
        "0.162740997015"
       ]
      },
      {
       "output_type": "stream",
       "stream": "stdout",
       "text": [
        " 0.0188928886707 197 0.356485738408 61 22.4208490934",
        "time: 46.1",
        "0.157890229207"
       ]
      },
      {
       "output_type": "stream",
       "stream": "stdout",
       "text": [
        " 0.0183297545014 203 0.365405464459 62 23.9347151324",
        "time: 47.3",
        "0.153184046653"
       ]
      },
      {
       "output_type": "stream",
       "stream": "stdout",
       "text": [
        " 0.0177834054887 218 0.374300736166 63 25.5420226759",
        "time: 48.5",
        "trying again:"
       ]
      },
      {
       "output_type": "stream",
       "stream": "stdout",
       "text": [
        " 11 failing: [401543 401544 401547] 415",
        "0.148618139747"
       ]
      },
      {
       "output_type": "stream",
       "stream": "stdout",
       "text": [
        " 0.0172533413227 226 0.38313909251 64 27.3078325366",
        "time: 50.2",
        "0.144188327339"
       ]
      },
      {
       "output_type": "stream",
       "stream": "stdout",
       "text": [
        " 0.0167390766064 241 0.391985421279 65 29.2570579388",
        "time: 51.5",
        "0.139890552904"
       ]
      },
      {
       "output_type": "stream",
       "stream": "stdout",
       "text": [
        " 0.0162401404107 252 0.400817423347 66 31.3325519328",
        "time: 52.7"
       ]
      },
      {
       "output_type": "stream",
       "stream": "stdout",
       "text": [
        "",
        "trying again:"
       ]
      },
      {
       "output_type": "stream",
       "stream": "stdout",
       "text": [
        " 12 failing: [165931 165938] 557",
        "0.13572088083"
       ]
      },
      {
       "output_type": "stream",
       "stream": "stdout",
       "text": [
        " 0.0157560758435 268 0.409635917762 67 33.5554831944",
        "time: 54.6",
        "0.131675492811"
       ]
      },
      {
       "output_type": "stream",
       "stream": "stdout",
       "text": [
        " 0.0152864396308 290 0.418425044685 68 35.9479843128",
        "time: 55.8",
        "0.127750684352"
       ]
      },
      {
       "output_type": "stream",
       "stream": "stdout",
       "text": [
        " 0.0148308017116 320 0.427158846253 69 38.4552616324",
        "time: 57.0",
        "0.12394286138"
       ]
      },
      {
       "output_type": "stream",
       "stream": "stdout",
       "text": [
        " 0.0143887448432 343 0.435893179892 70 41.1050793194",
        "time: 58.2",
        "trying again:"
       ]
      },
      {
       "output_type": "stream",
       "stream": "stdout",
       "text": [
        " 13 failing: [240385 286085 286089 306975 306976 306977 306978 306979 306980 306982",
        " 306984 306986 306988 306990 309397] 749",
        "0.120248536944"
       ]
      },
      {
       "output_type": "stream",
       "stream": "stdout",
       "text": [
        " 0.0139598642197 379 0.444784137578 71 44.321397222",
        "time: 60.5",
        "0.116664328032"
       ]
      },
      {
       "output_type": "stream",
       "stream": "stdout",
       "text": [
        " 0.0135437671009 425 0.453555639385 72 47.5754041084",
        "time: 62.1",
        "0.113186952465"
       ]
      },
      {
       "output_type": "stream",
       "stream": "stdout",
       "text": [
        " 0.0131400724533 452 0.462404840502 73 51.3219126349",
        "time: 64.4",
        "0.109813225897"
       ]
      },
      {
       "output_type": "stream",
       "stream": "stdout",
       "text": [
        " 0.0127484106003 479 0.47119917332 74 55.2350020849",
        "time: 65.9",
        "trying again:"
       ]
      },
      {
       "output_type": "stream",
       "stream": "stdout",
       "text": [
        " 14 failing: [258443 258446 258449 297239 341003 341004 341006] 948",
        "0.106540058897"
       ]
      },
      {
       "output_type": "stream",
       "stream": "stdout",
       "text": [
        " 0.0123684228844 503 0.479951135031 75 59.4974234157",
        "time: 68.0",
        "0.103364454118"
       ]
      },
      {
       "output_type": "stream",
       "stream": "stdout",
       "text": [
        " 0.0119997613384 530 0.48863846076 76 63.9326198936",
        "time: 69.3",
        "0.100283503554"
       ]
      },
      {
       "output_type": "stream",
       "stream": "stdout",
       "text": [
        " 0.0116420883669 599 0.497435841509 77 68.8357751482",
        "time: 70.5",
        "0.0972943858788"
       ]
      },
      {
       "output_type": "stream",
       "stream": "stdout",
       "text": [
        " 0.0112950764369 624 0.506309818409 78 74.2839566982",
        "time: 72.1",
        "trying again:"
       ]
      },
      {
       "output_type": "stream",
       "stream": "stdout",
       "text": [
        " 15 failing: [106141 158697 244159 420544 479661 651505] 1417",
        "0.094394363859"
       ]
      },
      {
       "output_type": "stream",
       "stream": "stdout",
       "text": [
        " 0.0109584077783 681 0.51512454147 79 80.0890553967",
        "time: 74.3",
        "0.0915807818494"
       ]
      },
      {
       "output_type": "stream",
       "stream": "stdout",
       "text": [
        " 0.0106317740925 756 0.52394668147 80 86.5340771064",
        "time: 76.2",
        "0.0888510633609"
       ]
      },
      {
       "output_type": "stream",
       "stream": "stdout",
       "text": [
        " 0.0103148762705 789 0.532752120345 81 93.4549780403",
        "time: 77.6",
        "trying again:"
       ]
      },
      {
       "output_type": "stream",
       "stream": "stdout",
       "text": [
        " 16 failing: [531132] 1826",
        "0.0862027087009"
       ]
      },
      {
       "output_type": "stream",
       "stream": "stdout",
       "text": [
        " 0.0100074241185 825 0.541552739048 82 100.917962775",
        "time: 81.4"
       ]
      },
      {
       "output_type": "stream",
       "stream": "stdout",
       "text": [
        "",
        "0.0836332926842"
       ]
      },
      {
       "output_type": "stream",
       "stream": "stdout",
       "text": [
        " 0.00970913609251 868 0.550354324501 83 109.080828948",
        "time: 82.8",
        "0.0811404624126"
       ]
      },
      {
       "output_type": "stream",
       "stream": "stdout",
       "text": [
        " 0.00941973904038 940 0.559151569942 84 117.858110898",
        "time: 85.3",
        "trying again:"
       ]
      },
      {
       "output_type": "stream",
       "stream": "stdout",
       "text": [
        " 17 failing: [589171] 2211",
        "0.0787219351197"
       ]
      },
      {
       "output_type": "stream",
       "stream": "stdout",
       "text": [
        " 0.00913896795177 985 0.568058052797 85 127.904610108",
        "time: 88.9",
        "0.0763754960807"
       ]
      },
      {
       "output_type": "stream",
       "stream": "stdout",
       "text": [
        " 0.00886656571541 1039 0.576967586105 86 138.711550138",
        "time: 90.3",
        "0.0740989965848"
       ]
      },
      {
       "output_type": "stream",
       "stream": "stdout",
       "text": [
        " 0.00860228288364 1104 0.58583137514 87 150.206270087",
        "time: 91.6",
        "trying again:"
       ]
      },
      {
       "output_type": "stream",
       "stream": "stdout",
       "text": [
        " 18 failing: [ 70972 505827 505828 538258 538259 538260 538261 538262 538263 538264",
        " 538265 538266 538270 538271 538272 538273 538274 538275 538276 538277",
        " 538278 538279 538280 538281 538282 538283 538284 538285 538286 538287",
        " 538288 538289 538290 538291 538292 538293 538294 538295 538296 538297",
        " 538298 538299 538300 538301 538302 538303 553702] 2856",
        "0.0718903519666"
       ]
      },
      {
       "output_type": "stream",
       "stream": "stdout",
       "text": [
        " 0.00834587744402 1260 0.594639476837 88 162.469189748",
        "time: 95.6",
        "0.0697475396981"
       ]
      },
      {
       "output_type": "stream",
       "stream": "stdout",
       "text": [
        " 0.0080971145977 1349 0.60337966041 89 175.521955508",
        "time: 97.0",
        "0.0676685975358"
       ]
      },
      {
       "output_type": "stream",
       "stream": "stdout",
       "text": [
        " 0.00785576654438 1472 0.612059582662 90 189.450103873",
        "time: 100.4",
        "trying again:"
       ]
      },
      {
       "output_type": "stream",
       "stream": "stdout",
       "text": [
        " 19 failing: [312269 529122 529123 529124 618065] 3665",
        "0.0656516217244"
       ]
      },
      {
       "output_type": "stream",
       "stream": "stdout",
       "text": [
        " 0.00762161227375 1565 0.620680784715 91 204.251590817",
        "time: 104.0",
        "0.063694765253"
       ]
      },
      {
       "output_type": "stream",
       "stream": "stdout",
       "text": [
        " 0.00739443736308 1803 0.629279657028 92 220.211934249",
        "time: 107.2",
        "0.061796236164"
       ]
      },
      {
       "output_type": "stream",
       "stream": "stdout",
       "text": [
        " 0.00717403378086 1954 0.637833467117 93 237.202189549",
        "time: 111.2",
        ""
       ]
      },
      {
       "output_type": "stream",
       "stream": "stdout",
       "text": [
        "trying again: 20 failing: [ 19055 531725] 4658",
        "0.0599542959122"
       ]
      },
      {
       "output_type": "stream",
       "stream": "stdout",
       "text": [
        " 0.00696019969631 2039 0.646313833867 94 "
       ]
      },
      {
       "output_type": "stream",
       "stream": "stdout",
       "text": [
        "254.847407842",
        "time: 116.2"
       ]
      },
      {
       "output_type": "stream",
       "stream": "stdout",
       "text": [
        "",
        "0.0581672577727"
       ]
      },
      {
       "output_type": "stream",
       "stream": "stdout",
       "text": [
        " 0.00675273929457 2131 0.654745006584 95 273.431854822",
        "time: 118.6",
        "0.0564334852959"
       ]
      },
      {
       "output_type": "stream",
       "stream": "stdout",
       "text": [
        " 0.00655146259734 2231 0.663158800902 96 293.271702197",
        "time: 121.2",
        "trying again:"
       ]
      },
      {
       "output_type": "stream",
       "stream": "stdout",
       "text": [
        " 21 failing: [486903 545426 611509] 5679",
        "0.0547513908098"
       ]
      },
      {
       "output_type": "stream",
       "stream": "stdout",
       "text": [
        " 0.00635618528896 2314 0.671485063492 97 313.945396273",
        "time: 127.6",
        "0.0531194339653"
       ]
      },
      {
       "output_type": "stream",
       "stream": "stdout",
       "text": [
        " 0.00616672854761 2425 0.679697656705 98 335.398885225",
        "time: 130.3",
        "0.0515361203261"
       ]
      },
      {
       "output_type": "stream",
       "stream": "stdout",
       "text": [
        " 0.00598291888154 2496 0.68779547249 99 357.704143893",
        "time: 135.2",
        ""
       ]
      }
     ],
     "prompt_number": 27
    },
    {
     "cell_type": "markdown",
     "source": [
      "We finally define our problem, by restricting interest to only some columns."
     ]
    },
    {
     "cell_type": "code",
     "collapsed": false,
     "input": [
      "%%R",
      "library(glmnet)",
      "library(Matrix)",
      "load(\"NewsGroup.RData\")",
      "",
      "newsX=NewsGroup$x",
      "newsy=NewsGroup$y",
      "",
      "",
      "x=newsX",
      "y=(newsy+1)/2",
      "n=nrow(newsX)",
      "p=ncol(newsX)"
     ],
     "language": "python",
     "outputs": [
      {
       "output_type": "display_data",
       "text": [
        "Loading required package: Matrix",
        "Loading required package: lattice",
        "Loaded glmnet 1.7.4",
        "",
        ""
       ]
      }
     ],
     "prompt_number": 28
    },
    {
     "cell_type": "code",
     "collapsed": false,
     "input": [
      "import time",
      "",
      "toc = time.time()",
      "",
      "%R a=glmnet(x,as.factor(y),stand=TRUE,family=\"binomial\",lambda.min=0.05); print(a$names)",
      "",
      "tic = time.time()",
      "print 'R time: %0.1f ' % (tic-toc)"
     ],
     "language": "python",
     "outputs": [
      {
       "output_type": "display_data",
       "text": [
        "NULL",
        ""
       ]
      },
      {
       "output_type": "stream",
       "stream": "stdout",
       "text": [
        "R time: 62.0 ",
        ""
       ]
      }
     ],
     "prompt_number": 36
    },
    {
     "cell_type": "code",
     "collapsed": false,
     "input": [
      "%%R",
      "newsgroupFit=list(a=a)",
      "save(newsgroupFit,file=\"newsgroupFit.RData\")",
      "l1norm = apply(abs(a$beta), 2, sum)",
      "write.table(data.frame(lagrange=a$lambda, devratio=a$dev.ratio, df=a$df, l1=l1norm), 'newsgroup_output.csv',row.names=FALSE, sep=',')",
      "",
      ""
     ],
     "language": "python",
     "outputs": [
      {
       "output_type": "display_data",
       "text": [
        "Error in asMethod(object) : ",
        "  Cholmod error 'out of memory' at file ../Core/cholmod_memory.c, line 148",
        "ERROR parsing \"newsgroupFit=list(a=a)",
        "save(newsgroupFit,file=\"newsgroupFit.RData\")",
        "l1norm = apply(abs(a$beta), 2, sum)",
        "write.table(data.frame(lagrange=a$lambda, devratio=a$dev.ratio, df=a$df, l1=l1norm), 'newsgroup_output.csv',row.names=FALSE, sep=',')",
        "",
        "\": Error in asMethod(object) : ",
        "  Cholmod error 'out of memory' at file ../Core/cholmod_memory.c, line 148",
        "",
        ""
       ]
      }
     ],
     "prompt_number": 37
    },
    {
     "cell_type": "code",
     "collapsed": true,
     "input": [
      ""
     ],
     "language": "python",
     "outputs": []
    }
   ]
  }
 ]
}